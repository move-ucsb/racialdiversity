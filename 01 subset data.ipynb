{
 "cells": [
  {
   "cell_type": "code",
   "execution_count": 1,
   "id": "b73691b1-c52d-48d2-90fa-90712c30f3ad",
   "metadata": {},
   "outputs": [],
   "source": [
    "%reload_ext sql\n",
    "%config SqlMagic.autocommit=False\n",
    "%config SqlMagic.autolimit=0\n",
    "%config SqlMagic.autopandas=True\n",
    "%config SqlMagic.displaylimit=200\n",
    "%sql trino://localhost:9090/cuebiq/\n",
    "\n",
    "import pandas as pd\n",
    "import yaml\n",
    "import numpy as np\n",
    "import os\n",
    "from pyhive import trino\n",
    "import pydeck as pdk\n",
    "from typing import List\n",
    "import json\n",
    "import copy\n",
    "import itertools\n",
    "# import geohash\n",
    "import geopandas as geopd\n",
    "from pyquadkey2 import quadkey\n",
    "from pyquadkey2.quadkey import TileAnchor, QuadKey\n",
    "from h3 import h3\n",
    "import seaborn as sns\n",
    "from datetime import datetime, timedelta\n",
    "import math\n",
    "import pickle\n",
    "\n",
    "os.environ['MAPBOX_API_KEY'] = \"INSERT YOUR MAPBOX TOKEN HERE\"\n",
    "pd.set_option('display.max_colwidth', 0)\n",
    "pd.set_option('display.max_rows', 500)\n",
    "pd.set_option('display.max_columns', 500)\n",
    "pd.set_option('display.width', 1000)\n",
    "import warnings\n",
    "warnings.filterwarnings('ignore')"
   ]
  },
  {
   "cell_type": "code",
   "execution_count": 2,
   "id": "58a8f8b8-d1bc-4f2e-ac78-4d8471586ac0",
   "metadata": {},
   "outputs": [],
   "source": [
    "# SQL engine\n",
    "from trino.dbapi import connect \n",
    "from sqlalchemy import create_engine\n",
    "\n",
    "class TrinoEngine():\n",
    "    def __init__(self):\n",
    "        conn = connect(\n",
    "            host=\"localhost\",\n",
    "            port=9090,\n",
    "            catalog=\"cuebiq\"\n",
    "        )\n",
    "        self.cur = conn.cursor()\n",
    "        self.engine = create_engine(\"trino://localhost:9090/cuebiq/\")\n",
    "    \n",
    "    def execute_statement(self, query:str) -> list:\n",
    "        \"\"\"\n",
    "        Create and drop statements.\n",
    "        \"\"\"\n",
    "        self.cur.execute(query)\n",
    "        return self.cur.fetchall()\n",
    "    \n",
    "    def read_sql(self, query:str) -> pd.DataFrame: \n",
    "        \"\"\"\n",
    "        Select and insert into operations.\n",
    "        \"\"\"\n",
    "        return pd.read_sql(query, self.engine)\n",
    "\n",
    "sql_engine = TrinoEngine()"
   ]
  },
  {
   "cell_type": "code",
   "execution_count": 3,
   "id": "583bcd1c-7027-42a4-a5a0-f01c4c51114a",
   "metadata": {},
   "outputs": [],
   "source": [
    "# Census Block Groups typically have a population between 600 to 3000 people, this makes the data privacy safe.\n",
    "geography_table = \"cuebiq.paas_cda_pe_v3.geography_registry\"\n",
    "visit_table = \"cuebiq.paas_cda_pe_v3.visit\""
   ]
  },
  {
   "cell_type": "markdown",
   "id": "cad665f6-ae3d-46b3-a57c-07a20e1325d1",
   "metadata": {},
   "source": [
    "# A. Extract visit table - one day"
   ]
  },
  {
   "cell_type": "code",
   "execution_count": 6,
   "id": "50b5c6e5-b320-44b2-9c4b-63220d204491",
   "metadata": {},
   "outputs": [],
   "source": [
    "date = 20220310 # Thursday\n",
    "date_plus = int((datetime.strptime(str(date), \"%Y%m%d\") + timedelta(days=3)).strftime(\"%Y%m%d\"))# You see that we can limit to the first three processing dates starting from the local date of interest."
   ]
  },
  {
   "cell_type": "code",
   "execution_count": 66,
   "id": "c27d749c-dd29-4419-b84c-06df4bfb194d",
   "metadata": {},
   "outputs": [],
   "source": [
    "# sql_engine.read_sql(f\"\"\"\n",
    "# SELECT from_iso8601_timestamp('2022-03-10T13:54:09-08:00') AT TIME ZONE 'UTC'\n",
    "# \"\"\")"
   ]
  },
  {
   "cell_type": "code",
   "execution_count": 65,
   "id": "48a09240-cfb5-47bf-a7ff-6e7a45809552",
   "metadata": {},
   "outputs": [],
   "source": [
    "# sql_engine.read_sql(f\"\"\"\n",
    "# SELECT from_iso8601_timestamp('2022-03-10T13:54:09-08:00') AT TIME ZONE '-08:00'\n",
    "# \"\"\")"
   ]
  },
  {
   "cell_type": "code",
   "execution_count": 28,
   "id": "5445af0f-298d-48cc-81dd-4ae4c8fb92a2",
   "metadata": {},
   "outputs": [],
   "source": [
    "# test = sql_engine.read_sql(f\"\"\"\n",
    "#         select\n",
    "#             *, \n",
    "#             from_iso8601_timestamp(zoned_datetime) as start_time, \n",
    "#             date_add('second', cast(dwell_time_minutes * 60 as bigint), from_iso8601_timestamp(zoned_datetime)) as end_time\n",
    "#         from {visit_table}\n",
    "#         where \n",
    "#             country_code = 'US'\n",
    "#             and provider_id = '190199'\n",
    "#             and processing_date between {date} and {date_plus}\n",
    "#             and event_date = {date}\n",
    "#             and admin2_id = 'US.CA.037'\n",
    "#             and dwell_time_minutes < 1440\n",
    "#         limit 10\n",
    "#         \"\"\"\n",
    "# )\n",
    "# test.head()"
   ]
  },
  {
   "cell_type": "code",
   "execution_count": null,
   "id": "9bc7ba34-787e-494c-ae2a-8f2035c4ec04",
   "metadata": {},
   "outputs": [],
   "source": [
    "# from_iso8601_timestamp(zoned_datetime) as start_time, \n",
    "# date_add('second', cast(dwell_time_minutes * 60 as bigint), from_iso8601_timestamp(zoned_datetime)) as end_time"
   ]
  },
  {
   "cell_type": "code",
   "execution_count": 1,
   "id": "5e613566-8347-4f8b-adf8-c76a8a97e9c9",
   "metadata": {},
   "outputs": [],
   "source": [
    "%%time\n",
    "# 264083\n",
    "# CPU times: user 12.2 s, sys: 387 ms, total: 12.6 s\n",
    "# Wall time: 1min 7s\n",
    "\n",
    "df_visit_LA = sql_engine.read_sql(f\"\"\"\n",
    "    with la_visit as (\n",
    "        select\n",
    "            *\n",
    "        from {visit_table}\n",
    "        where \n",
    "            country_code = 'US'\n",
    "            and provider_id = '190199'\n",
    "            and processing_date between {date} and {date_plus}\n",
    "            and event_date = {date}\n",
    "            and admin2_id = 'US.CA.037'\n",
    "            and dwell_time_minutes < 1440\n",
    "        ),\n",
    "        \n",
    "        la_cbg as (\n",
    "        select\n",
    "            geography_id, geometry_wkt\n",
    "        from {geography_table}\n",
    "        where\n",
    "            country_code = 'US'\n",
    "            and geography_type_code = 'admin4'\n",
    "            and geography_id like 'US.CA.037%'     --- <<< filter geometries in LA\n",
    "        )\n",
    "        \n",
    "        select\n",
    "        *\n",
    "        from la_visit s\n",
    "        inner join la_cbg c\n",
    "        on st_contains(st_geometryfromtext(c.geometry_wkt), st_point(s.lng, s.lat))\n",
    "        \"\"\"\n",
    ")\n",
    "\n",
    "print(df_visit_LA.shape[0])\n",
    "df_visit_LA.drop(['zipcode_id','place_version','processing_date','country_code',\n",
    "                 'geometry_wkt','admin1_id','device_type_code','os_name','provider_id'], inplace=True, axis=1)\n",
    "df_visit_LA.head()"
   ]
  },
  {
   "cell_type": "code",
   "execution_count": null,
   "id": "7d965044-d2b6-4c2d-bd72-c6271a8d6394",
   "metadata": {},
   "outputs": [],
   "source": [
    "%%time\n",
    "#create start_time, end_time, start_hour, and end_hour columns\n",
    "df_visit_LA['start_time'] =  df_visit_LA['zoned_datetime'].astype(str).str[:19]\n",
    "df_visit_LA['start_time'] = pd.to_datetime(df_visit_LA['start_time'], errors='coerce')\n",
    "df_visit_LA['time_added'] = pd.to_timedelta(df_visit_LA['dwell_time_minutes'],'m')\n",
    "df_visit_LA['end_time'] = df_visit_LA['start_time'] + df_visit_LA['time_added']\n",
    "df_visit_LA['start_hour'] = df_visit_LA['start_time'].dt.hour\n",
    "df_visit_LA['end_hour'] = df_visit_LA['end_time'].dt.hour\n",
    "df_visit_LA.drop(['time_added'], inplace=True, axis=1)\n",
    "df_visit_LA.head()"
   ]
  },
  {
   "cell_type": "code",
   "execution_count": null,
   "id": "0f11f0f9-5afc-4681-ad38-502f20f1c1d2",
   "metadata": {},
   "outputs": [],
   "source": [
    "# df_visit_LA.to_pickle(\"./output/LA_visit_\"+str(date)+\".pkl\")  \n",
    "# df_visit_LA = pd.read_pickle(\"./output/LA_visit_\"+str(date)+\".pkl\")"
   ]
  },
  {
   "cell_type": "markdown",
   "id": "375689c7-a9ed-4c58-8257-b449f55de876",
   "metadata": {},
   "source": [
    "# B. Extract visit table - time range"
   ]
  },
  {
   "cell_type": "code",
   "execution_count": 6,
   "id": "ff3c21ae-793f-43be-baef-474aa529339f",
   "metadata": {},
   "outputs": [],
   "source": [
    "#March 2022: \n",
    "#weekend days: 20220305,20220306,20220312,20220313,20220319,20220320,20220326,20220327\n",
    "\n",
    "#20220301,20220308\n",
    "#20220309,20220316\n",
    "#20220317,20220323\n",
    "#20220324,20220331\n",
    "start_date,end_date = 20220301,20220308\n",
    "end_date_plus = int((datetime.strptime(str(end_date), \"%Y%m%d\") + timedelta(days=3)).strftime(\"%Y%m%d\"))# You see that we can limit to the first three processing dates starting from the local date of interest."
   ]
  },
  {
   "cell_type": "code",
   "execution_count": 8,
   "id": "04c4a9dc-2729-45c2-8089-8c48fbb68806",
   "metadata": {},
   "outputs": [],
   "source": [
    "# from_iso8601_timestamp(zoned_datetime) as start_time, \n",
    "# date_add('second', cast(dwell_time_minutes * 60 as bigint), from_iso8601_timestamp(zoned_datetime)) as end_time"
   ]
  },
  {
   "cell_type": "code",
   "execution_count": 2,
   "id": "c807fd28-dfaf-4e45-9713-58113bb4bdd1",
   "metadata": {},
   "outputs": [],
   "source": [
    "%%time\n",
    "\n",
    "df_visit_LA_range = sql_engine.read_sql(f\"\"\"\n",
    "    with la_visit as (\n",
    "        select\n",
    "            *\n",
    "        from {visit_table}\n",
    "        where \n",
    "            country_code = 'US'\n",
    "            and provider_id = '190199'\n",
    "            and processing_date between {start_date} and {end_date_plus}\n",
    "            and event_date between {start_date} and {end_date}\n",
    "            and admin2_id = 'US.CA.037'     --- <<< filter geometries in LA\n",
    "        ),\n",
    "        \n",
    "        la_cbg as (\n",
    "        select\n",
    "            geography_id, geometry_wkt\n",
    "        from {geography_table}\n",
    "        where\n",
    "            country_code = 'US'\n",
    "            and geography_type_code = 'admin4'\n",
    "            and geography_id like 'US.CA.037%'     --- <<< filter geometries in LA\n",
    "        )\n",
    "        \n",
    "        select\n",
    "        *\n",
    "        from la_visit s\n",
    "        inner join la_cbg c\n",
    "        on st_contains(st_geometryfromtext(c.geometry_wkt), st_point(s.lng, s.lat))\n",
    "        \"\"\"\n",
    ")\n",
    "\n",
    "print(df_visit_LA_range.shape[0])\n",
    "df_visit_LA_range.drop(['zipcode_id','place_version','processing_date','country_code',\n",
    "                 'geometry_wkt','admin1_id','device_type_code','os_name','provider_id'], inplace=True, axis=1)\n",
    "df_visit_LA_range.head()"
   ]
  },
  {
   "cell_type": "code",
   "execution_count": 3,
   "id": "6e4d961e-c7f2-4b1c-9eee-b900deb29612",
   "metadata": {},
   "outputs": [],
   "source": [
    "%%time \n",
    "#create start_time, end_time, start_hour, and end_hour columns\n",
    "df_visit_LA_range['start_time'] =  df_visit_LA_range['zoned_datetime'].astype(str).str[:19]\n",
    "df_visit_LA_range['start_time'] = pd.to_datetime(df_visit_LA_range['start_time'], errors='coerce')\n",
    "df_visit_LA_range['time_added'] = pd.to_timedelta(df_visit_LA_range['dwell_time_minutes'],'m')\n",
    "df_visit_LA_range['end_time'] = df_visit_LA_range['start_time'] + df_visit_LA_range['time_added']\n",
    "df_visit_LA_range['start_hour'] = df_visit_LA_range['start_time'].dt.hour\n",
    "df_visit_LA_range['end_hour'] = df_visit_LA_range['end_time'].dt.hour\n",
    "df_visit_LA_range.drop(['time_added'], inplace=True, axis=1)\n",
    "df_visit_LA_range.head()"
   ]
  },
  {
   "cell_type": "code",
   "execution_count": 30,
   "id": "caed3cc5-b498-4d1d-875c-60a1c749eb7e",
   "metadata": {},
   "outputs": [],
   "source": [
    "## Voided, not useful\n",
    "# df_visit_LA_range['start_time'] = df_visit_LA_range['zoned_datetime'].dt.tz_convert('America/Los_Angeles')\n",
    "# df_visit_LA_range['end_time'] = df_visit_LA_range['end_time'].dt.tz_convert('America/Los_Angeles')\n",
    "# df_visit_LA_range['start_time']  = df_visit_LA_range['start_time'].dt.tz_localize(None)\n",
    "# df_visit_LA_range['end_time']  = df_visit_LA_range['end_time'].dt.tz_localize(None)\n",
    "# df_visit_LA_range['start_hour'] = df_visit_LA_range['start_time'].dt.hour\n",
    "# df_visit_LA_range['end_hour'] = df_visit_LA_range['end_time'].dt.hour"
   ]
  },
  {
   "cell_type": "code",
   "execution_count": 23,
   "id": "fcc5f7dd-b07e-44c7-bcef-d554bcec1338",
   "metadata": {},
   "outputs": [],
   "source": [
    "# df_visit_LA_range.to_pickle(\"./output/LA_visit_\"+str(start_date)+'_'+str(end_date)+\".pkl\")  \n",
    "# df_visit_LA_range = pd.read_pickle(\"./output/LA_visit_\"+str(start_date)+'_'+str(end_date)+\".pkl\")"
   ]
  },
  {
   "cell_type": "markdown",
   "id": "457ea416-b5cb-4523-94e6-31c3c09afced",
   "metadata": {},
   "source": [
    "# Don't run below"
   ]
  },
  {
   "cell_type": "code",
   "execution_count": 9,
   "id": "39d23f2e-09cb-45fc-8fbe-80c536995cac",
   "metadata": {},
   "outputs": [
    {
     "name": "stdout",
     "output_type": "stream",
     "text": [
      "CPU times: user 86.5 ms, sys: 617 µs, total: 87.1 ms\n",
      "Wall time: 6.29 s\n"
     ]
    }
   ],
   "source": [
    "%%time\n",
    "# read LA CBG data\n",
    "cbg_geom = sql_engine.read_sql(\n",
    "    f\"\"\"\n",
    "    select\n",
    "        geography_id, geometry_wkt\n",
    "    from {geography_table}\n",
    "    where\n",
    "        country_code = 'US'\n",
    "        and geography_type_code = 'admin4'\n",
    "        and geography_id like 'US.CA.083%'     --- <<< filter geometries in LA\n",
    "    \"\"\"\n",
    ")\n",
    "\n",
    "cbg_geom.rename(columns={'geography_id': 'block_group_id'}, inplace=True)\n",
    "# eliminate Catalina island and another island in the south of Catalina island\n",
    "# cbg_geom = cbg_geom[~cbg_geom['block_group_id'].isin(['US.CA.037.599100.2','US.CA.037.599000.2','US.CA.037.599000.1','US.CA.037.599000.4','US.CA.037.599000.3','US.CA.037.599100.1'])]"
   ]
  },
  {
   "cell_type": "code",
   "execution_count": 10,
   "id": "b5e3d38c-0b0b-42ad-aae3-c96e903df7a5",
   "metadata": {},
   "outputs": [
    {
     "name": "stdout",
     "output_type": "stream",
     "text": [
      "User Guide: https://docs.kepler.gl/docs/keplergl-jupyter\n"
     ]
    },
    {
     "data": {
      "application/vnd.jupyter.widget-view+json": {
       "model_id": "ee8794bb843c4b3fa012368780a969ab",
       "version_major": 2,
       "version_minor": 0
      },
      "text/plain": [
       "KeplerGl(data={'geometries':          block_group_id  \\\n",
       "0    US.CA.083.001604.1   \n",
       "1    US.CA.083.002702.1   \n",
       "…"
      ]
     },
     "metadata": {},
     "output_type": "display_data"
    }
   ],
   "source": [
    "from keplergl import KeplerGl\n",
    "KeplerGl(data={'geometries': cbg_geom})"
   ]
  },
  {
   "cell_type": "code",
   "execution_count": null,
   "id": "b462a4a8-cc13-4eaa-ab38-b89d494349f9",
   "metadata": {},
   "outputs": [],
   "source": []
  }
 ],
 "metadata": {
  "kernelspec": {
   "display_name": "Python 3 (ipykernel)",
   "language": "python",
   "name": "python3"
  },
  "language_info": {
   "codemirror_mode": {
    "name": "ipython",
    "version": 3
   },
   "file_extension": ".py",
   "mimetype": "text/x-python",
   "name": "python",
   "nbconvert_exporter": "python",
   "pygments_lexer": "ipython3",
   "version": "3.9.15"
  },
  "widgets": {
   "application/vnd.jupyter.widget-state+json": {
    "state": {},
    "version_major": 2,
    "version_minor": 0
   }
  }
 },
 "nbformat": 4,
 "nbformat_minor": 5
}
