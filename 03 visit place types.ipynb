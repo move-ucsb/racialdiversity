{
 "cells": [
  {
   "cell_type": "code",
   "execution_count": 1,
   "id": "513c4cc1-f2ce-4d78-b657-f598b49ed026",
   "metadata": {},
   "outputs": [],
   "source": [
    "%reload_ext sql\n",
    "%config SqlMagic.autocommit=False\n",
    "%config SqlMagic.autolimit=0\n",
    "%config SqlMagic.autopandas=True\n",
    "%config SqlMagic.displaylimit=200\n",
    "%sql trino://localhost:9090/cuebiq/\n",
    "\n",
    "import warnings\n",
    "warnings.filterwarnings('ignore')\n",
    "import pandas as pd\n",
    "import yaml\n",
    "import numpy as np\n",
    "import os\n",
    "from pyhive import trino\n",
    "import pydeck as pdk\n",
    "from typing import List\n",
    "import copy\n",
    "import itertools\n",
    "from pyquadkey2 import quadkey\n",
    "from pyquadkey2.quadkey import TileAnchor, QuadKey\n",
    "from h3 import h3\n",
    "from datetime import datetime, timedelta\n",
    "import math\n",
    "import pickle\n",
    "\n",
    "pd.set_option('display.max_rows', 500)\n",
    "pd.set_option('display.max_columns', 500)\n",
    "pd.set_option('display.width', 1000)\n",
    "os.environ['MAPBOX_API_KEY'] = \"INSERT YOUR MAPBOX TOKEN HERE\"\n",
    "pd.set_option('display.max_colwidth', 0)"
   ]
  },
  {
   "cell_type": "code",
   "execution_count": 2,
   "id": "5987ed01-de6e-4b63-afee-73a33c3bbf41",
   "metadata": {},
   "outputs": [],
   "source": [
    "# SQL engine\n",
    "from trino.dbapi import connect \n",
    "from sqlalchemy import create_engine\n",
    "\n",
    "class TrinoEngine():\n",
    "    def __init__(self):\n",
    "        conn = connect(\n",
    "            host=\"localhost\",\n",
    "            port=9090,\n",
    "            catalog=\"cuebiq\"\n",
    "        )\n",
    "        self.cur = conn.cursor()\n",
    "        self.engine = create_engine(\"trino://localhost:9090/cuebiq/\")\n",
    "    \n",
    "    def execute_statement(self, query:str) -> list:\n",
    "        \"\"\"\n",
    "        Create and drop statements.\n",
    "        \"\"\"\n",
    "        self.cur.execute(query)\n",
    "        return self.cur.fetchall()\n",
    "    \n",
    "    def read_sql(self, query:str) -> pd.DataFrame: \n",
    "        \"\"\"\n",
    "        Select and insert into operations.\n",
    "        \"\"\"\n",
    "        return pd.read_sql(query, self.engine)\n",
    "\n",
    "sql_engine = TrinoEngine()"
   ]
  },
  {
   "cell_type": "code",
   "execution_count": 4,
   "id": "2ebbb57f-69cb-44e2-bfac-6386a2368108",
   "metadata": {},
   "outputs": [],
   "source": [
    "brand_table = \"cuebiq.paas_cda_pe_v3.brand\"\n",
    "poi_table = \"cuebiq.paas_cda_pe_v3.poi\"\n",
    "# Census Block Groups typically have a population between 600 to 3000 people, this makes the data privacy safe.\n",
    "date = 20220310 # Thursday"
   ]
  },
  {
   "cell_type": "code",
   "execution_count": 4,
   "id": "a07cbca2-1112-439c-8407-1f87310b51cd",
   "metadata": {},
   "outputs": [],
   "source": [
    "# sql_engine.read_sql(f\"desc {brand_table}\")\n",
    "# %sql show tables from cuebiq.paas_cda_pe_v3"
   ]
  },
  {
   "cell_type": "markdown",
   "id": "8873e4c0-0668-462e-8e99-22fba8116b15",
   "metadata": {},
   "source": [
    "# assign POI categories based on SIC code"
   ]
  },
  {
   "cell_type": "code",
   "execution_count": 11,
   "id": "976d35ce-67b7-481c-9814-ab780042c74a",
   "metadata": {
    "tags": []
   },
   "outputs": [
    {
     "name": "stdout",
     "output_type": "stream",
     "text": [
      "64991\n",
      "CPU times: user 654 ms, sys: 18.2 ms, total: 672 ms\n",
      "Wall time: 11.9 s\n"
     ]
    }
   ],
   "source": [
    "%%time\n",
    "df_POI = sql_engine.read_sql(\n",
    "    f\"\"\"\n",
    "    select place_id,brand_id,lat,lng,place_name\n",
    "    from {poi_table}\n",
    "    where \n",
    "        country_code = 'US' \n",
    "        and admin2_id = 'US.CA.037'\n",
    "    \"\"\"\n",
    ")\n",
    "print(df_POI.shape[0]) # 63118 POI in LA\n",
    "# df_POI.to_pickle(\"./output/LA_POI_table.pkl\")"
   ]
  },
  {
   "cell_type": "code",
   "execution_count": 12,
   "id": "3b37cb95-9032-48d6-b726-357fbad8da95",
   "metadata": {},
   "outputs": [
    {
     "name": "stdout",
     "output_type": "stream",
     "text": [
      "3463\n",
      "CPU times: user 85.8 ms, sys: 0 ns, total: 85.8 ms\n",
      "Wall time: 1.52 s\n"
     ]
    },
    {
     "data": {
      "text/html": [
       "<div>\n",
       "<style scoped>\n",
       "    .dataframe tbody tr th:only-of-type {\n",
       "        vertical-align: middle;\n",
       "    }\n",
       "\n",
       "    .dataframe tbody tr th {\n",
       "        vertical-align: top;\n",
       "    }\n",
       "\n",
       "    .dataframe thead th {\n",
       "        text-align: right;\n",
       "    }\n",
       "</style>\n",
       "<table border=\"1\" class=\"dataframe\">\n",
       "  <thead>\n",
       "    <tr style=\"text-align: right;\">\n",
       "      <th></th>\n",
       "      <th>brand_id</th>\n",
       "      <th>brand_name</th>\n",
       "      <th>vertical_id</th>\n",
       "      <th>vertical_name</th>\n",
       "      <th>sic_code</th>\n",
       "      <th>sic_name</th>\n",
       "    </tr>\n",
       "  </thead>\n",
       "  <tbody>\n",
       "    <tr>\n",
       "      <th>0</th>\n",
       "      <td>2400</td>\n",
       "      <td>Ulta</td>\n",
       "      <td>769.0</td>\n",
       "      <td>Fitness</td>\n",
       "      <td>NaN</td>\n",
       "      <td>None</td>\n",
       "    </tr>\n",
       "    <tr>\n",
       "      <th>1</th>\n",
       "      <td>2649</td>\n",
       "      <td>Caruso</td>\n",
       "      <td>769.0</td>\n",
       "      <td>Fitness</td>\n",
       "      <td>6512.0</td>\n",
       "      <td>Operators of Nonresidential Buildings</td>\n",
       "    </tr>\n",
       "    <tr>\n",
       "      <th>2</th>\n",
       "      <td>1288</td>\n",
       "      <td>Chuze Fitness</td>\n",
       "      <td>769.0</td>\n",
       "      <td>Fitness</td>\n",
       "      <td>7991.0</td>\n",
       "      <td>Physical Fitness Facilities</td>\n",
       "    </tr>\n",
       "    <tr>\n",
       "      <th>3</th>\n",
       "      <td>1804</td>\n",
       "      <td>IHRSA (International Health, Racquet &amp; Sportsclub Association)</td>\n",
       "      <td>769.0</td>\n",
       "      <td>Fitness</td>\n",
       "      <td>7991.0</td>\n",
       "      <td>Physical Fitness Facilities</td>\n",
       "    </tr>\n",
       "    <tr>\n",
       "      <th>4</th>\n",
       "      <td>857</td>\n",
       "      <td>Janie and Jack</td>\n",
       "      <td>806.0</td>\n",
       "      <td>Children's Clothing</td>\n",
       "      <td>5641.0</td>\n",
       "      <td>Children's and Infants' Wear Stores</td>\n",
       "    </tr>\n",
       "  </tbody>\n",
       "</table>\n",
       "</div>"
      ],
      "text/plain": [
       "   brand_id                                                      brand_name  vertical_id        vertical_name  sic_code                               sic_name\n",
       "0  2400      Ulta                                                            769.0        Fitness             NaN        None                                 \n",
       "1  2649      Caruso                                                          769.0        Fitness              6512.0    Operators of Nonresidential Buildings\n",
       "2  1288      Chuze Fitness                                                   769.0        Fitness              7991.0    Physical Fitness Facilities          \n",
       "3  1804      IHRSA (International Health, Racquet & Sportsclub Association)  769.0        Fitness              7991.0    Physical Fitness Facilities          \n",
       "4  857       Janie and Jack                                                  806.0        Children's Clothing  5641.0    Children's and Infants' Wear Stores  "
      ]
     },
     "execution_count": 12,
     "metadata": {},
     "output_type": "execute_result"
    }
   ],
   "source": [
    "%%time\n",
    "df_brand = sql_engine.read_sql(\n",
    "    f\"\"\"\n",
    "    select distinct *\n",
    "    from {brand_table}\n",
    "    \"\"\"\n",
    ")\n",
    "# df_brand.to_pickle(\"./output/Brand_table.pkl\")\n",
    "print(df_brand.shape[0]) #3416\n",
    "df_brand.head()"
   ]
  },
  {
   "cell_type": "code",
   "execution_count": 13,
   "id": "c19312d6-c94c-4ed9-9d5c-2f1d96988cf3",
   "metadata": {},
   "outputs": [
    {
     "data": {
      "text/plain": [
       "Retail Trade                                                          24444\n",
       "Services                                                              8469 \n",
       "Finance, Insurance and Real Estate                                    8357 \n",
       "Transportation, Communications, Electric, Gas and Sanitary service    8302 \n",
       "Manufacturing                                                         7650 \n",
       "NA                                                                    4885 \n",
       "Wholesale Trade                                                       1414 \n",
       "Public Administration                                                 1159 \n",
       "Agriculture, Forestry and Fishing                                     308  \n",
       "Construction                                                          3    \n",
       "Name: category, dtype: int64"
      ]
     },
     "execution_count": 13,
     "metadata": {},
     "output_type": "execute_result"
    }
   ],
   "source": [
    "df_POI.rename(columns={'lat': 'poi_lat', 'lng': 'poi_lng'}, inplace=True)\n",
    "df_POI_type = pd.merge(df_POI[['place_id','brand_id','poi_lat','poi_lng','place_name']],df_brand,on='brand_id')\n",
    "\n",
    "# https://en.wikipedia.org/wiki/Standard_Industrial_Classification\n",
    "# 0100-0999\tAgriculture, Forestry and Fishing\n",
    "# 1000-1499\tMining\n",
    "# 1500-1799\tConstruction\n",
    "# 1800-1999\tnot used\n",
    "# 2000-3999\tManufacturing\n",
    "# 4000-4999\tTransportation, Communications, Electric, Gas and Sanitary service\n",
    "# 5000-5199\tWholesale Trade\n",
    "# 5200-5999\tRetail Trade\n",
    "# 6000-6799\tFinance, Insurance and Real Estate\n",
    "# 7000-8999\tServices\n",
    "# 9100-9729\tPublic Administration\n",
    "# 9900-9999\tNonclassifiable\n",
    "\n",
    "df_POI_type['category'] = 'NA'\n",
    "df_POI_type.loc[(df_POI_type['sic_code']>=0)&(df_POI_type['sic_code']<=999),'category'] = 'Agriculture, Forestry and Fishing'\n",
    "df_POI_type.loc[(df_POI_type['sic_code']>=1000)&(df_POI_type['sic_code']<=1499),'category'] = 'Mining'\n",
    "df_POI_type.loc[(df_POI_type['sic_code']>=1500)&(df_POI_type['sic_code']<=1799),'category'] = 'Construction'\n",
    "df_POI_type.loc[(df_POI_type['sic_code']>=1800)&(df_POI_type['sic_code']<=1999),'category'] = 'not used'\n",
    "df_POI_type.loc[(df_POI_type['sic_code']>=2000)&(df_POI_type['sic_code']<=3999),'category'] = 'Manufacturing'\n",
    "df_POI_type.loc[(df_POI_type['sic_code']>=4000)&(df_POI_type['sic_code']<=4999),'category'] = 'Transportation, Communications, Electric, Gas and Sanitary service'\n",
    "df_POI_type.loc[(df_POI_type['sic_code']>=5000)&(df_POI_type['sic_code']<=5199),'category'] = 'Wholesale Trade'\n",
    "df_POI_type.loc[(df_POI_type['sic_code']>=5200)&(df_POI_type['sic_code']<=5999),'category'] = 'Retail Trade'\n",
    "df_POI_type.loc[(df_POI_type['sic_code']>=6000)&(df_POI_type['sic_code']<=6799),'category'] = 'Finance, Insurance and Real Estate'\n",
    "df_POI_type.loc[(df_POI_type['sic_code']>=7000)&(df_POI_type['sic_code']<=8999),'category'] = 'Services'\n",
    "df_POI_type.loc[(df_POI_type['sic_code']>=9100)&(df_POI_type['sic_code']<=9729),'category'] = 'Public Administration'\n",
    "df_POI_type.loc[(df_POI_type['sic_code']>=9900)&(df_POI_type['sic_code']<=9999),'category'] = 'Nonclassifiable'\n",
    "df_POI_type.loc[df_POI_type['sic_code'].isna(),'category'] = 'NA'\n",
    "df_POI_type['category'].value_counts()"
   ]
  },
  {
   "cell_type": "code",
   "execution_count": 14,
   "id": "8b285ffc-c638-4310-8a4e-d0a628e1d944",
   "metadata": {},
   "outputs": [
    {
     "name": "stdout",
     "output_type": "stream",
     "text": [
      "64991\n",
      "64991\n",
      "64991\n"
     ]
    }
   ],
   "source": [
    "print(df_POI_type.shape[0])\n",
    "df_POI_type = df_POI_type.drop_duplicates(keep='last')\n",
    "print(df_POI_type.shape[0])\n",
    "df_POI_type = df_POI_type.drop_duplicates(subset='place_id', keep=\"last\")\n",
    "print(df_POI_type.shape[0])"
   ]
  },
  {
   "cell_type": "code",
   "execution_count": 71,
   "id": "3c592a08-d3ba-4cd0-8acd-fcd2f6eac439",
   "metadata": {},
   "outputs": [],
   "source": [
    "# print(df_POI_type.shape[0])\n",
    "# print(df_POI_type.place_id.unique().shape[0])\n",
    "# test = df_POI_type.groupby('place_id').count().reset_index()\n",
    "# dul_idlist = test[test.brand_id!=1].place_id.to_list()\n",
    "# df_POI_type[df_POI_type.place_id.isin(dul_idlist)]"
   ]
  },
  {
   "cell_type": "code",
   "execution_count": 15,
   "id": "fa66b180-829a-4f0f-8dfa-eae4a78e199c",
   "metadata": {},
   "outputs": [],
   "source": [
    "df_POI_type.to_pickle(\"../output/LA_POI_category.pkl\")"
   ]
  },
  {
   "cell_type": "code",
   "execution_count": 10,
   "id": "a5f83847-7aec-49f5-bcd5-79ca65cf33bc",
   "metadata": {},
   "outputs": [
    {
     "name": "stdout",
     "output_type": "stream",
     "text": [
      "62808\n"
     ]
    }
   ],
   "source": [
    "df_POI_type = pd.read_pickle(\"../output/LA_POI_category.pkl\")\n",
    "print(df_POI_type.shape[0])"
   ]
  },
  {
   "cell_type": "markdown",
   "id": "b5019eed-7b76-4974-a4ed-6974d9470e15",
   "metadata": {},
   "source": [
    "# a. Left join with daily visit table"
   ]
  },
  {
   "cell_type": "code",
   "execution_count": 1,
   "id": "13b04ab4-a936-4553-a896-bc1b375cbc95",
   "metadata": {},
   "outputs": [],
   "source": [
    "df_visit_LA = pd.read_pickle(\"./output/LA_visit_\"+str(date)+\".pkl\")  \n",
    "print(df_visit_LA.shape[0])\n",
    "df_visit_LA = pd.merge(df_visit_LA,df_POI_type,on=['place_id','brand_id'])\n",
    "print(df_visit_LA.shape[0]) # the difference compare to above might because some visits are outside LA\n",
    "df_visit_LA.head()"
   ]
  },
  {
   "cell_type": "code",
   "execution_count": null,
   "id": "9f1a0b9d-e88f-4894-858d-690ed8132ea6",
   "metadata": {},
   "outputs": [],
   "source": [
    "df_visit_LA.to_pickle(\"./output/LA_visit_with_poiCategory\"+str(date)+\".pkl\")"
   ]
  },
  {
   "cell_type": "markdown",
   "id": "56ce5a55-c4f2-447b-a3b9-6f0d45cd291c",
   "metadata": {},
   "source": [
    "# b. Left join with visit table of a time range"
   ]
  },
  {
   "cell_type": "code",
   "execution_count": 23,
   "id": "f33431ad-9b74-4454-8cd1-b6bc01f86834",
   "metadata": {},
   "outputs": [],
   "source": [
    "start_date,end_date = 20190324,20190331\n",
    "#20190301,20190308\n",
    "#20190309,20190316\n",
    "#20190317,20190323\n",
    "#20190324,20190331"
   ]
  },
  {
   "cell_type": "code",
   "execution_count": 24,
   "id": "e54bffae-06f0-4780-a54b-ac71012ba5b6",
   "metadata": {},
   "outputs": [
    {
     "name": "stdout",
     "output_type": "stream",
     "text": [
      "1909313\n",
      "1419429\n"
     ]
    }
   ],
   "source": [
    "df_visit_LA_range = pd.read_pickle(\"../output/LA_visit_\"+str(start_date)+'_'+str(end_date)+\".pkl\")\n",
    "print(df_visit_LA_range.shape[0])\n",
    "df_visit_LA_range = pd.merge(df_visit_LA_range,df_POI_type,on=['place_id','brand_id'])\n",
    "print(df_visit_LA_range.shape[0]) # the difference compare to above might because some visits are outside LA\n",
    "df_visit_LA_range.to_pickle(\"../output/LA_visit_with_poiCategory\"+str(start_date)+'_'+str(end_date)+\".pkl\")"
   ]
  },
  {
   "cell_type": "code",
   "execution_count": 26,
   "id": "7da12e05-fd09-4c77-89bc-3c52774aff72",
   "metadata": {},
   "outputs": [
    {
     "data": {
      "text/html": [
       "<div>\n",
       "<style scoped>\n",
       "    .dataframe tbody tr th:only-of-type {\n",
       "        vertical-align: middle;\n",
       "    }\n",
       "\n",
       "    .dataframe tbody tr th {\n",
       "        vertical-align: top;\n",
       "    }\n",
       "\n",
       "    .dataframe thead th {\n",
       "        text-align: right;\n",
       "    }\n",
       "</style>\n",
       "<table border=\"1\" class=\"dataframe\">\n",
       "  <thead>\n",
       "    <tr style=\"text-align: right;\">\n",
       "      <th></th>\n",
       "      <th>admin2_id</th>\n",
       "      <th>brand_id</th>\n",
       "      <th>cuebiq_id</th>\n",
       "      <th>dwell_time_minutes</th>\n",
       "      <th>event_date</th>\n",
       "      <th>geohash</th>\n",
       "      <th>geoset_id</th>\n",
       "      <th>lat</th>\n",
       "      <th>lng</th>\n",
       "      <th>place_id</th>\n",
       "      <th>zoned_datetime</th>\n",
       "      <th>geography_id</th>\n",
       "      <th>start_time</th>\n",
       "      <th>end_time</th>\n",
       "      <th>start_hour</th>\n",
       "      <th>end_hour</th>\n",
       "      <th>poi_lat</th>\n",
       "      <th>poi_lng</th>\n",
       "      <th>place_name</th>\n",
       "      <th>brand_name</th>\n",
       "      <th>vertical_id</th>\n",
       "      <th>vertical_name</th>\n",
       "      <th>sic_code</th>\n",
       "      <th>sic_name</th>\n",
       "      <th>category</th>\n",
       "    </tr>\n",
       "  </thead>\n",
       "  <tbody>\n",
       "    <tr>\n",
       "      <th>0</th>\n",
       "      <td>US.CA.037</td>\n",
       "      <td>629</td>\n",
       "      <td>1069274429</td>\n",
       "      <td>7.966667</td>\n",
       "      <td>20190327</td>\n",
       "      <td>9q5cfdwu2</td>\n",
       "      <td>11132</td>\n",
       "      <td>34.07211</td>\n",
       "      <td>-118.357421</td>\n",
       "      <td>31119715</td>\n",
       "      <td>2019-03-27T19:05:07-07:00</td>\n",
       "      <td>US.CA.037.214501.2</td>\n",
       "      <td>2019-03-27 19:05:07</td>\n",
       "      <td>2019-03-27 19:13:05.000000020</td>\n",
       "      <td>19</td>\n",
       "      <td>19</td>\n",
       "      <td>34.070747</td>\n",
       "      <td>-118.360201</td>\n",
       "      <td>US Malls</td>\n",
       "      <td>US Malls</td>\n",
       "      <td>812.0</td>\n",
       "      <td>Malls</td>\n",
       "      <td>NaN</td>\n",
       "      <td>None</td>\n",
       "      <td>NA</td>\n",
       "    </tr>\n",
       "  </tbody>\n",
       "</table>\n",
       "</div>"
      ],
      "text/plain": [
       "   admin2_id  brand_id   cuebiq_id  dwell_time_minutes  event_date    geohash  geoset_id       lat         lng  place_id             zoned_datetime        geography_id          start_time                      end_time  start_hour  end_hour    poi_lat     poi_lng place_name brand_name  vertical_id vertical_name  sic_code sic_name category\n",
       "0  US.CA.037  629       1069274429  7.966667            20190327    9q5cfdwu2  11132      34.07211 -118.357421  31119715  2019-03-27T19:05:07-07:00  US.CA.037.214501.2 2019-03-27 19:05:07 2019-03-27 19:13:05.000000020  19          19        34.070747 -118.360201  US Malls   US Malls   812.0        Malls        NaN        None     NA     "
      ]
     },
     "execution_count": 26,
     "metadata": {},
     "output_type": "execute_result"
    }
   ],
   "source": [
    "df_visit_LA_range.head(1)"
   ]
  },
  {
   "cell_type": "code",
   "execution_count": 25,
   "id": "490a7efc-d999-4a2d-bc17-bfe468557bc5",
   "metadata": {},
   "outputs": [
    {
     "name": "stdout",
     "output_type": "stream",
     "text": [
      "File Size is : 330.491063 mb\n"
     ]
    }
   ],
   "source": [
    "print(\"File Size is :\", os.path.getsize(\"../output/LA_visit_with_poiCategory\"+str(start_date)+'_'+str(end_date)+\".pkl\")/1000000, \"mb\")"
   ]
  },
  {
   "cell_type": "markdown",
   "id": "fc2054f3-6455-4a25-ad70-18599f665a62",
   "metadata": {},
   "source": [
    "# No need to run below"
   ]
  },
  {
   "cell_type": "markdown",
   "id": "124f02a1-74ab-4ed4-91bd-06757f7795ff",
   "metadata": {},
   "source": [
    "# Additional exploratory analysis: number of visits by place category"
   ]
  },
  {
   "cell_type": "markdown",
   "id": "c00045ad-01f4-43f4-adc7-134dcb04544c",
   "metadata": {},
   "source": [
    "top visited POIs"
   ]
  },
  {
   "cell_type": "code",
   "execution_count": 42,
   "id": "99eff6ca-711c-4c70-bf27-ce28ecee2c24",
   "metadata": {},
   "outputs": [
    {
     "data": {
      "text/html": [
       "<div>\n",
       "<style scoped>\n",
       "    .dataframe tbody tr th:only-of-type {\n",
       "        vertical-align: middle;\n",
       "    }\n",
       "\n",
       "    .dataframe tbody tr th {\n",
       "        vertical-align: top;\n",
       "    }\n",
       "\n",
       "    .dataframe thead th {\n",
       "        text-align: right;\n",
       "    }\n",
       "</style>\n",
       "<table border=\"1\" class=\"dataframe\">\n",
       "  <thead>\n",
       "    <tr style=\"text-align: right;\">\n",
       "      <th></th>\n",
       "      <th>sic_code</th>\n",
       "      <th>visit_count</th>\n",
       "      <th>sic_name</th>\n",
       "    </tr>\n",
       "  </thead>\n",
       "  <tbody>\n",
       "    <tr>\n",
       "      <th>0</th>\n",
       "      <td>5812.0</td>\n",
       "      <td>36879</td>\n",
       "      <td>Eating Places</td>\n",
       "    </tr>\n",
       "    <tr>\n",
       "      <th>1</th>\n",
       "      <td>4812.0</td>\n",
       "      <td>9050</td>\n",
       "      <td>Radiotelephone Communications</td>\n",
       "    </tr>\n",
       "    <tr>\n",
       "      <th>2</th>\n",
       "      <td>5541.0</td>\n",
       "      <td>8388</td>\n",
       "      <td>Gasoline Service Stations</td>\n",
       "    </tr>\n",
       "    <tr>\n",
       "      <th>3</th>\n",
       "      <td>6021.0</td>\n",
       "      <td>7122</td>\n",
       "      <td>National Commercial Banks</td>\n",
       "    </tr>\n",
       "    <tr>\n",
       "      <th>4</th>\n",
       "      <td>6029.0</td>\n",
       "      <td>6935</td>\n",
       "      <td>Commercial Banks, Not Elsewhere Classified</td>\n",
       "    </tr>\n",
       "  </tbody>\n",
       "</table>\n",
       "</div>"
      ],
      "text/plain": [
       "   sic_code  visit_count                                    sic_name\n",
       "0  5812.0    36879        Eating Places                             \n",
       "1  4812.0    9050         Radiotelephone Communications             \n",
       "2  5541.0    8388         Gasoline Service Stations                 \n",
       "3  6021.0    7122         National Commercial Banks                 \n",
       "4  6029.0    6935         Commercial Banks, Not Elsewhere Classified"
      ]
     },
     "execution_count": 42,
     "metadata": {},
     "output_type": "execute_result"
    }
   ],
   "source": [
    "df_top_cate = df_visit_LA[['sic_code']].groupby('sic_code')['sic_code'].count().reset_index(name='visit_count').sort_values(['visit_count'], ascending=False)\n",
    "# print(df_top_cate.head(10))\n",
    "# df_top_cate['count'].hist()\n",
    "df_brand_filtered = df_brand[['sic_code','sic_name']].drop_duplicates(keep='last')    \n",
    "df_top_cate_brand = pd.merge(df_top_cate,df_brand_filtered,on='sic_code')\n",
    "df_top_cate_brand.head(5)\n",
    " \n",
    "#5812.0 Eating Places,  5411.0 Grocery Stores, 7991.0 Physical Fitness Facilities\n",
    "#7231.0 Beauty Shops, 6021.0 National Commercial Banks, 7011.0 Hotels and Motels 5311.0"
   ]
  },
  {
   "cell_type": "markdown",
   "id": "c1c82889-423a-4d66-a42d-a005456e88eb",
   "metadata": {},
   "source": [
    "top POI categories by count"
   ]
  },
  {
   "cell_type": "code",
   "execution_count": 48,
   "id": "898b433b-8708-45cf-88ad-cae14cd5b381",
   "metadata": {},
   "outputs": [
    {
     "data": {
      "text/html": [
       "<div>\n",
       "<style scoped>\n",
       "    .dataframe tbody tr th:only-of-type {\n",
       "        vertical-align: middle;\n",
       "    }\n",
       "\n",
       "    .dataframe tbody tr th {\n",
       "        vertical-align: top;\n",
       "    }\n",
       "\n",
       "    .dataframe thead th {\n",
       "        text-align: right;\n",
       "    }\n",
       "</style>\n",
       "<table border=\"1\" class=\"dataframe\">\n",
       "  <thead>\n",
       "    <tr style=\"text-align: right;\">\n",
       "      <th></th>\n",
       "      <th>sic_code</th>\n",
       "      <th>poi_count</th>\n",
       "      <th>sic_name</th>\n",
       "    </tr>\n",
       "  </thead>\n",
       "  <tbody>\n",
       "    <tr>\n",
       "      <th>0</th>\n",
       "      <td>5812.0</td>\n",
       "      <td>7885</td>\n",
       "      <td>Eating Places</td>\n",
       "    </tr>\n",
       "    <tr>\n",
       "      <th>1</th>\n",
       "      <td>4812.0</td>\n",
       "      <td>3529</td>\n",
       "      <td>Radiotelephone Communications</td>\n",
       "    </tr>\n",
       "    <tr>\n",
       "      <th>2</th>\n",
       "      <td>6021.0</td>\n",
       "      <td>3282</td>\n",
       "      <td>National Commercial Banks</td>\n",
       "    </tr>\n",
       "    <tr>\n",
       "      <th>3</th>\n",
       "      <td>5531.0</td>\n",
       "      <td>3136</td>\n",
       "      <td>Auto and Home Supply Stores</td>\n",
       "    </tr>\n",
       "    <tr>\n",
       "      <th>4</th>\n",
       "      <td>5541.0</td>\n",
       "      <td>2415</td>\n",
       "      <td>Gasoline Service Stations</td>\n",
       "    </tr>\n",
       "  </tbody>\n",
       "</table>\n",
       "</div>"
      ],
      "text/plain": [
       "   sic_code  poi_count                       sic_name\n",
       "0  5812.0    7885       Eating Places                \n",
       "1  4812.0    3529       Radiotelephone Communications\n",
       "2  6021.0    3282       National Commercial Banks    \n",
       "3  5531.0    3136       Auto and Home Supply Stores  \n",
       "4  5541.0    2415       Gasoline Service Stations    "
      ]
     },
     "execution_count": 48,
     "metadata": {},
     "output_type": "execute_result"
    }
   ],
   "source": [
    "df_top_poi_count = df_POI_type.drop_duplicates(keep='last').groupby('sic_code')['sic_code'].count().reset_index(name='poi_count').sort_values(['poi_count'], ascending=False)\n",
    "df_top_poi_count = pd.merge(df_top_poi_count,df_brand_filtered,on='sic_code')\n",
    "df_top_poi_count.head(5)"
   ]
  },
  {
   "cell_type": "code",
   "execution_count": 49,
   "id": "c45f2fdc-eac9-4072-a63f-ab74d4dea6ad",
   "metadata": {},
   "outputs": [
    {
     "name": "stdout",
     "output_type": "stream",
     "text": [
      "11014\n",
      "65049\n",
      "0\n"
     ]
    }
   ],
   "source": [
    "# print(df_visit_LA['vertical_id'].isna().sum())\n",
    "print(df_visit_LA['vertical_name'].isna().sum())\n",
    "# print(df_visit_LA['sic_code'].isna().sum())\n",
    "print(df_visit_LA['sic_name'].isna().sum())\n",
    "# print(df_visit_LA[['sic_name','vertical_name']].isna().sum())\n",
    "print(df_visit_LA[df_visit_LA[['sic_name', 'vertical_name']].isna().all(axis=1)].shape[0])\n",
    "# print(df_visit_LA['sic_name'].isna())\n",
    "# 11168/264083=0.04 #4% are missing"
   ]
  },
  {
   "cell_type": "code",
   "execution_count": 21,
   "id": "807f6f6a-a6f1-4d44-aa5f-824f9c43d111",
   "metadata": {},
   "outputs": [],
   "source": []
  },
  {
   "cell_type": "code",
   "execution_count": null,
   "id": "367417db-3eb6-45c0-98d8-aca032116f55",
   "metadata": {},
   "outputs": [],
   "source": []
  },
  {
   "cell_type": "code",
   "execution_count": null,
   "id": "fee4fde3-a365-46f1-8eaa-e8ed1cbca07a",
   "metadata": {},
   "outputs": [],
   "source": []
  },
  {
   "cell_type": "code",
   "execution_count": null,
   "id": "e3012ed4-e319-40bf-ae32-76b221e2ce5e",
   "metadata": {},
   "outputs": [],
   "source": []
  },
  {
   "cell_type": "code",
   "execution_count": null,
   "id": "3750d76f-98b3-47ec-b296-507198b13212",
   "metadata": {},
   "outputs": [],
   "source": []
  },
  {
   "cell_type": "code",
   "execution_count": null,
   "id": "6f0b4232-9dee-4625-ae2d-a5c49454c491",
   "metadata": {},
   "outputs": [],
   "source": []
  },
  {
   "cell_type": "code",
   "execution_count": null,
   "id": "bc94a47b-e37d-4a07-a814-a47102b37582",
   "metadata": {},
   "outputs": [],
   "source": []
  },
  {
   "cell_type": "code",
   "execution_count": null,
   "id": "6f06838a-ccf1-476e-9523-cf8d64a5f174",
   "metadata": {},
   "outputs": [],
   "source": []
  },
  {
   "cell_type": "code",
   "execution_count": null,
   "id": "20c548d1-099f-4789-b3e3-2b7816c9a7ed",
   "metadata": {},
   "outputs": [],
   "source": []
  },
  {
   "cell_type": "code",
   "execution_count": null,
   "id": "875af9e8-aba1-4781-8611-4abb30d1b60e",
   "metadata": {},
   "outputs": [],
   "source": []
  }
 ],
 "metadata": {
  "kernelspec": {
   "display_name": "Python 3 (ipykernel)",
   "language": "python",
   "name": "python3"
  },
  "language_info": {
   "codemirror_mode": {
    "name": "ipython",
    "version": 3
   },
   "file_extension": ".py",
   "mimetype": "text/x-python",
   "name": "python",
   "nbconvert_exporter": "python",
   "pygments_lexer": "ipython3",
   "version": "3.9.15"
  },
  "widgets": {
   "application/vnd.jupyter.widget-state+json": {
    "state": {},
    "version_major": 2,
    "version_minor": 0
   }
  }
 },
 "nbformat": 4,
 "nbformat_minor": 5
}
