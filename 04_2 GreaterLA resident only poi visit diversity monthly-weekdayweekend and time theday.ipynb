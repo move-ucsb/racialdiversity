{
 "cells": [
  {
   "cell_type": "code",
   "execution_count": 6,
   "id": "cf6317bb-07d2-4a3a-9b6a-810ca1f0faf7",
   "metadata": {},
   "outputs": [],
   "source": [
    "%reload_ext sql\n",
    "%config SqlMagic.autocommit=False\n",
    "%config SqlMagic.autolimit=0\n",
    "%config SqlMagic.autopandas=True\n",
    "%config SqlMagic.displaylimit=200\n",
    "%sql trino://localhost:9090/cuebiq/\n",
    "\n",
    "import pandas as pd\n",
    "import yaml\n",
    "import numpy as np\n",
    "import matplotlib.pyplot as plt\n",
    "import matplotlib.cm as cm\n",
    "import os\n",
    "from pyhive import trino\n",
    "import pydeck as pdk\n",
    "from typing import List\n",
    "import json\n",
    "import copy\n",
    "import itertools\n",
    "from pyquadkey2 import quadkey\n",
    "from pyquadkey2.quadkey import TileAnchor, QuadKey\n",
    "from h3 import h3\n",
    "import seaborn as sns\n",
    "from keplergl import KeplerGl\n",
    "from datetime import datetime, timedelta\n",
    "import math\n",
    "import pickle\n",
    "\n",
    "os.environ['MAPBOX_API_KEY'] = \"INSERT YOUR MAPBOX TOKEN HERE\"\n",
    "pd.set_option('display.max_colwidth', 0)\n",
    "pd.set_option('display.max_rows', 500)\n",
    "pd.set_option('display.max_columns', 500)\n",
    "pd.set_option('display.width', 1000)\n",
    "import warnings\n",
    "warnings.filterwarnings('ignore')"
   ]
  },
  {
   "cell_type": "code",
   "execution_count": 7,
   "id": "5aba61f3-a022-445b-815b-0328350e4b81",
   "metadata": {},
   "outputs": [],
   "source": [
    "# SQL engine\n",
    "from trino.dbapi import connect \n",
    "from sqlalchemy import create_engine\n",
    "\n",
    "class TrinoEngine():\n",
    "    def __init__(self):\n",
    "        conn = connect(\n",
    "            host=\"localhost\",\n",
    "            port=9090,\n",
    "            catalog=\"cuebiq\"\n",
    "        )\n",
    "        self.cur = conn.cursor()\n",
    "        self.engine = create_engine(\"trino://localhost:9090/cuebiq/\")\n",
    "    \n",
    "    def execute_statement(self, query:str) -> list:\n",
    "        \"\"\"\n",
    "        Create and drop statements.\n",
    "        \"\"\"\n",
    "        self.cur.execute(query)\n",
    "        return self.cur.fetchall()\n",
    "    \n",
    "    def read_sql(self, query:str) -> pd.DataFrame: \n",
    "        \"\"\"\n",
    "        Select and insert into operations.\n",
    "        \"\"\"\n",
    "        return pd.read_sql(query, self.engine)\n",
    "\n",
    "sql_engine = TrinoEngine()"
   ]
  },
  {
   "cell_type": "code",
   "execution_count": 8,
   "id": "9cee506a-d36d-4f0c-8bb5-d09c98f2e92e",
   "metadata": {},
   "outputs": [],
   "source": [
    "def compute_scaled_entropy(row,col1,col2,col3,col4,col5,col6):\n",
    "    sum_nominator = 0\n",
    "    for item in [row[col1],row[col2],row[col3],row[col4],row[col5],row[col6]]:\n",
    "        if item != 0:\n",
    "            sum_nominator += item*(np.log(1/item))\n",
    "    row['scaled_entropy'] = sum_nominator/np.log(6)\n",
    "    return row\n",
    "\n",
    "def identify_max_col(row,col1,col2,col3,col4,col5,col6):\n",
    "    dominant = max([row[col1],row[col2],row[col3],row[col4],row[col5],row[col6]])\n",
    "    if dominant == row[col1]: row['dominant_race'] = col1\n",
    "    if dominant == row[col2]: row['dominant_race'] = col2\n",
    "    if dominant == row[col3]: row['dominant_race'] = col3\n",
    "    if dominant == row[col4]: row['dominant_race'] = col4\n",
    "    if dominant == row[col5]: row['dominant_race'] = col5\n",
    "    if dominant == row[col6]: row['dominant_race'] = col6\n",
    "    return row\n",
    "\n",
    "def extract_dominant_group(df):\n",
    "    df.loc[df['scaled_entropy']<=0.3707,'class'] = 'low diversity'\n",
    "    df.loc[df['R_White']>=0.8,'class'] = 'low diversity'\n",
    "    df.loc[df['R_HispanicLatinx']>=0.8,'class'] = 'low diversity'\n",
    "    df.loc[df['R_AfricanAmerican']>=0.8,'class'] = 'low diversity'\n",
    "    df.loc[df['R_AmericanIndianAlaska']>=0.8,'class'] = 'low diversity'\n",
    "    df.loc[df['R_Asian']>=0.8,'class'] = 'low diversity'\n",
    "    df.loc[df['R_Other']>=0.8,'class'] = 'low diversity'\n",
    "\n",
    "    df.loc[(df['scaled_entropy']>=0.7414)&(df['R_White']<0.45)\n",
    "                             &(df['R_HispanicLatinx']<0.45)&(df['R_AfricanAmerican']<0.45)\n",
    "                             &(df['R_AmericanIndianAlaska']<0.45)&(df['R_Asian']<0.45)\n",
    "                             &(df['R_Other']<0.45)\n",
    "                             ,'class'] = 'high diversity'\n",
    "\n",
    "    df['class'] = df['class'].fillna('moderate diversity')\n",
    "    print(df['class'].value_counts())\n",
    "    \n",
    "    df = df.apply(lambda x:identify_max_col(x,'R_White','R_HispanicLatinx','R_AfricanAmerican','R_AmericanIndianAlaska','R_Asian','R_Other'), axis=1)\n",
    "    \n",
    "    df['class_dominant'] = df['dominant_race'] + '_' + df['class']\n",
    "    df.loc[df['class']=='high diversity','class_dominant'] = 'high diversity'\n",
    "    print(df.class_dominant.value_counts())\n",
    "    return df"
   ]
  },
  {
   "cell_type": "code",
   "execution_count": 9,
   "id": "c5e207ee-7309-4d0e-ab7a-90537d7ae483",
   "metadata": {},
   "outputs": [],
   "source": [
    "# %%time\n",
    "# sql_engine.read_sql(f\"desc cuebiq.paas_cda_pe_v3.poi\")"
   ]
  },
  {
   "cell_type": "code",
   "execution_count": 10,
   "id": "1fd59acf-a145-4bb7-85d8-8307ae075a9a",
   "metadata": {},
   "outputs": [],
   "source": [
    "df_poi_cat = pd.read_pickle(\"../output/LA_POI_category.pkl\") # all POI in LA\n",
    "# df_indi_home_loc_race = pd.read_pickle(\"./output/CA_Individual_race_composition.pkl\")\n",
    "# print(df_indi_home_loc_race.shape[0]) # all cubiq individuals who live in California: 1600238\n",
    "# df_indi_home_loc_race.head(1)"
   ]
  },
  {
   "cell_type": "code",
   "execution_count": 11,
   "id": "eff287dd-2ce2-4f67-86cc-f799016c76f1",
   "metadata": {},
   "outputs": [
    {
     "name": "stdout",
     "output_type": "stream",
     "text": [
      "525248\n"
     ]
    },
    {
     "data": {
      "text/html": [
       "<div>\n",
       "<style scoped>\n",
       "    .dataframe tbody tr th:only-of-type {\n",
       "        vertical-align: middle;\n",
       "    }\n",
       "\n",
       "    .dataframe tbody tr th {\n",
       "        vertical-align: top;\n",
       "    }\n",
       "\n",
       "    .dataframe thead th {\n",
       "        text-align: right;\n",
       "    }\n",
       "</style>\n",
       "<table border=\"1\" class=\"dataframe\">\n",
       "  <thead>\n",
       "    <tr style=\"text-align: right;\">\n",
       "      <th></th>\n",
       "      <th>cuebiq_id</th>\n",
       "      <th>home_block</th>\n",
       "      <th>population</th>\n",
       "      <th>R_White</th>\n",
       "      <th>R_HispanicLatinx</th>\n",
       "      <th>R_AfricanAmerican</th>\n",
       "      <th>R_AmericanIndianAlaska</th>\n",
       "      <th>R_Asian</th>\n",
       "      <th>R_Other</th>\n",
       "      <th>devices</th>\n",
       "      <th>weight</th>\n",
       "    </tr>\n",
       "  </thead>\n",
       "  <tbody>\n",
       "    <tr>\n",
       "      <th>0</th>\n",
       "      <td>1847634951</td>\n",
       "      <td>US.CA.065.044510.2</td>\n",
       "      <td>2497.0</td>\n",
       "      <td>10.597561</td>\n",
       "      <td>16.231707</td>\n",
       "      <td>1.853659</td>\n",
       "      <td>0.341463</td>\n",
       "      <td>0.304878</td>\n",
       "      <td>1.121951</td>\n",
       "      <td>82</td>\n",
       "      <td>30.45122</td>\n",
       "    </tr>\n",
       "  </tbody>\n",
       "</table>\n",
       "</div>"
      ],
      "text/plain": [
       "    cuebiq_id          home_block  population    R_White  R_HispanicLatinx  R_AfricanAmerican  R_AmericanIndianAlaska   R_Asian   R_Other  devices    weight\n",
       "0  1847634951  US.CA.065.044510.2  2497.0      10.597561  16.231707         1.853659           0.341463                0.304878  1.121951  82       30.45122"
      ]
     },
     "execution_count": 11,
     "metadata": {},
     "output_type": "execute_result"
    }
   ],
   "source": [
    "# Greater LA: Ventura County, San Bernardino County, Riverside County, Los Angeles County, Orange County\n",
    "df_indi_home_loc_race = pd.read_pickle(\"../output/GreaterLA_Individual_race_composition_20190301.pkl\")\n",
    "print(df_indi_home_loc_race.shape[0]) # these are Greater LA local residents: 751552 (2022 mobile phone data)\n",
    "df_indi_home_loc_race.head(1)"
   ]
  },
  {
   "cell_type": "markdown",
   "id": "69e452b0-ac50-47fd-9352-65d558bf0f74",
   "metadata": {},
   "source": [
    "# 1. diversity measured by proportions of different racial populations"
   ]
  },
  {
   "cell_type": "code",
   "execution_count": 58,
   "id": "5c24a205-6517-485f-9462-6dc440d7f799",
   "metadata": {},
   "outputs": [],
   "source": [
    "weekday = False#False, True\n",
    "timeofday = 'evening' #morning,noon,afternoon,evening\n",
    "\n",
    "# date = ['20220301_20220308','20220309_20220316','20220317_20220323','20220324_20220331']\n",
    "date = ['20190301_20190308','20190309_20190316','20190317_20190323','20190324_20190331']\n",
    "# weekendays = [20220305,20220306,20220312,20220313,20220319,20220320,20220326,20220327]\n",
    "weekendays = [20190302,20190303,20190309,20190310,20190316,20190317,20190323,20190324,20190330,20190331]"
   ]
  },
  {
   "cell_type": "markdown",
   "id": "bb10e138-334d-4c27-9513-8fe70b43e9dd",
   "metadata": {},
   "source": [
    "option 1: distinguish between weekend and weekdays and the time of the day based on visit's start hour (Morning 5-10, Noon 11-13, Afternoon 14-17, Evening 18-4)"
   ]
  },
  {
   "cell_type": "code",
   "execution_count": 59,
   "id": "5dbf2e72-68fa-445a-bfdf-2b90c7c24037",
   "metadata": {},
   "outputs": [
    {
     "name": "stdout",
     "output_type": "stream",
     "text": [
      "weekday: False , evening **********\n",
      "**** 20190301_20190308 ****\n",
      "visit records: 81086\n",
      "unique persons: 44223\n",
      "unique POIs: 14026\n",
      "---after left join CA race---\n",
      "visit records: 75082\n",
      "unique persons: 40723\n",
      "unique POIs: 13549\n",
      "**** 20190309_20190316 ****\n",
      "visit records: 144680\n",
      "unique persons: 73405\n",
      "unique POIs: 17520\n",
      "---after left join CA race---\n",
      "visit records: 122791\n",
      "unique persons: 61322\n",
      "unique POIs: 16649\n",
      "**** 20190317_20190323 ****\n",
      "visit records: 94318\n",
      "unique persons: 52611\n",
      "unique POIs: 14944\n",
      "---after left join CA race---\n",
      "visit records: 75973\n",
      "unique persons: 41721\n",
      "unique POIs: 13821\n",
      "**** 20190324_20190331 ****\n",
      "visit records: 134274\n",
      "unique persons: 69610\n",
      "unique POIs: 16848\n",
      "---after left join CA race---\n",
      "visit records: 103313\n",
      "unique persons: 52732\n",
      "unique POIs: 15441\n",
      "CPU times: user 10.4 s, sys: 1.62 s, total: 12 s\n",
      "Wall time: 12 s\n"
     ]
    }
   ],
   "source": [
    "%%time\n",
    "\n",
    "sum_df_race = pd.DataFrame()\n",
    "print('weekday:',weekday,',',timeofday,'*'*10)\n",
    "for d in date:\n",
    "    df_visit_LA = pd.read_pickle(\"../output/LA_visit_with_poiCategory\"+str(d)+\".pkl\") # POI visits in LA\n",
    "    if weekday:#1. select weekdays\n",
    "        df_visit_LA = df_visit_LA[~df_visit_LA.event_date.isin(weekendays)]        \n",
    "    else:#2. select weekends\n",
    "        df_visit_LA = df_visit_LA[df_visit_LA.event_date.isin(weekendays)] \n",
    "    df_visit_LA.drop_duplicates(keep='last', inplace=True)\n",
    "    \n",
    "    #3. differentiate morning,noon,afternoon,evening\n",
    "    if timeofday == 'morning':\n",
    "        df_visit_LA = df_visit_LA[(df_visit_LA.start_hour<=10)&(df_visit_LA.end_hour>=5)]\n",
    "    elif timeofday == 'noon':\n",
    "        df_visit_LA = df_visit_LA[(df_visit_LA.start_hour<=13)&(df_visit_LA.end_hour>=11)]\n",
    "    elif timeofday == 'afternoon':\n",
    "        df_visit_LA = df_visit_LA[(df_visit_LA.start_hour<=17)&(df_visit_LA.end_hour>=14)]\n",
    "    elif timeofday == 'evening':\n",
    "        df_visit_LA = df_visit_LA[(df_visit_LA.start_hour<=24)&(df_visit_LA.end_hour>=18)]\n",
    "        # df_visit_LA = df_visit_LA[((df_visit_LA.start_hour<=24)&(df_visit_LA.end_hour>=18))|((df_visit_LA.start_hour<=4)&(df_visit_LA.end_hour>=0))]\n",
    "\n",
    "    print('****',d,'****')\n",
    "    print('visit records:',df_visit_LA.shape[0])\n",
    "    print('unique persons:',df_visit_LA.cuebiq_id.unique().shape[0])\n",
    "    print('unique POIs:',df_visit_LA.place_id.unique().shape[0])\n",
    "    \n",
    "    df_visit_LA_race = pd.merge(df_visit_LA, df_indi_home_loc_race, on='cuebiq_id')\n",
    "    print(\"---after left join CA race---\") # the counts drop because some visits were coming from outside CA/greater LA\n",
    "    print('visit records:',df_visit_LA_race.shape[0])\n",
    "    print('unique persons:',df_visit_LA_race.cuebiq_id.unique().shape[0])\n",
    "    print('unique POIs:',df_visit_LA_race.place_id.unique().shape[0])    \n",
    "\n",
    "    sub_df_visit_LA_race = df_visit_LA_race[['place_id','R_White','R_HispanicLatinx','R_AfricanAmerican','R_AmericanIndianAlaska','R_Asian','R_Other','weight']]\n",
    "    sub_df_visit_LA_race = sub_df_visit_LA_race.groupby('place_id').sum().reset_index() # groupby POI id\n",
    "    sum_df_race = sum_df_race.append(sub_df_visit_LA_race)"
   ]
  },
  {
   "cell_type": "markdown",
   "id": "0abef128-3063-4acc-8411-6a0bebfec456",
   "metadata": {},
   "source": [
    "option 2: distinguish between weekend and weekdays only"
   ]
  },
  {
   "cell_type": "code",
   "execution_count": 53,
   "id": "181ac326-2112-47dd-bd3b-f4fa667feee5",
   "metadata": {},
   "outputs": [],
   "source": [
    "# %%time\n",
    "\n",
    "# weekday = False\n",
    "\n",
    "# date = ['20220301_20220308','20220309_20220316','20220317_20220323','20220324_20220331']\n",
    "# weekendays = [20220305,20220306,20220312,20220313,20220319,20220320,20220326,20220327]\n",
    "# sum_df_race = pd.DataFrame()\n",
    "# for d in date:\n",
    "#     df_visit_LA = pd.read_pickle(\"./output/LA_visit_with_poiCategory\"+str(d)+\".pkl\")\n",
    "    \n",
    "#     if weekday:#1. select weekdays\n",
    "#         df_visit_LA = df_visit_LA[~df_visit_LA.event_date.isin(weekendays)]        \n",
    "#     else:#2. select weekends\n",
    "#         df_visit_LA = df_visit_LA[df_visit_LA.event_date.isin(weekendays)] \n",
    "#     df_visit_LA.drop_duplicates(keep='last', inplace=True) \n",
    "\n",
    "#     print('****',d,'****')\n",
    "#     print('visit records:',df_visit_LA.shape[0])\n",
    "#     print('unique persons:',df_visit_LA.cuebiq_id.unique().shape[0])\n",
    "#     print('unique POIs:',df_visit_LA.place_id.unique().shape[0])\n",
    "    \n",
    "#     df_visit_LA_race = pd.merge(df_visit_LA, df_indi_home_loc_race,on='cuebiq_id')  \n",
    "    \n",
    "#     print(\"---after left join CA race---\")\n",
    "#     print('visit records:',df_visit_LA_race.shape[0])\n",
    "#     print('unique persons:',df_visit_LA_race.cuebiq_id.unique().shape[0])\n",
    "#     print('unique POIs:',df_visit_LA_race.place_id.unique().shape[0])\n",
    "    \n",
    "#     sub_df_visit_LA_race = df_visit_LA_race[['place_id','R_White','R_HispanicLatinx','R_AfricanAmerican','R_AmericanIndianAlaska','R_Asian','R_Other','weight']]\n",
    "#     sub_df_visit_LA_race = sub_df_visit_LA_race.groupby('place_id').sum().reset_index() # groupby POI id\n",
    "#     sum_df_race = sum_df_race.append(sub_df_visit_LA_race)"
   ]
  },
  {
   "cell_type": "code",
   "execution_count": 8,
   "id": "fc3143fb-f6a8-41ed-b830-7011e873b6f2",
   "metadata": {},
   "outputs": [
    {
     "name": "stdout",
     "output_type": "stream",
     "text": [
      "total visit records: 2046923\n",
      "total unique persons: 239447\n",
      "total unique POIs: 43996\n",
      "CPU times: user 22.7 s, sys: 3.23 s, total: 25.9 s\n",
      "Wall time: 25.9 s\n"
     ]
    }
   ],
   "source": [
    "# %%time\n",
    "# ## this code snippet is only for descriptive statistics and no need to run in the future\n",
    "\n",
    "# weekday = False\n",
    "# date = ['20220301_20220308','20220309_20220316','20220317_20220323','20220324_20220331']\n",
    "# weekendays = [20220305,20220306,20220312,20220313,20220319,20220320,20220326,20220327]\n",
    "# sum_df_race = pd.DataFrame()\n",
    "# for d in date:\n",
    "#     df_visit_LA = pd.read_pickle(\"./output/LA_visit_with_poiCategory\"+str(d)+\".pkl\")\n",
    "#     if weekday:#1. select weekdays\n",
    "#         df_visit_LA = df_visit_LA[~df_visit_LA.event_date.isin(weekendays)]        \n",
    "#     else:#2. select weekends\n",
    "#         df_visit_LA = df_visit_LA[df_visit_LA.event_date.isin(weekendays)] \n",
    "#     df_visit_LA.drop_duplicates(keep='last', inplace=True) \n",
    "#     df_visit_LA_race = pd.merge(df_visit_LA, df_indi_home_loc_race,on='cuebiq_id')  \n",
    "#     sum_df_race = sum_df_race.append(df_visit_LA_race)\n",
    "# print('total visit records:',sum_df_race.shape[0])\n",
    "# print('total unique persons:',sum_df_race.cuebiq_id.unique().shape[0])\n",
    "# print('total unique POIs:',sum_df_race.place_id.unique().shape[0])    "
   ]
  },
  {
   "cell_type": "markdown",
   "id": "09e4b967-69e0-4983-908e-b7c2cbcc44f1",
   "metadata": {},
   "source": [
    "option 3: merge whole month visit (voided)"
   ]
  },
  {
   "cell_type": "code",
   "execution_count": 9,
   "id": "650c7ca8-8242-4b43-9dec-9368c5899f46",
   "metadata": {},
   "outputs": [],
   "source": [
    "# %%time\n",
    "# date = ['20220301_20220308','20220309_20220316','20220317_20220323','20220324_20220331']\n",
    "# #weekend days: 20220305,20220306,20220312,20220313,20220319,20220320,20220326,20220327\n",
    "# sum_df_race = pd.DataFrame()\n",
    "# for d in date:\n",
    "#     df_visit_LA = pd.read_pickle(\"./output/LA_visit_with_poiCategory\"+str(d)+\".pkl\")\n",
    "#     print('****',d,'****')\n",
    "#     print('visit records:',df_visit_LA.shape[0])\n",
    "#     print('unique persons:',df_visit_LA.cuebiq_id.unique().shape[0])\n",
    "#     print('unique POIs:',df_visit_LA.place_id.unique().shape[0])\n",
    "#     df_visit_LA_race = pd.merge(df_visit_LA, df_indi_home_loc_race,on='cuebiq_id')  \n",
    "    \n",
    "#     sub_df_visit_LA_race = df_visit_LA_race[['place_id','R_White','R_HispanicLatinx','R_AfricanAmerican','R_AmericanIndianAlaska','R_Asian','R_Other','weight']]\n",
    "#     sub_df_visit_LA_race = sub_df_visit_LA_race.groupby('place_id').sum().reset_index() # groupby POI id\n",
    "#     print(sub_df_visit_LA_race.shape[0])\n",
    "#     sum_df_race = sum_df_race.append(sub_df_visit_LA_race)\n",
    "#     print(sum_df_race.shape[0])"
   ]
  },
  {
   "cell_type": "code",
   "execution_count": 60,
   "id": "c5dac583-ed57-4753-a094-012d9f6d8e25",
   "metadata": {},
   "outputs": [
    {
     "name": "stdout",
     "output_type": "stream",
     "text": [
      "unique POIs: 22178\n",
      "unique POIs: 22178\n"
     ]
    }
   ],
   "source": [
    "sum_df_race = sum_df_race.groupby('place_id').sum().reset_index()\n",
    "print('unique POIs:',sum_df_race.shape[0])\n",
    "sum_df_race = sum_df_race[sum_df_race['weight']>5] #here weight correspond to weighted visit population at each POI\n",
    "print('unique POIs:',sum_df_race.shape[0])"
   ]
  },
  {
   "cell_type": "code",
   "execution_count": 61,
   "id": "c515b590-51be-4f02-9206-4a2d7db5de46",
   "metadata": {},
   "outputs": [
    {
     "name": "stdout",
     "output_type": "stream",
     "text": [
      "moderate diversity    16312\n",
      "high diversity        3534 \n",
      "low diversity         2332 \n",
      "Name: class, dtype: int64\n",
      "R_HispanicLatinx_moderate diversity     9538\n",
      "R_White_moderate diversity              5571\n",
      "high diversity                          3534\n",
      "R_HispanicLatinx_low diversity          2095\n",
      "R_Asian_moderate diversity              907 \n",
      "R_AfricanAmerican_moderate diversity    294 \n",
      "R_White_low diversity                   182 \n",
      "R_Asian_low diversity                   38  \n",
      "R_AfricanAmerican_low diversity         17  \n",
      "R_Other_moderate diversity              2   \n",
      "Name: class_dominant, dtype: int64\n",
      "22178\n",
      "CPU times: user 25.4 s, sys: 11.6 ms, total: 25.4 s\n",
      "Wall time: 25.4 s\n"
     ]
    },
    {
     "data": {
      "text/html": [
       "<div>\n",
       "<style scoped>\n",
       "    .dataframe tbody tr th:only-of-type {\n",
       "        vertical-align: middle;\n",
       "    }\n",
       "\n",
       "    .dataframe tbody tr th {\n",
       "        vertical-align: top;\n",
       "    }\n",
       "\n",
       "    .dataframe thead th {\n",
       "        text-align: right;\n",
       "    }\n",
       "</style>\n",
       "<table border=\"1\" class=\"dataframe\">\n",
       "  <thead>\n",
       "    <tr style=\"text-align: right;\">\n",
       "      <th></th>\n",
       "      <th>place_id</th>\n",
       "      <th>R_White</th>\n",
       "      <th>R_HispanicLatinx</th>\n",
       "      <th>R_AfricanAmerican</th>\n",
       "      <th>R_AmericanIndianAlaska</th>\n",
       "      <th>R_Asian</th>\n",
       "      <th>R_Other</th>\n",
       "      <th>weight</th>\n",
       "      <th>scaled_entropy</th>\n",
       "      <th>class</th>\n",
       "      <th>dominant_race</th>\n",
       "      <th>class_dominant</th>\n",
       "    </tr>\n",
       "  </thead>\n",
       "  <tbody>\n",
       "    <tr>\n",
       "      <th>0</th>\n",
       "      <td>25033527.0</td>\n",
       "      <td>0.049251</td>\n",
       "      <td>0.341006</td>\n",
       "      <td>0.000000</td>\n",
       "      <td>0.000000</td>\n",
       "      <td>0.417024</td>\n",
       "      <td>0.192719</td>\n",
       "      <td>51.888889</td>\n",
       "      <td>0.668175</td>\n",
       "      <td>moderate diversity</td>\n",
       "      <td>R_Asian</td>\n",
       "      <td>R_Asian_moderate diversity</td>\n",
       "    </tr>\n",
       "    <tr>\n",
       "      <th>1</th>\n",
       "      <td>25033543.0</td>\n",
       "      <td>0.653545</td>\n",
       "      <td>0.108054</td>\n",
       "      <td>0.013055</td>\n",
       "      <td>0.001958</td>\n",
       "      <td>0.170516</td>\n",
       "      <td>0.052872</td>\n",
       "      <td>105.655782</td>\n",
       "      <td>0.582854</td>\n",
       "      <td>moderate diversity</td>\n",
       "      <td>R_White</td>\n",
       "      <td>R_White_moderate diversity</td>\n",
       "    </tr>\n",
       "    <tr>\n",
       "      <th>2</th>\n",
       "      <td>25033570.0</td>\n",
       "      <td>0.395486</td>\n",
       "      <td>0.174956</td>\n",
       "      <td>0.041486</td>\n",
       "      <td>0.000000</td>\n",
       "      <td>0.342111</td>\n",
       "      <td>0.045962</td>\n",
       "      <td>122.322587</td>\n",
       "      <td>0.732462</td>\n",
       "      <td>moderate diversity</td>\n",
       "      <td>R_White</td>\n",
       "      <td>R_White_moderate diversity</td>\n",
       "    </tr>\n",
       "    <tr>\n",
       "      <th>3</th>\n",
       "      <td>25033573.0</td>\n",
       "      <td>0.326521</td>\n",
       "      <td>0.315934</td>\n",
       "      <td>0.050372</td>\n",
       "      <td>0.011415</td>\n",
       "      <td>0.213802</td>\n",
       "      <td>0.081956</td>\n",
       "      <td>179.945254</td>\n",
       "      <td>0.818149</td>\n",
       "      <td>high diversity</td>\n",
       "      <td>R_White</td>\n",
       "      <td>high diversity</td>\n",
       "    </tr>\n",
       "    <tr>\n",
       "      <th>4</th>\n",
       "      <td>25033586.0</td>\n",
       "      <td>0.307159</td>\n",
       "      <td>0.307946</td>\n",
       "      <td>0.036870</td>\n",
       "      <td>0.000000</td>\n",
       "      <td>0.285937</td>\n",
       "      <td>0.062087</td>\n",
       "      <td>38.710069</td>\n",
       "      <td>0.768799</td>\n",
       "      <td>high diversity</td>\n",
       "      <td>R_HispanicLatinx</td>\n",
       "      <td>high diversity</td>\n",
       "    </tr>\n",
       "  </tbody>\n",
       "</table>\n",
       "</div>"
      ],
      "text/plain": [
       "     place_id   R_White  R_HispanicLatinx  R_AfricanAmerican  R_AmericanIndianAlaska   R_Asian   R_Other      weight  scaled_entropy               class     dominant_race              class_dominant\n",
       "0  25033527.0  0.049251  0.341006          0.000000           0.000000                0.417024  0.192719  51.888889   0.668175        moderate diversity  R_Asian           R_Asian_moderate diversity\n",
       "1  25033543.0  0.653545  0.108054          0.013055           0.001958                0.170516  0.052872  105.655782  0.582854        moderate diversity  R_White           R_White_moderate diversity\n",
       "2  25033570.0  0.395486  0.174956          0.041486           0.000000                0.342111  0.045962  122.322587  0.732462        moderate diversity  R_White           R_White_moderate diversity\n",
       "3  25033573.0  0.326521  0.315934          0.050372           0.011415                0.213802  0.081956  179.945254  0.818149        high diversity      R_White           high diversity            \n",
       "4  25033586.0  0.307159  0.307946          0.036870           0.000000                0.285937  0.062087  38.710069   0.768799        high diversity      R_HispanicLatinx  high diversity            "
      ]
     },
     "execution_count": 61,
     "metadata": {},
     "output_type": "execute_result"
    }
   ],
   "source": [
    "%%time\n",
    "#compute entropy and identify dominant group\n",
    "sum_df_race['R_White'] = sum_df_race['R_White']/sum_df_race['weight']\n",
    "sum_df_race['R_AfricanAmerican'] = sum_df_race['R_AfricanAmerican']/sum_df_race['weight']\n",
    "sum_df_race['R_AmericanIndianAlaska'] = sum_df_race['R_AmericanIndianAlaska']/sum_df_race['weight']\n",
    "sum_df_race['R_Asian'] = sum_df_race['R_Asian']/sum_df_race['weight']\n",
    "sum_df_race['R_HispanicLatinx'] = sum_df_race['R_HispanicLatinx']/sum_df_race['weight']\n",
    "sum_df_race['R_Other'] = sum_df_race['R_Other']/sum_df_race['weight']\n",
    "\n",
    "sum_df_race = sum_df_race.apply(lambda x:compute_scaled_entropy(x,'R_White','R_AfricanAmerican','R_HispanicLatinx','R_AmericanIndianAlaska','R_Asian','R_Other'), axis=1)\n",
    "sum_df_race = sum_df_race[sum_df_race['scaled_entropy'].notna()]\n",
    "sum_df_race = extract_dominant_group(sum_df_race)\n",
    "print(sum_df_race.shape[0])\n",
    "sum_df_race.head()"
   ]
  },
  {
   "cell_type": "code",
   "execution_count": 62,
   "id": "ef692e9f-0b28-4b2b-8a85-82e8977b821c",
   "metadata": {},
   "outputs": [
    {
     "name": "stdout",
     "output_type": "stream",
     "text": [
      "rows: 22178\n",
      "unique POIs: 22178\n"
     ]
    },
    {
     "data": {
      "text/html": [
       "<div>\n",
       "<style scoped>\n",
       "    .dataframe tbody tr th:only-of-type {\n",
       "        vertical-align: middle;\n",
       "    }\n",
       "\n",
       "    .dataframe tbody tr th {\n",
       "        vertical-align: top;\n",
       "    }\n",
       "\n",
       "    .dataframe thead th {\n",
       "        text-align: right;\n",
       "    }\n",
       "</style>\n",
       "<table border=\"1\" class=\"dataframe\">\n",
       "  <thead>\n",
       "    <tr style=\"text-align: right;\">\n",
       "      <th></th>\n",
       "      <th>place_id</th>\n",
       "      <th>R_White</th>\n",
       "      <th>R_HispanicLatinx</th>\n",
       "      <th>R_AfricanAmerican</th>\n",
       "      <th>R_AmericanIndianAlaska</th>\n",
       "      <th>R_Asian</th>\n",
       "      <th>R_Other</th>\n",
       "      <th>weight</th>\n",
       "      <th>scaled_entropy</th>\n",
       "      <th>class</th>\n",
       "      <th>dominant_race</th>\n",
       "      <th>class_dominant</th>\n",
       "      <th>poi_lat</th>\n",
       "      <th>poi_lng</th>\n",
       "      <th>brand_name</th>\n",
       "      <th>sic_code</th>\n",
       "      <th>sic_name</th>\n",
       "    </tr>\n",
       "  </thead>\n",
       "  <tbody>\n",
       "    <tr>\n",
       "      <th>0</th>\n",
       "      <td>25033527.0</td>\n",
       "      <td>0.049251</td>\n",
       "      <td>0.341006</td>\n",
       "      <td>0.000000</td>\n",
       "      <td>0.000000</td>\n",
       "      <td>0.417024</td>\n",
       "      <td>0.192719</td>\n",
       "      <td>51.888889</td>\n",
       "      <td>0.668175</td>\n",
       "      <td>moderate diversity</td>\n",
       "      <td>R_Asian</td>\n",
       "      <td>R_Asian_moderate diversity</td>\n",
       "      <td>34.033524</td>\n",
       "      <td>-118.272158</td>\n",
       "      <td>Porsche</td>\n",
       "      <td>5511.0</td>\n",
       "      <td>Motor Vehicle Dealers (New and Used)</td>\n",
       "    </tr>\n",
       "    <tr>\n",
       "      <th>1</th>\n",
       "      <td>25033543.0</td>\n",
       "      <td>0.653545</td>\n",
       "      <td>0.108054</td>\n",
       "      <td>0.013055</td>\n",
       "      <td>0.001958</td>\n",
       "      <td>0.170516</td>\n",
       "      <td>0.052872</td>\n",
       "      <td>105.655782</td>\n",
       "      <td>0.582854</td>\n",
       "      <td>moderate diversity</td>\n",
       "      <td>R_White</td>\n",
       "      <td>R_White_moderate diversity</td>\n",
       "      <td>34.168174</td>\n",
       "      <td>-118.595764</td>\n",
       "      <td>Porsche</td>\n",
       "      <td>5511.0</td>\n",
       "      <td>Motor Vehicle Dealers (New and Used)</td>\n",
       "    </tr>\n",
       "    <tr>\n",
       "      <th>2</th>\n",
       "      <td>25033570.0</td>\n",
       "      <td>0.395486</td>\n",
       "      <td>0.174956</td>\n",
       "      <td>0.041486</td>\n",
       "      <td>0.000000</td>\n",
       "      <td>0.342111</td>\n",
       "      <td>0.045962</td>\n",
       "      <td>122.322587</td>\n",
       "      <td>0.732462</td>\n",
       "      <td>moderate diversity</td>\n",
       "      <td>R_White</td>\n",
       "      <td>R_White_moderate diversity</td>\n",
       "      <td>34.146216</td>\n",
       "      <td>-118.157151</td>\n",
       "      <td>Porsche</td>\n",
       "      <td>5511.0</td>\n",
       "      <td>Motor Vehicle Dealers (New and Used)</td>\n",
       "    </tr>\n",
       "    <tr>\n",
       "      <th>3</th>\n",
       "      <td>25033573.0</td>\n",
       "      <td>0.326521</td>\n",
       "      <td>0.315934</td>\n",
       "      <td>0.050372</td>\n",
       "      <td>0.011415</td>\n",
       "      <td>0.213802</td>\n",
       "      <td>0.081956</td>\n",
       "      <td>179.945254</td>\n",
       "      <td>0.818149</td>\n",
       "      <td>high diversity</td>\n",
       "      <td>R_White</td>\n",
       "      <td>high diversity</td>\n",
       "      <td>33.923604</td>\n",
       "      <td>-118.103156</td>\n",
       "      <td>Porsche</td>\n",
       "      <td>5511.0</td>\n",
       "      <td>Motor Vehicle Dealers (New and Used)</td>\n",
       "    </tr>\n",
       "    <tr>\n",
       "      <th>4</th>\n",
       "      <td>25033586.0</td>\n",
       "      <td>0.307159</td>\n",
       "      <td>0.307946</td>\n",
       "      <td>0.036870</td>\n",
       "      <td>0.000000</td>\n",
       "      <td>0.285937</td>\n",
       "      <td>0.062087</td>\n",
       "      <td>38.710069</td>\n",
       "      <td>0.768799</td>\n",
       "      <td>high diversity</td>\n",
       "      <td>R_HispanicLatinx</td>\n",
       "      <td>high diversity</td>\n",
       "      <td>33.790930</td>\n",
       "      <td>-118.143355</td>\n",
       "      <td>Porsche</td>\n",
       "      <td>5511.0</td>\n",
       "      <td>Motor Vehicle Dealers (New and Used)</td>\n",
       "    </tr>\n",
       "  </tbody>\n",
       "</table>\n",
       "</div>"
      ],
      "text/plain": [
       "     place_id   R_White  R_HispanicLatinx  R_AfricanAmerican  R_AmericanIndianAlaska   R_Asian   R_Other      weight  scaled_entropy               class     dominant_race              class_dominant    poi_lat     poi_lng brand_name  sic_code                              sic_name\n",
       "0  25033527.0  0.049251  0.341006          0.000000           0.000000                0.417024  0.192719  51.888889   0.668175        moderate diversity  R_Asian           R_Asian_moderate diversity  34.033524 -118.272158  Porsche    5511.0    Motor Vehicle Dealers (New and Used)\n",
       "1  25033543.0  0.653545  0.108054          0.013055           0.001958                0.170516  0.052872  105.655782  0.582854        moderate diversity  R_White           R_White_moderate diversity  34.168174 -118.595764  Porsche    5511.0    Motor Vehicle Dealers (New and Used)\n",
       "2  25033570.0  0.395486  0.174956          0.041486           0.000000                0.342111  0.045962  122.322587  0.732462        moderate diversity  R_White           R_White_moderate diversity  34.146216 -118.157151  Porsche    5511.0    Motor Vehicle Dealers (New and Used)\n",
       "3  25033573.0  0.326521  0.315934          0.050372           0.011415                0.213802  0.081956  179.945254  0.818149        high diversity      R_White           high diversity              33.923604 -118.103156  Porsche    5511.0    Motor Vehicle Dealers (New and Used)\n",
       "4  25033586.0  0.307159  0.307946          0.036870           0.000000                0.285937  0.062087  38.710069   0.768799        high diversity      R_HispanicLatinx  high diversity              33.790930 -118.143355  Porsche    5511.0    Motor Vehicle Dealers (New and Used)"
      ]
     },
     "execution_count": 62,
     "metadata": {},
     "output_type": "execute_result"
    }
   ],
   "source": [
    "sub_df_visit_LA_race_poi = pd.merge(sum_df_race,df_poi_cat[['place_id','poi_lat','poi_lng','brand_name','sic_code','sic_name']],on='place_id')\n",
    "# sub_df_visit_LA_race_poi = sub_df_visit_LA_race_poi[sub_df_visit_LA_race_poi['class_dominant']!='R_Other_moderate diversity']\n",
    "print('rows:',sub_df_visit_LA_race_poi.shape[0]) #36053\n",
    "print('unique POIs:',sub_df_visit_LA_race_poi.place_id.unique().shape[0]) #36053\n",
    "sub_df_visit_LA_race_poi.head()"
   ]
  },
  {
   "cell_type": "code",
   "execution_count": 63,
   "id": "2b0f33a5-9318-4b9e-ad7f-1fa56f444b3f",
   "metadata": {},
   "outputs": [],
   "source": [
    "##for option 1:\n",
    "if weekday:\n",
    "    outputpath = \"../output/onlyGreaterLAresidents/LA_POI_diversity_201903_weekday_\"+timeofday+\".pkl\"\n",
    "else:\n",
    "    outputpath = \"../output/onlyGreaterLAresidents/LA_POI_diversity_201903_weekend_\"+timeofday+\".pkl\"\n",
    "sub_df_visit_LA_race_poi.to_pickle(outputpath)\n",
    "\n",
    "##for option 2:\n",
    "# if weekday:\n",
    "#     outputpath = \"../output/onlyGreaterLAresidents/LA_POI_diversity_202203_weekday.pkl\"\n",
    "# else:\n",
    "#     outputpath = \"../output/onlyGreaterLAresidents/LA_POI_diversity_202203_weekend.pkl\"\n",
    "# sub_df_visit_LA_race_poi.to_pickle(outputpath)\n",
    "\n",
    "# sub_df_visit_LA_race_poi = pd.read_pickle(\"../output/LA_POI_diversity_202203.pkl\")  \n",
    "## pd.crosstab(sub_df_visit_LA_race_poi.class_dominant, sub_df_visit_LA_race_poi.sic_name)"
   ]
  },
  {
   "cell_type": "markdown",
   "id": "da136bdf-97ad-411a-aa5a-b5de31661a19",
   "metadata": {},
   "source": [
    "# 2. diversity measured by proportion of dwell time at POI by different racial groups"
   ]
  },
  {
   "cell_type": "code",
   "execution_count": 99,
   "id": "13b52911-4a5d-477c-8b13-56ad56ab3666",
   "metadata": {},
   "outputs": [],
   "source": [
    "weekday = False\n",
    "timeofday = 'evening' #morning,noon,afternoon,evening"
   ]
  },
  {
   "cell_type": "code",
   "execution_count": 100,
   "id": "c7644efb-a7d1-4e37-a4e9-6f6c168a75bd",
   "metadata": {},
   "outputs": [
    {
     "name": "stdout",
     "output_type": "stream",
     "text": [
      "weekday: False , evening **********\n",
      "**** 20220301_20220308 ****\n",
      "visit records: 148399\n",
      "unique persons: 63858\n",
      "unique POIs: 24962\n",
      "---after left join CA race---\n",
      "visit records: 131984\n",
      "unique persons: 56374\n",
      "unique POIs: 24119\n",
      "**** 20220309_20220316 ****\n",
      "visit records: 167767\n",
      "unique persons: 72272\n",
      "unique POIs: 26078\n",
      "---after left join CA race---\n",
      "visit records: 138212\n",
      "unique persons: 58841\n",
      "unique POIs: 24689\n",
      "**** 20220317_20220323 ****\n",
      "visit records: 170964\n",
      "unique persons: 72946\n",
      "unique POIs: 26284\n",
      "---after left join CA race---\n",
      "visit records: 125651\n",
      "unique persons: 52782\n",
      "unique POIs: 24096\n",
      "**** 20220324_20220331 ****\n",
      "visit records: 162983\n",
      "unique persons: 69949\n",
      "unique POIs: 26175\n",
      "---after left join CA race---\n",
      "visit records: 116174\n",
      "unique persons: 49186\n",
      "unique POIs: 23577\n",
      "CPU times: user 19.5 s, sys: 3.45 s, total: 22.9 s\n",
      "Wall time: 22.9 s\n"
     ]
    }
   ],
   "source": [
    "%%time\n",
    "date = ['20220301_20220308','20220309_20220316','20220317_20220323','20220324_20220331']\n",
    "weekendays = [20220305,20220306,20220312,20220313,20220319,20220320,20220326,20220327]\n",
    "\n",
    "df_duration_byrace = pd.DataFrame()\n",
    "print('weekday:',weekday,',',timeofday,'*'*10)\n",
    "for d in date:\n",
    "    df_visit_LA = pd.read_pickle(\"./output/LA_visit_with_poiCategory\"+str(d)+\".pkl\")\n",
    "    \n",
    "    if weekday:#1. select weekdays\n",
    "        df_visit_LA = df_visit_LA[~df_visit_LA.event_date.isin(weekendays)]        \n",
    "    else:#2.. select weekends\n",
    "        df_visit_LA = df_visit_LA[df_visit_LA.event_date.isin(weekendays)] \n",
    "    df_visit_LA.drop_duplicates(keep='last', inplace=True)\n",
    "    \n",
    "    #3. differentiate morning,noon,afternoon,evening\n",
    "    if timeofday == 'morning':\n",
    "        df_visit_LA = df_visit_LA[(df_visit_LA.start_hour<=10)&(df_visit_LA.end_hour>=5)]\n",
    "    elif timeofday == 'noon':\n",
    "        df_visit_LA = df_visit_LA[(df_visit_LA.start_hour<=13)&(df_visit_LA.end_hour>=11)]\n",
    "    elif timeofday == 'afternoon':\n",
    "        df_visit_LA = df_visit_LA[(df_visit_LA.start_hour<=17)&(df_visit_LA.end_hour>=14)]\n",
    "    elif timeofday == 'evening':\n",
    "        df_visit_LA = df_visit_LA[((df_visit_LA.start_hour<=24)&(df_visit_LA.end_hour>=18))|((df_visit_LA.start_hour<=4)&(df_visit_LA.end_hour>=0))]\n",
    "\n",
    "    print('****',d,'****')\n",
    "    print('visit records:',df_visit_LA.shape[0])\n",
    "    print('unique persons:',df_visit_LA.cuebiq_id.unique().shape[0])\n",
    "    print('unique POIs:',df_visit_LA.place_id.unique().shape[0])\n",
    "    \n",
    "    df_visit_LA_race = pd.merge(df_visit_LA, df_indi_home_loc_race,on='cuebiq_id')  \n",
    "    print(\"---after left join CA race---\")\n",
    "    print('visit records:',df_visit_LA_race.shape[0])\n",
    "    print('unique persons:',df_visit_LA_race.cuebiq_id.unique().shape[0])\n",
    "    print('unique POIs:',df_visit_LA_race.place_id.unique().shape[0])    \n",
    "    \n",
    "    sub_df_visit_LA_race = df_visit_LA_race[['place_id','dwell_time_minutes','R_White','R_HispanicLatinx','R_AfricanAmerican','R_AmericanIndianAlaska','R_Asian','R_Other']]\n",
    "    sub_df_visit_LA_race['R_White'] = sub_df_visit_LA_race['R_White']*sub_df_visit_LA_race['dwell_time_minutes']\n",
    "    sub_df_visit_LA_race['R_HispanicLatinx'] = sub_df_visit_LA_race['R_HispanicLatinx']*sub_df_visit_LA_race['dwell_time_minutes']\n",
    "    sub_df_visit_LA_race['R_AfricanAmerican'] = sub_df_visit_LA_race['R_AfricanAmerican']*sub_df_visit_LA_race['dwell_time_minutes']\n",
    "    sub_df_visit_LA_race['R_AmericanIndianAlaska'] = sub_df_visit_LA_race['R_AmericanIndianAlaska']*sub_df_visit_LA_race['dwell_time_minutes']\n",
    "    sub_df_visit_LA_race['R_Asian'] = sub_df_visit_LA_race['R_Asian']*sub_df_visit_LA_race['dwell_time_minutes']\n",
    "    sub_df_visit_LA_race['R_Other'] = sub_df_visit_LA_race['R_Other']*sub_df_visit_LA_race['dwell_time_minutes']\n",
    "    \n",
    "    sub_df_visit_LA_race = sub_df_visit_LA_race.groupby('place_id').sum().reset_index() # groupby POI id\n",
    "    sub_df_visit_LA_race.drop(['dwell_time_minutes'], inplace=True, axis=1)\n",
    "    sub_df_visit_LA_race['total_duration'] = sub_df_visit_LA_race['R_White']+sub_df_visit_LA_race['R_HispanicLatinx']+sub_df_visit_LA_race['R_AfricanAmerican']+sub_df_visit_LA_race['R_AmericanIndianAlaska']+sub_df_visit_LA_race['R_Asian']+sub_df_visit_LA_race['R_Other']\n",
    "    df_duration_byrace = df_duration_byrace.append(sub_df_visit_LA_race)"
   ]
  },
  {
   "cell_type": "code",
   "execution_count": 101,
   "id": "2a31f621-db1f-41e4-83fd-11adbf412a89",
   "metadata": {},
   "outputs": [
    {
     "name": "stdout",
     "output_type": "stream",
     "text": [
      "unique POIs: 33546\n",
      "unique POIs: 33546\n",
      "moderate diversity    24837\n",
      "high diversity        4979 \n",
      "low diversity         3730 \n",
      "Name: class, dtype: int64\n",
      "R_HispanicLatinx_moderate diversity     15472\n",
      "R_White_moderate diversity              7767 \n",
      "high diversity                          4979 \n",
      "R_HispanicLatinx_low diversity          3381 \n",
      "R_Asian_moderate diversity              1215 \n",
      "R_AfricanAmerican_moderate diversity    381  \n",
      "R_White_low diversity                   295  \n",
      "R_Asian_low diversity                   31   \n",
      "R_AfricanAmerican_low diversity         23   \n",
      "R_Other_moderate diversity              2    \n",
      "Name: class_dominant, dtype: int64\n",
      "33546\n",
      "CPU times: user 38.9 s, sys: 31.3 ms, total: 38.9 s\n",
      "Wall time: 38.9 s\n"
     ]
    },
    {
     "data": {
      "text/html": [
       "<div>\n",
       "<style scoped>\n",
       "    .dataframe tbody tr th:only-of-type {\n",
       "        vertical-align: middle;\n",
       "    }\n",
       "\n",
       "    .dataframe tbody tr th {\n",
       "        vertical-align: top;\n",
       "    }\n",
       "\n",
       "    .dataframe thead th {\n",
       "        text-align: right;\n",
       "    }\n",
       "</style>\n",
       "<table border=\"1\" class=\"dataframe\">\n",
       "  <thead>\n",
       "    <tr style=\"text-align: right;\">\n",
       "      <th></th>\n",
       "      <th>place_id</th>\n",
       "      <th>R_White</th>\n",
       "      <th>R_HispanicLatinx</th>\n",
       "      <th>R_AfricanAmerican</th>\n",
       "      <th>R_AmericanIndianAlaska</th>\n",
       "      <th>R_Asian</th>\n",
       "      <th>R_Other</th>\n",
       "      <th>total_duration</th>\n",
       "      <th>scaled_entropy</th>\n",
       "      <th>class</th>\n",
       "      <th>dominant_race</th>\n",
       "      <th>class_dominant</th>\n",
       "    </tr>\n",
       "  </thead>\n",
       "  <tbody>\n",
       "    <tr>\n",
       "      <th>0</th>\n",
       "      <td>25033527.0</td>\n",
       "      <td>0.042534</td>\n",
       "      <td>0.515117</td>\n",
       "      <td>0.392637</td>\n",
       "      <td>0.002455</td>\n",
       "      <td>0.016887</td>\n",
       "      <td>0.030370</td>\n",
       "      <td>20170.947396</td>\n",
       "      <td>0.576455</td>\n",
       "      <td>moderate diversity</td>\n",
       "      <td>R_HispanicLatinx</td>\n",
       "      <td>R_HispanicLatinx_moderate diversity</td>\n",
       "    </tr>\n",
       "    <tr>\n",
       "      <th>1</th>\n",
       "      <td>25033543.0</td>\n",
       "      <td>0.234384</td>\n",
       "      <td>0.237928</td>\n",
       "      <td>0.050881</td>\n",
       "      <td>0.000000</td>\n",
       "      <td>0.416945</td>\n",
       "      <td>0.059862</td>\n",
       "      <td>710.189318</td>\n",
       "      <td>0.762654</td>\n",
       "      <td>high diversity</td>\n",
       "      <td>R_Asian</td>\n",
       "      <td>high diversity</td>\n",
       "    </tr>\n",
       "    <tr>\n",
       "      <th>2</th>\n",
       "      <td>25033570.0</td>\n",
       "      <td>0.332564</td>\n",
       "      <td>0.512702</td>\n",
       "      <td>0.010008</td>\n",
       "      <td>0.000000</td>\n",
       "      <td>0.130870</td>\n",
       "      <td>0.013857</td>\n",
       "      <td>1477.448485</td>\n",
       "      <td>0.602841</td>\n",
       "      <td>moderate diversity</td>\n",
       "      <td>R_HispanicLatinx</td>\n",
       "      <td>R_HispanicLatinx_moderate diversity</td>\n",
       "    </tr>\n",
       "    <tr>\n",
       "      <th>3</th>\n",
       "      <td>25033573.0</td>\n",
       "      <td>0.473216</td>\n",
       "      <td>0.248087</td>\n",
       "      <td>0.044680</td>\n",
       "      <td>0.003456</td>\n",
       "      <td>0.131326</td>\n",
       "      <td>0.099235</td>\n",
       "      <td>2263.356881</td>\n",
       "      <td>0.755800</td>\n",
       "      <td>moderate diversity</td>\n",
       "      <td>R_White</td>\n",
       "      <td>R_White_moderate diversity</td>\n",
       "    </tr>\n",
       "    <tr>\n",
       "      <th>4</th>\n",
       "      <td>25033658.0</td>\n",
       "      <td>0.116337</td>\n",
       "      <td>0.883663</td>\n",
       "      <td>0.000000</td>\n",
       "      <td>0.000000</td>\n",
       "      <td>0.000000</td>\n",
       "      <td>0.000000</td>\n",
       "      <td>1948.269388</td>\n",
       "      <td>0.200675</td>\n",
       "      <td>low diversity</td>\n",
       "      <td>R_HispanicLatinx</td>\n",
       "      <td>R_HispanicLatinx_low diversity</td>\n",
       "    </tr>\n",
       "  </tbody>\n",
       "</table>\n",
       "</div>"
      ],
      "text/plain": [
       "     place_id   R_White  R_HispanicLatinx  R_AfricanAmerican  R_AmericanIndianAlaska   R_Asian   R_Other  total_duration  scaled_entropy               class     dominant_race                       class_dominant\n",
       "0  25033527.0  0.042534  0.515117          0.392637           0.002455                0.016887  0.030370  20170.947396    0.576455        moderate diversity  R_HispanicLatinx  R_HispanicLatinx_moderate diversity\n",
       "1  25033543.0  0.234384  0.237928          0.050881           0.000000                0.416945  0.059862  710.189318      0.762654        high diversity      R_Asian           high diversity                     \n",
       "2  25033570.0  0.332564  0.512702          0.010008           0.000000                0.130870  0.013857  1477.448485     0.602841        moderate diversity  R_HispanicLatinx  R_HispanicLatinx_moderate diversity\n",
       "3  25033573.0  0.473216  0.248087          0.044680           0.003456                0.131326  0.099235  2263.356881     0.755800        moderate diversity  R_White           R_White_moderate diversity         \n",
       "4  25033658.0  0.116337  0.883663          0.000000           0.000000                0.000000  0.000000  1948.269388     0.200675        low diversity       R_HispanicLatinx  R_HispanicLatinx_low diversity     "
      ]
     },
     "execution_count": 101,
     "metadata": {},
     "output_type": "execute_result"
    }
   ],
   "source": [
    "%%time\n",
    "df_duration_byrace = df_duration_byrace.groupby('place_id').sum().reset_index()\n",
    "print('unique POIs:',df_duration_byrace.shape[0])\n",
    "df_duration_byrace = df_duration_byrace[df_duration_byrace['total_duration']>5] #total_duration is the weighted total activity duration by all visitors at each POI\n",
    "print('unique POIs:',df_duration_byrace.shape[0])\n",
    "\n",
    "\n",
    "df_duration_byrace['R_White'] = df_duration_byrace['R_White']/df_duration_byrace['total_duration']\n",
    "df_duration_byrace['R_AfricanAmerican'] = df_duration_byrace['R_AfricanAmerican']/df_duration_byrace['total_duration']\n",
    "df_duration_byrace['R_AmericanIndianAlaska'] = df_duration_byrace['R_AmericanIndianAlaska']/df_duration_byrace['total_duration']\n",
    "df_duration_byrace['R_Asian'] = df_duration_byrace['R_Asian']/df_duration_byrace['total_duration']\n",
    "df_duration_byrace['R_HispanicLatinx'] = df_duration_byrace['R_HispanicLatinx']/df_duration_byrace['total_duration']\n",
    "df_duration_byrace['R_Other'] = df_duration_byrace['R_Other']/df_duration_byrace['total_duration']\n",
    "\n",
    "df_duration_byrace = df_duration_byrace.apply(lambda x:compute_scaled_entropy(x,'R_White','R_AfricanAmerican','R_HispanicLatinx','R_AmericanIndianAlaska','R_Asian','R_Other'), axis=1)\n",
    "df_duration_byrace = df_duration_byrace[df_duration_byrace['scaled_entropy'].notna()]\n",
    "df_duration_byrace = extract_dominant_group(df_duration_byrace)\n",
    "print(df_duration_byrace.shape[0])\n",
    "df_duration_byrace.head()"
   ]
  },
  {
   "cell_type": "code",
   "execution_count": 102,
   "id": "5ca79ce0-2be9-431f-95c9-09a130af9600",
   "metadata": {},
   "outputs": [
    {
     "name": "stdout",
     "output_type": "stream",
     "text": [
      "33546\n",
      "33544\n"
     ]
    }
   ],
   "source": [
    "df_duration_byrace_diversity = pd.merge(df_duration_byrace,df_poi_cat[['place_id','poi_lat','poi_lng','brand_name','sic_code','sic_name']],on='place_id',how='left')\n",
    "print(df_duration_byrace_diversity.shape[0])\n",
    "df_duration_byrace_diversity=df_duration_byrace_diversity[df_duration_byrace_diversity['class_dominant']!='R_Other_moderate diversity']\n",
    "print(df_duration_byrace_diversity.shape[0])\n",
    "# df_duration_byrace_diversity.head()"
   ]
  },
  {
   "cell_type": "code",
   "execution_count": 103,
   "id": "d202824f-bf23-4516-9e98-8e8d029de5da",
   "metadata": {},
   "outputs": [],
   "source": [
    "# if weekday:\n",
    "#     outputpath = \"./output/LA_POI_durationbased_diversity_202203_weekday_\"+timeofday+\".pkl\"\n",
    "# else:\n",
    "#     outputpath = \"./output/LA_POI_durationbased_diversity_202203_weekend_\"+timeofday+\".pkl\"\n",
    "if weekday:\n",
    "    outputpath = \"./output/onlyGreaterLAresidents/LA_POI_durationbased_diversity_202203_weekday_\"+timeofday+\".pkl\"\n",
    "else:\n",
    "    outputpath = \"./output/onlyGreaterLAresidents/LA_POI_durationbased_diversity_202203_weekend_\"+timeofday+\".pkl\"    \n",
    "    \n",
    "df_duration_byrace_diversity.to_pickle(outputpath)\n",
    "# df_duration_byrace_diversity.to_pickle(\"./output/LA_POI_durationbased_diversity_202203.pkl\")\n",
    "# df_duration_byrace_diversity.to_pickle(\"./output/LA_POI_durationbased_diversity_202203_weekend.pkl\")\n",
    "# df_duration_byrace_diversity.to_pickle(\"./output/LA_POI_durationbased_diversity_202203_weekday.pkl\")"
   ]
  },
  {
   "cell_type": "markdown",
   "id": "5325a00d-419c-4d95-8456-52009c329c7f",
   "metadata": {},
   "source": [
    "# Comparison between two types of diversity indicators"
   ]
  },
  {
   "cell_type": "code",
   "execution_count": 17,
   "id": "754f48ef-0faf-4612-8892-86fbb092671f",
   "metadata": {},
   "outputs": [
    {
     "name": "stdout",
     "output_type": "stream",
     "text": [
      "48731 48561\n"
     ]
    }
   ],
   "source": [
    "sub_df_visit_LA_race_poi = pd.read_pickle(\"./output/LA_POI_diversity_202203_weekday.pkl\")  \n",
    "df_duration_byrace_diversity = pd.read_pickle(\"./output/LA_POI_durationbased_diversity_202203_weekday.pkl\")\n",
    "print(sub_df_visit_LA_race_poi.shape[0],df_duration_byrace_diversity.shape[0])"
   ]
  },
  {
   "cell_type": "code",
   "execution_count": 18,
   "id": "ebe8175a-7a08-4512-87c4-eeb06343d3c6",
   "metadata": {},
   "outputs": [
    {
     "name": "stdout",
     "output_type": "stream",
     "text": [
      "48731 48561\n",
      "48731\n"
     ]
    }
   ],
   "source": [
    "df_diversity1 = sub_df_visit_LA_race_poi[['place_id','scaled_entropy','class_dominant']]\n",
    "df_diversity2 = df_duration_byrace_diversity[['place_id','scaled_entropy','class_dominant','poi_lat','poi_lng','brand_name','sic_code','sic_name']]\n",
    "df_diversity2.rename(columns={'scaled_entropy': 'dur_scaled_entropy','class_dominant':'dur_class_dominant'}, inplace=True)\n",
    "print(df_diversity1.shape[0],df_diversity2.shape[0])\n",
    "df_diversity1 = pd.merge(df_diversity1,df_diversity2,on='place_id',how='left')\n",
    "print(df_diversity1.shape[0])"
   ]
  },
  {
   "cell_type": "code",
   "execution_count": 19,
   "id": "193c2b27-a9ba-40f0-a876-05eaf2505b91",
   "metadata": {},
   "outputs": [],
   "source": [
    "def plot_hist(df,title):\n",
    "    fig = plt.figure()\n",
    "    ax = fig.add_subplot(111)\n",
    "    df.dur_scaled_entropy.hist(ax=ax,bins=50,alpha = 0.5,legend=True)\n",
    "    df.scaled_entropy.hist(ax=ax,bins=50,alpha = 0.5,legend=True)\n",
    "    plt.title(title)\n",
    "    plt.show()"
   ]
  },
  {
   "cell_type": "code",
   "execution_count": 20,
   "id": "e4ecd88a-7d9d-40ba-9891-9fbf0bbc3220",
   "metadata": {},
   "outputs": [
    {
     "data": {
      "image/png": "[encoded data removed]",
      "text/plain": [
       "<Figure size 640x480 with 1 Axes>"
      ]
     },
     "metadata": {},
     "output_type": "display_data"
    }
   ],
   "source": [
    "plot_hist(df_diversity1,'All POIs')"
   ]
  },
  {
   "cell_type": "code",
   "execution_count": 11,
   "id": "c908650e-4d09-4dab-a5c5-ba8bb1eebc70",
   "metadata": {},
   "outputs": [],
   "source": [
    "# #5812.0 Eating Places,  5411.0 Grocery Stores, 7991.0 Physical Fitness Facilities\n",
    "# #7231.0 Beauty Shops, 6021.0 National Commercial Banks, 7011.0 Hotels and Motels 5311.0\n",
    "# plot_hist(df_diversity1[df_diversity1.sic_code==5812],'Restaurant')\n",
    "# plot_hist(df_diversity1[df_diversity1.sic_code==5411],'Grocery Store')\n",
    "# plot_hist(df_diversity1[df_diversity1.sic_code==7991],'Physical Fitness Facilities')"
   ]
  },
  {
   "cell_type": "code",
   "execution_count": 22,
   "id": "4931da8d-a611-47d6-bda0-d466f9ebfd3d",
   "metadata": {},
   "outputs": [
    {
     "name": "stdout",
     "output_type": "stream",
     "text": [
      "total POI: 48731\n",
      "POIs that show different dominant diversity type: 8174\n",
      "0.167737169358314\n"
     ]
    },
    {
     "data": {
      "text/html": [
       "<div>\n",
       "<style scoped>\n",
       "    .dataframe tbody tr th:only-of-type {\n",
       "        vertical-align: middle;\n",
       "    }\n",
       "\n",
       "    .dataframe tbody tr th {\n",
       "        vertical-align: top;\n",
       "    }\n",
       "\n",
       "    .dataframe thead th {\n",
       "        text-align: right;\n",
       "    }\n",
       "</style>\n",
       "<table border=\"1\" class=\"dataframe\">\n",
       "  <thead>\n",
       "    <tr style=\"text-align: right;\">\n",
       "      <th></th>\n",
       "      <th>place_id</th>\n",
       "      <th>scaled_entropy</th>\n",
       "      <th>class_dominant</th>\n",
       "      <th>dur_scaled_entropy</th>\n",
       "      <th>dur_class_dominant</th>\n",
       "      <th>poi_lat</th>\n",
       "      <th>poi_lng</th>\n",
       "      <th>brand_name</th>\n",
       "      <th>sic_code</th>\n",
       "      <th>sic_name</th>\n",
       "      <th>equal</th>\n",
       "    </tr>\n",
       "  </thead>\n",
       "  <tbody>\n",
       "    <tr>\n",
       "      <th>2</th>\n",
       "      <td>25033570.0</td>\n",
       "      <td>0.789457</td>\n",
       "      <td>high diversity</td>\n",
       "      <td>0.739927</td>\n",
       "      <td>R_HispanicLatinx_moderate diversity</td>\n",
       "      <td>34.146588</td>\n",
       "      <td>-118.157044</td>\n",
       "      <td>Porsche</td>\n",
       "      <td>5511.0</td>\n",
       "      <td>Motor Vehicle Dealers (New and Used)</td>\n",
       "      <td>False</td>\n",
       "    </tr>\n",
       "    <tr>\n",
       "      <th>4</th>\n",
       "      <td>25033586.0</td>\n",
       "      <td>0.566989</td>\n",
       "      <td>R_HispanicLatinx_moderate diversity</td>\n",
       "      <td>0.257862</td>\n",
       "      <td>R_HispanicLatinx_low diversity</td>\n",
       "      <td>33.790930</td>\n",
       "      <td>-118.143355</td>\n",
       "      <td>Porsche</td>\n",
       "      <td>5511.0</td>\n",
       "      <td>Motor Vehicle Dealers (New and Used)</td>\n",
       "      <td>False</td>\n",
       "    </tr>\n",
       "    <tr>\n",
       "      <th>15</th>\n",
       "      <td>25034318.0</td>\n",
       "      <td>0.741524</td>\n",
       "      <td>high diversity</td>\n",
       "      <td>0.672182</td>\n",
       "      <td>R_Asian_moderate diversity</td>\n",
       "      <td>34.145371</td>\n",
       "      <td>-118.136474</td>\n",
       "      <td>Charles Schwab</td>\n",
       "      <td>6211.0</td>\n",
       "      <td>Security Brokers, Dealers, and Flotation Companies</td>\n",
       "      <td>False</td>\n",
       "    </tr>\n",
       "    <tr>\n",
       "      <th>19</th>\n",
       "      <td>25034767.0</td>\n",
       "      <td>0.606181</td>\n",
       "      <td>R_HispanicLatinx_moderate diversity</td>\n",
       "      <td>0.671381</td>\n",
       "      <td>R_White_moderate diversity</td>\n",
       "      <td>34.421464</td>\n",
       "      <td>-118.558355</td>\n",
       "      <td>MINI</td>\n",
       "      <td>5511.0</td>\n",
       "      <td>Motor Vehicle Dealers (New and Used)</td>\n",
       "      <td>False</td>\n",
       "    </tr>\n",
       "    <tr>\n",
       "      <th>27</th>\n",
       "      <td>25036870.0</td>\n",
       "      <td>0.744896</td>\n",
       "      <td>high diversity</td>\n",
       "      <td>0.741694</td>\n",
       "      <td>R_Asian_moderate diversity</td>\n",
       "      <td>34.001919</td>\n",
       "      <td>-117.808947</td>\n",
       "      <td>Crunch Fitness</td>\n",
       "      <td>7991.0</td>\n",
       "      <td>Physical Fitness Facilities</td>\n",
       "      <td>False</td>\n",
       "    </tr>\n",
       "  </tbody>\n",
       "</table>\n",
       "</div>"
      ],
      "text/plain": [
       "      place_id  scaled_entropy                       class_dominant  dur_scaled_entropy                   dur_class_dominant    poi_lat     poi_lng      brand_name  sic_code                                            sic_name  equal\n",
       "2   25033570.0  0.789457        high diversity                       0.739927            R_HispanicLatinx_moderate diversity  34.146588 -118.157044  Porsche         5511.0    Motor Vehicle Dealers (New and Used)                False\n",
       "4   25033586.0  0.566989        R_HispanicLatinx_moderate diversity  0.257862            R_HispanicLatinx_low diversity       33.790930 -118.143355  Porsche         5511.0    Motor Vehicle Dealers (New and Used)                False\n",
       "15  25034318.0  0.741524        high diversity                       0.672182            R_Asian_moderate diversity           34.145371 -118.136474  Charles Schwab  6211.0    Security Brokers, Dealers, and Flotation Companies  False\n",
       "19  25034767.0  0.606181        R_HispanicLatinx_moderate diversity  0.671381            R_White_moderate diversity           34.421464 -118.558355  MINI            5511.0    Motor Vehicle Dealers (New and Used)                False\n",
       "27  25036870.0  0.744896        high diversity                       0.741694            R_Asian_moderate diversity           34.001919 -117.808947  Crunch Fitness  7991.0    Physical Fitness Facilities                         False"
      ]
     },
     "metadata": {},
     "output_type": "display_data"
    }
   ],
   "source": [
    "df_diversity1['equal'] = df_diversity1['class_dominant'] == df_diversity1['dur_class_dominant']\n",
    "print('total POI:',df_diversity1.shape[0])\n",
    "print('POIs that show different dominant diversity type:',df_diversity1[df_diversity1['equal']!=True].shape[0])\n",
    "print(df_diversity1[df_diversity1['equal']!=True].shape[0]/df_diversity1.shape[0])\n",
    "display(df_diversity1[df_diversity1['equal']!=True].head())"
   ]
  },
  {
   "cell_type": "code",
   "execution_count": 25,
   "id": "09146fc8-4735-4de7-a91c-3df4d26209a1",
   "metadata": {},
   "outputs": [],
   "source": [
    "df_diversity1['diff_entropy'] = (df_diversity1['dur_scaled_entropy'] - df_diversity1['scaled_entropy'])/df_diversity1['scaled_entropy']\n",
    "# sns.violinplot(data=df_diversity1, x='diff_entropy',orient=\"h\")\n",
    "df_diversity1['diff_entropy'].hist(bins=100)"
   ]
  },
  {
   "cell_type": "markdown",
   "id": "457e702a-5e88-4696-9f6e-3d8e82645d53",
   "metadata": {},
   "source": [
    "# diversity by POI type"
   ]
  },
  {
   "cell_type": "code",
   "execution_count": 26,
   "id": "117b99a3-d4ec-4bfe-9e0f-4487588820d0",
   "metadata": {},
   "outputs": [],
   "source": [
    "test_poi_cat_list = [5812,5411,7991,7231,6021,7011,5311]\n",
    "#5812.0 Eating Places,  5411.0 Grocery Stores, 7991.0 Physical Fitness Facilities\n",
    "#7231.0 Beauty Shops, 6021.0 National Commercial Banks, 7011.0 Hotels and Motels 5311.0"
   ]
  },
  {
   "cell_type": "code",
   "execution_count": 31,
   "id": "95b0a0b5-7e0f-478b-b190-aab05d26a1ba",
   "metadata": {},
   "outputs": [
    {
     "data": {
      "text/html": [
       "<div>\n",
       "<style scoped>\n",
       "    .dataframe tbody tr th:only-of-type {\n",
       "        vertical-align: middle;\n",
       "    }\n",
       "\n",
       "    .dataframe tbody tr th {\n",
       "        vertical-align: top;\n",
       "    }\n",
       "\n",
       "    .dataframe thead th {\n",
       "        text-align: right;\n",
       "    }\n",
       "</style>\n",
       "<table border=\"1\" class=\"dataframe\">\n",
       "  <thead>\n",
       "    <tr style=\"text-align: right;\">\n",
       "      <th></th>\n",
       "      <th>place_id</th>\n",
       "      <th>scaled_entropy</th>\n",
       "      <th>class_dominant</th>\n",
       "      <th>dur_scaled_entropy</th>\n",
       "      <th>dur_class_dominant</th>\n",
       "      <th>poi_lat</th>\n",
       "      <th>poi_lng</th>\n",
       "      <th>brand_name</th>\n",
       "      <th>sic_code</th>\n",
       "      <th>sic_name</th>\n",
       "      <th>equal</th>\n",
       "      <th>diff_entropy</th>\n",
       "    </tr>\n",
       "  </thead>\n",
       "  <tbody>\n",
       "    <tr>\n",
       "      <th>25</th>\n",
       "      <td>25036812.0</td>\n",
       "      <td>0.589322</td>\n",
       "      <td>R_HispanicLatinx_moderate diversity</td>\n",
       "      <td>0.591954</td>\n",
       "      <td>R_HispanicLatinx_moderate diversity</td>\n",
       "      <td>34.578801</td>\n",
       "      <td>-118.089164</td>\n",
       "      <td>Crunch Fitness</td>\n",
       "      <td>7991.0</td>\n",
       "      <td>Physical Fitness Facilities</td>\n",
       "      <td>True</td>\n",
       "      <td>0.004467</td>\n",
       "    </tr>\n",
       "    <tr>\n",
       "      <th>26</th>\n",
       "      <td>25036818.0</td>\n",
       "      <td>0.806623</td>\n",
       "      <td>high diversity</td>\n",
       "      <td>0.796996</td>\n",
       "      <td>high diversity</td>\n",
       "      <td>33.846938</td>\n",
       "      <td>-118.080288</td>\n",
       "      <td>Crunch Fitness</td>\n",
       "      <td>7991.0</td>\n",
       "      <td>Physical Fitness Facilities</td>\n",
       "      <td>True</td>\n",
       "      <td>-0.011936</td>\n",
       "    </tr>\n",
       "    <tr>\n",
       "      <th>27</th>\n",
       "      <td>25036870.0</td>\n",
       "      <td>0.744896</td>\n",
       "      <td>high diversity</td>\n",
       "      <td>0.741694</td>\n",
       "      <td>R_Asian_moderate diversity</td>\n",
       "      <td>34.001919</td>\n",
       "      <td>-117.808947</td>\n",
       "      <td>Crunch Fitness</td>\n",
       "      <td>7991.0</td>\n",
       "      <td>Physical Fitness Facilities</td>\n",
       "      <td>False</td>\n",
       "      <td>-0.004299</td>\n",
       "    </tr>\n",
       "    <tr>\n",
       "      <th>28</th>\n",
       "      <td>25036890.0</td>\n",
       "      <td>0.779440</td>\n",
       "      <td>R_HispanicLatinx_moderate diversity</td>\n",
       "      <td>0.757168</td>\n",
       "      <td>R_HispanicLatinx_moderate diversity</td>\n",
       "      <td>33.861088</td>\n",
       "      <td>-118.126159</td>\n",
       "      <td>Crunch Fitness</td>\n",
       "      <td>7991.0</td>\n",
       "      <td>Physical Fitness Facilities</td>\n",
       "      <td>True</td>\n",
       "      <td>-0.028575</td>\n",
       "    </tr>\n",
       "    <tr>\n",
       "      <th>29</th>\n",
       "      <td>25036901.0</td>\n",
       "      <td>0.694678</td>\n",
       "      <td>R_HispanicLatinx_moderate diversity</td>\n",
       "      <td>0.697541</td>\n",
       "      <td>R_HispanicLatinx_moderate diversity</td>\n",
       "      <td>34.118179</td>\n",
       "      <td>-117.775074</td>\n",
       "      <td>Crunch Fitness</td>\n",
       "      <td>7991.0</td>\n",
       "      <td>Physical Fitness Facilities</td>\n",
       "      <td>True</td>\n",
       "      <td>0.004122</td>\n",
       "    </tr>\n",
       "  </tbody>\n",
       "</table>\n",
       "</div>"
      ],
      "text/plain": [
       "      place_id  scaled_entropy                       class_dominant  dur_scaled_entropy                   dur_class_dominant    poi_lat     poi_lng      brand_name  sic_code                     sic_name  equal  diff_entropy\n",
       "25  25036812.0  0.589322        R_HispanicLatinx_moderate diversity  0.591954            R_HispanicLatinx_moderate diversity  34.578801 -118.089164  Crunch Fitness  7991.0    Physical Fitness Facilities  True   0.004467    \n",
       "26  25036818.0  0.806623        high diversity                       0.796996            high diversity                       33.846938 -118.080288  Crunch Fitness  7991.0    Physical Fitness Facilities  True  -0.011936    \n",
       "27  25036870.0  0.744896        high diversity                       0.741694            R_Asian_moderate diversity           34.001919 -117.808947  Crunch Fitness  7991.0    Physical Fitness Facilities  False -0.004299    \n",
       "28  25036890.0  0.779440        R_HispanicLatinx_moderate diversity  0.757168            R_HispanicLatinx_moderate diversity  33.861088 -118.126159  Crunch Fitness  7991.0    Physical Fitness Facilities  True  -0.028575    \n",
       "29  25036901.0  0.694678        R_HispanicLatinx_moderate diversity  0.697541            R_HispanicLatinx_moderate diversity  34.118179 -117.775074  Crunch Fitness  7991.0    Physical Fitness Facilities  True   0.004122    "
      ]
     },
     "execution_count": 31,
     "metadata": {},
     "output_type": "execute_result"
    }
   ],
   "source": [
    "plt_data.head()"
   ]
  },
  {
   "cell_type": "code",
   "execution_count": 32,
   "id": "a697637d-025e-4122-9606-8684ecb478fc",
   "metadata": {},
   "outputs": [
    {
     "data": {
      "text/html": [
       "<div>\n",
       "<style scoped>\n",
       "    .dataframe tbody tr th:only-of-type {\n",
       "        vertical-align: middle;\n",
       "    }\n",
       "\n",
       "    .dataframe tbody tr th {\n",
       "        vertical-align: top;\n",
       "    }\n",
       "\n",
       "    .dataframe thead th {\n",
       "        text-align: right;\n",
       "    }\n",
       "</style>\n",
       "<table border=\"1\" class=\"dataframe\">\n",
       "  <thead>\n",
       "    <tr style=\"text-align: right;\">\n",
       "      <th></th>\n",
       "      <th>sic_name</th>\n",
       "      <th>Value Type</th>\n",
       "      <th>Scaled Entropy</th>\n",
       "    </tr>\n",
       "  </thead>\n",
       "  <tbody>\n",
       "    <tr>\n",
       "      <th>0</th>\n",
       "      <td>Physical Fitness Facilities</td>\n",
       "      <td>scaled_entropy</td>\n",
       "      <td>0.589322</td>\n",
       "    </tr>\n",
       "    <tr>\n",
       "      <th>1</th>\n",
       "      <td>Physical Fitness Facilities</td>\n",
       "      <td>scaled_entropy</td>\n",
       "      <td>0.806623</td>\n",
       "    </tr>\n",
       "    <tr>\n",
       "      <th>2</th>\n",
       "      <td>Physical Fitness Facilities</td>\n",
       "      <td>scaled_entropy</td>\n",
       "      <td>0.744896</td>\n",
       "    </tr>\n",
       "    <tr>\n",
       "      <th>3</th>\n",
       "      <td>Physical Fitness Facilities</td>\n",
       "      <td>scaled_entropy</td>\n",
       "      <td>0.779440</td>\n",
       "    </tr>\n",
       "    <tr>\n",
       "      <th>4</th>\n",
       "      <td>Physical Fitness Facilities</td>\n",
       "      <td>scaled_entropy</td>\n",
       "      <td>0.694678</td>\n",
       "    </tr>\n",
       "  </tbody>\n",
       "</table>\n",
       "</div>"
      ],
      "text/plain": [
       "                      sic_name      Value Type  Scaled Entropy\n",
       "0  Physical Fitness Facilities  scaled_entropy  0.589322      \n",
       "1  Physical Fitness Facilities  scaled_entropy  0.806623      \n",
       "2  Physical Fitness Facilities  scaled_entropy  0.744896      \n",
       "3  Physical Fitness Facilities  scaled_entropy  0.779440      \n",
       "4  Physical Fitness Facilities  scaled_entropy  0.694678      "
      ]
     },
     "execution_count": 32,
     "metadata": {},
     "output_type": "execute_result"
    }
   ],
   "source": [
    "melted_plt_data.head()"
   ]
  },
  {
   "cell_type": "code",
   "execution_count": 27,
   "id": "e26b143c-ee4b-4d03-8597-73b34dfa09f3",
   "metadata": {},
   "outputs": [
    {
     "data": {
      "image/png": "[encoded data removed]",
      "text/plain": [
       "<Figure size 600x500 with 1 Axes>"
      ]
     },
     "metadata": {},
     "output_type": "display_data"
    }
   ],
   "source": [
    "# sns.violinplot(data=sub_df_visit_LA_race2, x='scaled_entropy', y='sic_name',orient=\"h\")\n",
    "plt_data = df_diversity1[df_diversity1.sic_code.isin(test_poi_cat_list)]\n",
    "fig, ax = plt.subplots(figsize=(6,5))\n",
    "melted_plt_data = pd.melt(plt_data, id_vars='sic_name', value_vars=['scaled_entropy', 'dur_scaled_entropy'],\n",
    "                    var_name='Value Type', value_name='Scaled Entropy')\n",
    "ax = sns.boxplot(data=melted_plt_data, x='sic_name', y='Scaled Entropy',hue='Value Type', orient=\"v\")\n",
    "# ax.set_title('Racial diversity based on proportions')\n",
    "ax.set_xticklabels(ax.get_xticklabels(),rotation=90)\n",
    "plt.show()"
   ]
  },
  {
   "cell_type": "markdown",
   "id": "e3a7d5fa-9ea4-4f96-b6a3-82718e14321d",
   "metadata": {},
   "source": [
    "# Mapping\n",
    "generate config file: https://kepler.gl/demo/earthquakes"
   ]
  },
  {
   "cell_type": "code",
   "execution_count": 3,
   "id": "eb3a2198-cbdc-4202-8168-09331e495b3e",
   "metadata": {},
   "outputs": [
    {
     "name": "stdout",
     "output_type": "stream",
     "text": [
      "User Guide: https://docs.kepler.gl/docs/keplergl-jupyter\n",
      "CPU times: user 2.3 s, sys: 115 ms, total: 2.42 s\n",
      "Wall time: 2.42 s\n"
     ]
    },
    {
     "data": {
      "application/vnd.jupyter.widget-view+json": {
       "model_id": "d7f6f526549f4f65ad84646d2fd26a94",
       "version_major": 2,
       "version_minor": 0
      },
      "text/plain": [
       "KeplerGl(config={'version': 'v1', 'config': {'visState': {'filters': [], 'layers': [{'id': 'hty62yd', 'type': …"
      ]
     },
     "metadata": {},
     "output_type": "display_data"
    }
   ],
   "source": [
    "%%time\n",
    "\n",
    "sub_df_visit_LA_race_poi = pd.read_pickle(\"./output/LA_POI_diversity_202203_weekday_morning.pkl\")  \n",
    "k3 = KeplerGl(data={'h':sub_df_visit_LA_race_poi}, height=700)\n",
    "with open('config/visit_poi.py', 'r') as config_file:\n",
    "    k3.config = json.loads(config_file.read())\n",
    "k3 "
   ]
  },
  {
   "cell_type": "code",
   "execution_count": 35,
   "id": "a63ac673-d209-4ea5-a2b6-29d49e75cc99",
   "metadata": {},
   "outputs": [],
   "source": [
    "# %%time\n",
    "\n",
    "# sub_df_visit_LA_race_poi = pd.read_pickle(\"./output/LA_POI_diversity_202203_weekday_afternoon.pkl\")  \n",
    "# k3 = KeplerGl(data={'h':sub_df_visit_LA_race_poi}, height=700) \n",
    "# with open('config/visit_poi.py', 'r') as config_file:\n",
    "#     k3.config = json.loads(config_file.read())\n",
    "# k3 "
   ]
  },
  {
   "cell_type": "code",
   "execution_count": 34,
   "id": "2afe36e1-044a-4cf0-a881-3783e662ee47",
   "metadata": {},
   "outputs": [],
   "source": [
    "# %%time\n",
    "\n",
    "# sub_df_visit_LA_race_poi = pd.read_pickle(\"./output/LA_POI_diversity_202203_weekday_evening.pkl\")  \n",
    "# k3 = KeplerGl(data={'h':sub_df_visit_LA_race_poi}, height=700) \n",
    "# with open('config/visit_poi.py', 'r') as config_file:\n",
    "#     k3.config = json.loads(config_file.read())\n",
    "# k3 "
   ]
  },
  {
   "cell_type": "code",
   "execution_count": 11,
   "id": "2094e6c0-59ba-4aef-8815-45960d471f0f",
   "metadata": {},
   "outputs": [
    {
     "data": {
      "text/plain": [
       "array(['Physical Fitness Facilities', 'Department Stores',\n",
       "       'Hotels and Motels', 'Eating Places', 'National Commercial Banks',\n",
       "       'Beauty Shops', 'Grocery Stores'], dtype=object)"
      ]
     },
     "execution_count": 11,
     "metadata": {},
     "output_type": "execute_result"
    }
   ],
   "source": [
    "sub_df_visit_LA_race2 = sub_df_visit_LA_race_poi[sub_df_visit_LA_race_poi.sic_code.isin(test_poi_cat_list)]\n",
    "sub_df_visit_LA_race2.sic_name.unique()"
   ]
  },
  {
   "cell_type": "code",
   "execution_count": 12,
   "id": "35aa2a19-89c0-4f81-886b-79d127e968c2",
   "metadata": {},
   "outputs": [
    {
     "name": "stdout",
     "output_type": "stream",
     "text": [
      "User Guide: https://docs.kepler.gl/docs/keplergl-jupyter\n",
      "CPU times: user 146 ms, sys: 11.6 ms, total: 158 ms\n",
      "Wall time: 155 ms\n"
     ]
    },
    {
     "data": {
      "application/vnd.jupyter.widget-view+json": {
       "model_id": "a3f66c2df3fa42e69a7c896317e67171",
       "version_major": 2,
       "version_minor": 0
      },
      "text/plain": [
       "KeplerGl(config={'version': 'v1', 'config': {'visState': {'filters': [], 'layers': [{'id': 'hty62yd', 'type': …"
      ]
     },
     "metadata": {},
     "output_type": "display_data"
    }
   ],
   "source": [
    "%%time\n",
    "k = KeplerGl(data={'h':sub_df_visit_LA_race2[sub_df_visit_LA_race2['sic_name']=='Eating Places']}, height=700) \n",
    "with open('config/visit_poi_restaurant.py', 'r') as config_file:\n",
    "    k.config = json.loads(config_file.read())\n",
    "k "
   ]
  },
  {
   "cell_type": "code",
   "execution_count": 13,
   "id": "8044664b-503f-4574-995f-65b241e19eca",
   "metadata": {},
   "outputs": [
    {
     "name": "stdout",
     "output_type": "stream",
     "text": [
      "User Guide: https://docs.kepler.gl/docs/keplergl-jupyter\n",
      "CPU times: user 2.6 s, sys: 67.7 ms, total: 2.67 s\n",
      "Wall time: 2.67 s\n"
     ]
    },
    {
     "data": {
      "application/vnd.jupyter.widget-view+json": {
       "model_id": "cfab55b662ae4983b850939eb52a9392",
       "version_major": 2,
       "version_minor": 0
      },
      "text/plain": [
       "KeplerGl(config={'version': 'v1', 'config': {'visState': {'filters': [], 'layers': [{'id': 'hty62yd', 'type': …"
      ]
     },
     "metadata": {},
     "output_type": "display_data"
    }
   ],
   "source": [
    "%%time\n",
    "k2 = KeplerGl(data={'h':df_duration_byrace_diversity}, height=700) \n",
    "with open('config/visit_poi.py', 'r') as config_file:\n",
    "    k2.config = json.loads(config_file.read())\n",
    "k2"
   ]
  },
  {
   "cell_type": "code",
   "execution_count": null,
   "id": "41b12b39-03d0-40b5-bcdf-75bcb4df3756",
   "metadata": {},
   "outputs": [],
   "source": []
  },
  {
   "cell_type": "code",
   "execution_count": null,
   "id": "2a89edb3-7e4a-4590-8dd8-319cc1d840fe",
   "metadata": {},
   "outputs": [],
   "source": []
  },
  {
   "cell_type": "code",
   "execution_count": null,
   "id": "644245cc-153a-4ae3-95a7-f62568520029",
   "metadata": {},
   "outputs": [],
   "source": []
  },
  {
   "cell_type": "code",
   "execution_count": null,
   "id": "eb3a3545-6b1f-4ce4-ac61-0c43b561bcd7",
   "metadata": {},
   "outputs": [],
   "source": []
  }
 ],
 "metadata": {
  "kernelspec": {
   "display_name": "Python 3 (ipykernel)",
   "language": "python",
   "name": "python3"
  },
  "language_info": {
   "codemirror_mode": {
    "name": "ipython",
    "version": 3
   },
   "file_extension": ".py",
   "mimetype": "text/x-python",
   "name": "python",
   "nbconvert_exporter": "python",
   "pygments_lexer": "ipython3",
   "version": "3.9.15"
  },
  "widgets": {
   "application/vnd.jupyter.widget-state+json": {
    "state": {},
    "version_major": 2,
    "version_minor": 0
   }
  }
 },
 "nbformat": 4,
 "nbformat_minor": 5
}
