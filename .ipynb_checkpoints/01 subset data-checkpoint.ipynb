{
 "cells": [
  {
   "cell_type": "code",
   "execution_count": 1,
   "id": "b73691b1-c52d-48d2-90fa-90712c30f3ad",
   "metadata": {},
   "outputs": [],
   "source": [
    "%reload_ext sql\n",
    "%config SqlMagic.autocommit=False\n",
    "%config SqlMagic.autolimit=0\n",
    "%config SqlMagic.autopandas=True\n",
    "%config SqlMagic.displaylimit=200\n",
    "%sql trino://localhost:9090/cuebiq/\n",
    "\n",
    "import pandas as pd\n",
    "import yaml\n",
    "import numpy as np\n",
    "import os\n",
    "from pyhive import trino\n",
    "import pydeck as pdk\n",
    "from typing import List\n",
    "import json\n",
    "import copy\n",
    "import itertools\n",
    "# import geohash\n",
    "import geopandas as geopd\n",
    "from pyquadkey2 import quadkey\n",
    "from pyquadkey2.quadkey import TileAnchor, QuadKey\n",
    "from h3 import h3\n",
    "import seaborn as sns\n",
    "from datetime import datetime, timedelta\n",
    "import math\n",
    "import pickle\n",
    "\n",
    "os.environ['MAPBOX_API_KEY'] = \"INSERT YOUR MAPBOX TOKEN HERE\"\n",
    "pd.set_option('display.max_colwidth', 0)\n",
    "pd.set_option('display.max_rows', 500)\n",
    "pd.set_option('display.max_columns', 500)\n",
    "pd.set_option('display.width', 1000)\n",
    "import warnings\n",
    "warnings.filterwarnings('ignore')"
   ]
  },
  {
   "cell_type": "code",
   "execution_count": 2,
   "id": "58a8f8b8-d1bc-4f2e-ac78-4d8471586ac0",
   "metadata": {},
   "outputs": [],
   "source": [
    "# SQL engine\n",
    "from trino.dbapi import connect \n",
    "from sqlalchemy import create_engine\n",
    "\n",
    "class TrinoEngine():\n",
    "    def __init__(self):\n",
    "        conn = connect(\n",
    "            host=\"localhost\",\n",
    "            port=9090,\n",
    "            catalog=\"cuebiq\"\n",
    "        )\n",
    "        self.cur = conn.cursor()\n",
    "        self.engine = create_engine(\"trino://localhost:9090/cuebiq/\")\n",
    "    \n",
    "    def execute_statement(self, query:str) -> list:\n",
    "        \"\"\"\n",
    "        Create and drop statements.\n",
    "        \"\"\"\n",
    "        self.cur.execute(query)\n",
    "        return self.cur.fetchall()\n",
    "    \n",
    "    def read_sql(self, query:str) -> pd.DataFrame: \n",
    "        \"\"\"\n",
    "        Select and insert into operations.\n",
    "        \"\"\"\n",
    "        return pd.read_sql(query, self.engine)\n",
    "\n",
    "sql_engine = TrinoEngine()"
   ]
  },
  {
   "cell_type": "code",
   "execution_count": 3,
   "id": "9366d631-da6e-4e10-b85c-147c809588fe",
   "metadata": {},
   "outputs": [],
   "source": [
    "# Census Block Groups typically have a population between 600 to 3000 people, this makes the data privacy safe.\n",
    "geography_table = \"cuebiq.paas_cda_pe_v3.geography_registry\"\n",
    "visit_table = \"cuebiq.paas_cda_pe_v3.visit\""
   ]
  },
  {
   "cell_type": "markdown",
   "id": "d2487832-b1f1-46d7-9d2c-6ee5b4cccaa6",
   "metadata": {},
   "source": [
    "# Descriptive statistics of the data set used in the CEUS paper"
   ]
  },
  {
   "cell_type": "code",
   "execution_count": 5,
   "id": "72623eb2-015e-4a01-a0b0-cbe6fd61a2a7",
   "metadata": {},
   "outputs": [
    {
     "name": "stdout",
     "output_type": "stream",
     "text": [
      "1086135\n",
      "20190301_20190308\n",
      "20190309_20190316\n",
      "20190317_20190323\n",
      "20190324_20190331\n",
      "total visit records: 4580969\n",
      "total unique persons: 283556\n",
      "total unique POIs: 34657\n",
      "CPU times: user 20.9 s, sys: 4.06 s, total: 25 s\n",
      "Wall time: 28.4 s\n"
     ]
    }
   ],
   "source": [
    "%%time\n",
    "## this code snippet is only for descriptive statistics and no need to run in the future\n",
    "df_indi_home_loc_race = pd.read_pickle(\"../output/CA_Individual_race_composition_20190301.pkl\")\n",
    "print(df_indi_home_loc_race.shape[0]) # all cubiq individuals who live in California: 1600238\n",
    "\n",
    "# date = ['20220301_20220308','20220309_20220316','20220317_20220323','20220324_20220331']\n",
    "date = ['20190301_20190308','20190309_20190316','20190317_20190323','20190324_20190331']\n",
    "\n",
    "sum_df_race = pd.DataFrame()\n",
    "for d in date:\n",
    "    print (d)\n",
    "    df_visit_LA = pd.read_pickle(\"../output/LA_visit_with_poiCategory\"+str(d)+\".pkl\")\n",
    "    df_visit_LA.drop_duplicates(keep='last', inplace=True) \n",
    "    df_visit_LA_race = pd.merge(df_visit_LA, df_indi_home_loc_race,on='cuebiq_id')  \n",
    "    sum_df_race = sum_df_race.append(df_visit_LA_race)\n",
    "print('total visit records:',sum_df_race.shape[0])\n",
    "print('total unique persons:',sum_df_race.cuebiq_id.unique().shape[0])\n",
    "print('total unique POIs:',sum_df_race.place_id.unique().shape[0])    \n",
    "allpid_inthepaper = sum_df_race.cuebiq_id.unique().tolist()"
   ]
  },
  {
   "cell_type": "code",
   "execution_count": 19,
   "id": "5090d39a-3f62-4f98-800e-c712d77e9342",
   "metadata": {},
   "outputs": [
    {
     "name": "stdout",
     "output_type": "stream",
     "text": [
      " * trino://localhost:9090/cuebiq/\n",
      "Done.\n"
     ]
    },
    {
     "data": {
      "text/html": [
       "<div>\n",
       "<style scoped>\n",
       "    .dataframe tbody tr th:only-of-type {\n",
       "        vertical-align: middle;\n",
       "    }\n",
       "\n",
       "    .dataframe tbody tr th {\n",
       "        vertical-align: top;\n",
       "    }\n",
       "\n",
       "    .dataframe thead th {\n",
       "        text-align: right;\n",
       "    }\n",
       "</style>\n",
       "<table border=\"1\" class=\"dataframe\">\n",
       "  <thead>\n",
       "    <tr style=\"text-align: right;\">\n",
       "      <th></th>\n",
       "      <th>Table</th>\n",
       "    </tr>\n",
       "  </thead>\n",
       "  <tbody>\n",
       "    <tr>\n",
       "      <th>0</th>\n",
       "      <td>brand</td>\n",
       "    </tr>\n",
       "    <tr>\n",
       "      <th>1</th>\n",
       "      <td>cbsa</td>\n",
       "    </tr>\n",
       "    <tr>\n",
       "      <th>2</th>\n",
       "      <td>custom_poi</td>\n",
       "    </tr>\n",
       "    <tr>\n",
       "      <th>3</th>\n",
       "      <td>custom_poi_history</td>\n",
       "    </tr>\n",
       "    <tr>\n",
       "      <th>4</th>\n",
       "      <td>device_location_uplevelled</td>\n",
       "    </tr>\n",
       "    <tr>\n",
       "      <th>5</th>\n",
       "      <td>device_metrics_uplevelled</td>\n",
       "    </tr>\n",
       "    <tr>\n",
       "      <th>6</th>\n",
       "      <td>device_recurring_area</td>\n",
       "    </tr>\n",
       "    <tr>\n",
       "      <th>7</th>\n",
       "      <td>device_user_labeling</td>\n",
       "    </tr>\n",
       "    <tr>\n",
       "      <th>8</th>\n",
       "      <td>geography_registry</td>\n",
       "    </tr>\n",
       "    <tr>\n",
       "      <th>9</th>\n",
       "      <td>poi</td>\n",
       "    </tr>\n",
       "    <tr>\n",
       "      <th>10</th>\n",
       "      <td>poi_history</td>\n",
       "    </tr>\n",
       "    <tr>\n",
       "      <th>11</th>\n",
       "      <td>segment_taxonomy</td>\n",
       "    </tr>\n",
       "    <tr>\n",
       "      <th>12</th>\n",
       "      <td>stop_uplevelled</td>\n",
       "    </tr>\n",
       "    <tr>\n",
       "      <th>13</th>\n",
       "      <td>stoppers_hll_by_geohash</td>\n",
       "    </tr>\n",
       "    <tr>\n",
       "      <th>14</th>\n",
       "      <td>trajectory</td>\n",
       "    </tr>\n",
       "    <tr>\n",
       "      <th>15</th>\n",
       "      <td>trajectory_uplevelled</td>\n",
       "    </tr>\n",
       "    <tr>\n",
       "      <th>16</th>\n",
       "      <td>visit</td>\n",
       "    </tr>\n",
       "  </tbody>\n",
       "</table>\n",
       "</div>"
      ],
      "text/plain": [
       "                         Table\n",
       "0   brand                     \n",
       "1   cbsa                      \n",
       "2   custom_poi                \n",
       "3   custom_poi_history        \n",
       "4   device_location_uplevelled\n",
       "5   device_metrics_uplevelled \n",
       "6   device_recurring_area     \n",
       "7   device_user_labeling      \n",
       "8   geography_registry        \n",
       "9   poi                       \n",
       "10  poi_history               \n",
       "11  segment_taxonomy          \n",
       "12  stop_uplevelled           \n",
       "13  stoppers_hll_by_geohash   \n",
       "14  trajectory                \n",
       "15  trajectory_uplevelled     \n",
       "16  visit                     "
      ]
     },
     "execution_count": 19,
     "metadata": {},
     "output_type": "execute_result"
    }
   ],
   "source": [
    "%sql show tables from cuebiq.paas_cda_pe_v3"
   ]
  },
  {
   "cell_type": "code",
   "execution_count": 10,
   "id": "bc52e113-fd34-4c61-b0bc-b6953ae2cfe0",
   "metadata": {},
   "outputs": [],
   "source": [
    "# sql_engine.read_sql(f\"desc cuebiq.paas_cda_pe_v3.visit\")"
   ]
  },
  {
   "cell_type": "code",
   "execution_count": 9,
   "id": "3c8d182e-fa73-454b-8ea6-beb7c8a5e38a",
   "metadata": {
    "tags": []
   },
   "outputs": [
    {
     "name": "stdout",
     "output_type": "stream",
     "text": [
      "CPU times: user 1.65 s, sys: 18 ms, total: 1.67 s\n",
      "Wall time: 7min 47s\n"
     ]
    },
    {
     "data": {
      "text/html": [
       "<div>\n",
       "<style scoped>\n",
       "    .dataframe tbody tr th:only-of-type {\n",
       "        vertical-align: middle;\n",
       "    }\n",
       "\n",
       "    .dataframe tbody tr th {\n",
       "        vertical-align: top;\n",
       "    }\n",
       "\n",
       "    .dataframe thead th {\n",
       "        text-align: right;\n",
       "    }\n",
       "</style>\n",
       "<table border=\"1\" class=\"dataframe\">\n",
       "  <thead>\n",
       "    <tr style=\"text-align: right;\">\n",
       "      <th></th>\n",
       "      <th>_col0</th>\n",
       "    </tr>\n",
       "  </thead>\n",
       "  <tbody>\n",
       "    <tr>\n",
       "      <th>0</th>\n",
       "      <td>10278</td>\n",
       "    </tr>\n",
       "  </tbody>\n",
       "</table>\n",
       "</div>"
      ],
      "text/plain": [
       "   _col0\n",
       "0  10278"
      ]
     },
     "execution_count": 9,
     "metadata": {},
     "output_type": "execute_result"
    }
   ],
   "source": [
    "%%time\n",
    "# get the total number of location points of March 2022 data in LA County used in the CEUS paper\n",
    "# this takes a super long time - haven't finished running once yet\n",
    "pe_dl_table = \"cuebiq.paas_cda_pe_v3.device_location_uplevelled\"\n",
    "sql_engine.read_sql(\n",
    "    f\"\"\"\n",
    "    select count(*)\n",
    "    from {pe_dl_table}\n",
    "    where \n",
    "        country_code = 'US'\n",
    "        and processing_date between 20190301 and 20190331\n",
    "        and provider_id = '190199'\n",
    "        and cuebiq_id in (1069274429, 1591710227)\n",
    "    \"\"\"\n",
    ")"
   ]
  },
  {
   "cell_type": "code",
   "execution_count": 15,
   "id": "fd787fa1-fd48-4e3a-8774-9ece2a7aa266",
   "metadata": {},
   "outputs": [
    {
     "data": {
      "text/plain": [
       "1457194284.0"
      ]
     },
     "execution_count": 15,
     "metadata": {},
     "output_type": "execute_result"
    }
   ],
   "source": [
    "10278/2*283556"
   ]
  },
  {
   "cell_type": "markdown",
   "id": "cad665f6-ae3d-46b3-a57c-07a20e1325d1",
   "metadata": {},
   "source": [
    "# Option 1. Extract visit table - one day only"
   ]
  },
  {
   "cell_type": "code",
   "execution_count": 8,
   "id": "50b5c6e5-b320-44b2-9c4b-63220d204491",
   "metadata": {},
   "outputs": [],
   "source": [
    "date = 20220310 # Thursday\n",
    "date_plus = int((datetime.strptime(str(date), \"%Y%m%d\") + timedelta(days=3)).strftime(\"%Y%m%d\"))# You see that we can limit to the first three processing dates starting from the local date of interest."
   ]
  },
  {
   "cell_type": "code",
   "execution_count": 66,
   "id": "c27d749c-dd29-4419-b84c-06df4bfb194d",
   "metadata": {},
   "outputs": [],
   "source": [
    "# sql_engine.read_sql(f\"\"\"\n",
    "# SELECT from_iso8601_timestamp('2022-03-10T13:54:09-08:00') AT TIME ZONE 'UTC'\n",
    "# \"\"\")"
   ]
  },
  {
   "cell_type": "code",
   "execution_count": 65,
   "id": "48a09240-cfb5-47bf-a7ff-6e7a45809552",
   "metadata": {},
   "outputs": [],
   "source": [
    "# sql_engine.read_sql(f\"\"\"\n",
    "# SELECT from_iso8601_timestamp('2022-03-10T13:54:09-08:00') AT TIME ZONE '-08:00'\n",
    "# \"\"\")"
   ]
  },
  {
   "cell_type": "code",
   "execution_count": 28,
   "id": "5445af0f-298d-48cc-81dd-4ae4c8fb92a2",
   "metadata": {},
   "outputs": [],
   "source": [
    "# test = sql_engine.read_sql(f\"\"\"\n",
    "#         select\n",
    "#             *, \n",
    "#             from_iso8601_timestamp(zoned_datetime) as start_time, \n",
    "#             date_add('second', cast(dwell_time_minutes * 60 as bigint), from_iso8601_timestamp(zoned_datetime)) as end_time\n",
    "#         from {visit_table}\n",
    "#         where \n",
    "#             country_code = 'US'\n",
    "#             and provider_id = '190199'\n",
    "#             and processing_date between {date} and {date_plus}\n",
    "#             and event_date = {date}\n",
    "#             and admin2_id = 'US.CA.037'\n",
    "#             and dwell_time_minutes < 1440\n",
    "#         limit 10\n",
    "#         \"\"\"\n",
    "# )\n",
    "# test.head()"
   ]
  },
  {
   "cell_type": "code",
   "execution_count": null,
   "id": "9bc7ba34-787e-494c-ae2a-8f2035c4ec04",
   "metadata": {},
   "outputs": [],
   "source": [
    "# from_iso8601_timestamp(zoned_datetime) as start_time, \n",
    "# date_add('second', cast(dwell_time_minutes * 60 as bigint), from_iso8601_timestamp(zoned_datetime)) as end_time"
   ]
  },
  {
   "cell_type": "code",
   "execution_count": 1,
   "id": "5e613566-8347-4f8b-adf8-c76a8a97e9c9",
   "metadata": {},
   "outputs": [],
   "source": [
    "%%time\n",
    "# 264083\n",
    "# CPU times: user 12.2 s, sys: 387 ms, total: 12.6 s\n",
    "# Wall time: 1min 7s\n",
    "\n",
    "df_visit_LA = sql_engine.read_sql(f\"\"\"\n",
    "    with la_visit as (\n",
    "        select\n",
    "            *\n",
    "        from {visit_table}\n",
    "        where \n",
    "            country_code = 'US'\n",
    "            and provider_id = '190199'\n",
    "            and processing_date between {date} and {date_plus}\n",
    "            and event_date = {date}\n",
    "            and admin2_id = 'US.CA.037'\n",
    "            and dwell_time_minutes < 1440\n",
    "        ),\n",
    "        \n",
    "        la_cbg as (\n",
    "        select\n",
    "            geography_id, geometry_wkt\n",
    "        from {geography_table}\n",
    "        where\n",
    "            country_code = 'US'\n",
    "            and geography_type_code = 'admin4'\n",
    "            and geography_id like 'US.CA.037%'     --- <<< filter geometries in LA\n",
    "        )\n",
    "        \n",
    "        select\n",
    "        *\n",
    "        from la_visit s\n",
    "        inner join la_cbg c\n",
    "        on st_contains(st_geometryfromtext(c.geometry_wkt), st_point(s.lng, s.lat))\n",
    "        \"\"\"\n",
    ")\n",
    "\n",
    "print(df_visit_LA.shape[0])\n",
    "df_visit_LA.drop(['zipcode_id','place_version','processing_date','country_code',\n",
    "                 'geometry_wkt','admin1_id','device_type_code','os_name','provider_id'], inplace=True, axis=1)\n",
    "df_visit_LA.head()"
   ]
  },
  {
   "cell_type": "code",
   "execution_count": null,
   "id": "7d965044-d2b6-4c2d-bd72-c6271a8d6394",
   "metadata": {},
   "outputs": [],
   "source": [
    "%%time\n",
    "#create start_time, end_time, start_hour, and end_hour columns\n",
    "df_visit_LA['start_time'] =  df_visit_LA['zoned_datetime'].astype(str).str[:19]\n",
    "df_visit_LA['start_time'] = pd.to_datetime(df_visit_LA['start_time'], errors='coerce')\n",
    "df_visit_LA['time_added'] = pd.to_timedelta(df_visit_LA['dwell_time_minutes'],'m')\n",
    "df_visit_LA['end_time'] = df_visit_LA['start_time'] + df_visit_LA['time_added']\n",
    "df_visit_LA['start_hour'] = df_visit_LA['start_time'].dt.hour\n",
    "df_visit_LA['end_hour'] = df_visit_LA['end_time'].dt.hour\n",
    "df_visit_LA.drop(['time_added'], inplace=True, axis=1)\n",
    "df_visit_LA.head()"
   ]
  },
  {
   "cell_type": "code",
   "execution_count": null,
   "id": "0f11f0f9-5afc-4681-ad38-502f20f1c1d2",
   "metadata": {},
   "outputs": [],
   "source": [
    "# df_visit_LA.to_pickle(\"./output/LA_visit_\"+str(date)+\".pkl\")  \n",
    "# df_visit_LA = pd.read_pickle(\"./output/LA_visit_\"+str(date)+\".pkl\")"
   ]
  },
  {
   "cell_type": "markdown",
   "id": "375689c7-a9ed-4c58-8257-b449f55de876",
   "metadata": {},
   "source": [
    "# Option 2. Extract visit table - time range"
   ]
  },
  {
   "cell_type": "code",
   "execution_count": 4,
   "id": "ff3c21ae-793f-43be-baef-474aa529339f",
   "metadata": {},
   "outputs": [],
   "source": [
    "#March 2022: \n",
    "#weekend days: 20220305,20220306,20220312,20220313,20220319,20220320,20220326,20220327\n",
    "#weekend days: 20190302,20190303,20190309,20190310,20190316,20190317,20190323,20190324,20190330,20190331\n",
    "\n",
    "#20190301,20190308\n",
    "#20190309,20190316\n",
    "#20190317,20190323\n",
    "#20190324,20190331\n",
    "start_date,end_date = 20190324,20190331\n",
    "end_date_plus = int((datetime.strptime(str(end_date), \"%Y%m%d\") + timedelta(days=3)).strftime(\"%Y%m%d\"))# You see that we can limit to the first three processing dates starting from the local date of interest."
   ]
  },
  {
   "cell_type": "code",
   "execution_count": 36,
   "id": "04c4a9dc-2729-45c2-8089-8c48fbb68806",
   "metadata": {},
   "outputs": [],
   "source": [
    "# from_iso8601_timestamp(zoned_datetime) as start_time, \n",
    "# date_add('second', cast(dwell_time_minutes * 60 as bigint), from_iso8601_timestamp(zoned_datetime)) as end_time"
   ]
  },
  {
   "cell_type": "code",
   "execution_count": 5,
   "id": "c807fd28-dfaf-4e45-9713-58113bb4bdd1",
   "metadata": {},
   "outputs": [
    {
     "name": "stdout",
     "output_type": "stream",
     "text": [
      "20190324 20190331\n",
      "1909313\n",
      "CPU times: user 54.1 s, sys: 2.9 s, total: 57 s\n",
      "Wall time: 2min 53s\n"
     ]
    },
    {
     "data": {
      "text/html": [
       "<div>\n",
       "<style scoped>\n",
       "    .dataframe tbody tr th:only-of-type {\n",
       "        vertical-align: middle;\n",
       "    }\n",
       "\n",
       "    .dataframe tbody tr th {\n",
       "        vertical-align: top;\n",
       "    }\n",
       "\n",
       "    .dataframe thead th {\n",
       "        text-align: right;\n",
       "    }\n",
       "</style>\n",
       "<table border=\"1\" class=\"dataframe\">\n",
       "  <thead>\n",
       "    <tr style=\"text-align: right;\">\n",
       "      <th></th>\n",
       "      <th>admin2_id</th>\n",
       "      <th>brand_id</th>\n",
       "      <th>cuebiq_id</th>\n",
       "      <th>dwell_time_minutes</th>\n",
       "      <th>event_date</th>\n",
       "      <th>geohash</th>\n",
       "      <th>geoset_id</th>\n",
       "      <th>lat</th>\n",
       "      <th>lng</th>\n",
       "      <th>place_id</th>\n",
       "      <th>zoned_datetime</th>\n",
       "      <th>geography_id</th>\n",
       "    </tr>\n",
       "  </thead>\n",
       "  <tbody>\n",
       "    <tr>\n",
       "      <th>0</th>\n",
       "      <td>US.CA.037</td>\n",
       "      <td>629</td>\n",
       "      <td>1069274429</td>\n",
       "      <td>7.966667</td>\n",
       "      <td>20190327</td>\n",
       "      <td>9q5cfdwu2</td>\n",
       "      <td>11132</td>\n",
       "      <td>34.072110</td>\n",
       "      <td>-118.357421</td>\n",
       "      <td>31119715</td>\n",
       "      <td>2019-03-27T19:05:07-07:00</td>\n",
       "      <td>US.CA.037.214501.2</td>\n",
       "    </tr>\n",
       "    <tr>\n",
       "      <th>1</th>\n",
       "      <td>US.CA.037</td>\n",
       "      <td>420</td>\n",
       "      <td>1591710227</td>\n",
       "      <td>108.516667</td>\n",
       "      <td>20190327</td>\n",
       "      <td>9qh08gwy3</td>\n",
       "      <td>7774</td>\n",
       "      <td>33.858219</td>\n",
       "      <td>-118.082707</td>\n",
       "      <td>25605481</td>\n",
       "      <td>2019-03-27T12:58:31-07:00</td>\n",
       "      <td>US.CA.037.554900.5</td>\n",
       "    </tr>\n",
       "    <tr>\n",
       "      <th>2</th>\n",
       "      <td>US.CA.037</td>\n",
       "      <td>38</td>\n",
       "      <td>1803455491</td>\n",
       "      <td>6.816667</td>\n",
       "      <td>20190327</td>\n",
       "      <td>9q5fbpnez</td>\n",
       "      <td>7669</td>\n",
       "      <td>34.272501</td>\n",
       "      <td>-118.467296</td>\n",
       "      <td>25402132</td>\n",
       "      <td>2019-03-27T15:19:29-07:00</td>\n",
       "      <td>US.CA.037.109100.2</td>\n",
       "    </tr>\n",
       "    <tr>\n",
       "      <th>3</th>\n",
       "      <td>US.CA.037</td>\n",
       "      <td>38</td>\n",
       "      <td>933900377</td>\n",
       "      <td>3.050000</td>\n",
       "      <td>20190328</td>\n",
       "      <td>9q5dt5641</td>\n",
       "      <td>7669</td>\n",
       "      <td>34.207664</td>\n",
       "      <td>-118.605598</td>\n",
       "      <td>25648766</td>\n",
       "      <td>2019-03-28T11:06:06-07:00</td>\n",
       "      <td>US.CA.037.134522.1</td>\n",
       "    </tr>\n",
       "    <tr>\n",
       "      <th>4</th>\n",
       "      <td>US.CA.037</td>\n",
       "      <td>122</td>\n",
       "      <td>848675930</td>\n",
       "      <td>114.133333</td>\n",
       "      <td>20190327</td>\n",
       "      <td>9q5bdb98q</td>\n",
       "      <td>7824</td>\n",
       "      <td>33.840715</td>\n",
       "      <td>-118.353367</td>\n",
       "      <td>26115943</td>\n",
       "      <td>2019-03-27T14:12:41-07:00</td>\n",
       "      <td>US.CA.037.650604.1</td>\n",
       "    </tr>\n",
       "  </tbody>\n",
       "</table>\n",
       "</div>"
      ],
      "text/plain": [
       "   admin2_id  brand_id   cuebiq_id  dwell_time_minutes  event_date    geohash  geoset_id        lat         lng  place_id             zoned_datetime        geography_id\n",
       "0  US.CA.037  629       1069274429  7.966667            20190327    9q5cfdwu2  11132      34.072110 -118.357421  31119715  2019-03-27T19:05:07-07:00  US.CA.037.214501.2\n",
       "1  US.CA.037  420       1591710227  108.516667          20190327    9qh08gwy3  7774       33.858219 -118.082707  25605481  2019-03-27T12:58:31-07:00  US.CA.037.554900.5\n",
       "2  US.CA.037  38        1803455491  6.816667            20190327    9q5fbpnez  7669       34.272501 -118.467296  25402132  2019-03-27T15:19:29-07:00  US.CA.037.109100.2\n",
       "3  US.CA.037  38        933900377   3.050000            20190328    9q5dt5641  7669       34.207664 -118.605598  25648766  2019-03-28T11:06:06-07:00  US.CA.037.134522.1\n",
       "4  US.CA.037  122       848675930   114.133333          20190327    9q5bdb98q  7824       33.840715 -118.353367  26115943  2019-03-27T14:12:41-07:00  US.CA.037.650604.1"
      ]
     },
     "execution_count": 5,
     "metadata": {},
     "output_type": "execute_result"
    }
   ],
   "source": [
    "%%time  \n",
    "# about 4min\n",
    "# Select visits in LA county only\n",
    "\n",
    "print(start_date,end_date)\n",
    "df_visit_LA_range = sql_engine.read_sql(f\"\"\"\n",
    "    with la_visit as (\n",
    "        select\n",
    "            *\n",
    "        from {visit_table}\n",
    "        where \n",
    "            country_code = 'US'\n",
    "            and provider_id = '190199'\n",
    "            and processing_date between {start_date} and {end_date_plus}\n",
    "            and event_date between {start_date} and {end_date}\n",
    "            and admin2_id = 'US.CA.037'     --- <<< filter geometries in LA\n",
    "        ),\n",
    "        \n",
    "        la_cbg as (\n",
    "        select\n",
    "            geography_id, geometry_wkt\n",
    "        from {geography_table}\n",
    "        where\n",
    "            country_code = 'US'\n",
    "            and geography_type_code = 'admin4'\n",
    "            and geography_id like 'US.CA.037%'     --- <<< filter geometries in LA\n",
    "        )\n",
    "        \n",
    "        select\n",
    "        *\n",
    "        from la_visit s\n",
    "        inner join la_cbg c\n",
    "        on st_contains(st_geometryfromtext(c.geometry_wkt), st_point(s.lng, s.lat))\n",
    "        \"\"\"\n",
    ")\n",
    "\n",
    "print(df_visit_LA_range.shape[0])\n",
    "df_visit_LA_range.drop(['zipcode_id','place_version','processing_date','country_code',\n",
    "                 'geometry_wkt','admin1_id','device_type_code','os_name','provider_id'], inplace=True, axis=1)\n",
    "df_visit_LA_range.head()"
   ]
  },
  {
   "cell_type": "code",
   "execution_count": 6,
   "id": "6e4d961e-c7f2-4b1c-9eee-b900deb29612",
   "metadata": {},
   "outputs": [
    {
     "name": "stdout",
     "output_type": "stream",
     "text": [
      "CPU times: user 1.53 s, sys: 4 ms, total: 1.53 s\n",
      "Wall time: 1.54 s\n"
     ]
    },
    {
     "data": {
      "text/html": [
       "<div>\n",
       "<style scoped>\n",
       "    .dataframe tbody tr th:only-of-type {\n",
       "        vertical-align: middle;\n",
       "    }\n",
       "\n",
       "    .dataframe tbody tr th {\n",
       "        vertical-align: top;\n",
       "    }\n",
       "\n",
       "    .dataframe thead th {\n",
       "        text-align: right;\n",
       "    }\n",
       "</style>\n",
       "<table border=\"1\" class=\"dataframe\">\n",
       "  <thead>\n",
       "    <tr style=\"text-align: right;\">\n",
       "      <th></th>\n",
       "      <th>admin2_id</th>\n",
       "      <th>brand_id</th>\n",
       "      <th>cuebiq_id</th>\n",
       "      <th>dwell_time_minutes</th>\n",
       "      <th>event_date</th>\n",
       "      <th>geohash</th>\n",
       "      <th>geoset_id</th>\n",
       "      <th>lat</th>\n",
       "      <th>lng</th>\n",
       "      <th>place_id</th>\n",
       "      <th>zoned_datetime</th>\n",
       "      <th>geography_id</th>\n",
       "      <th>start_time</th>\n",
       "      <th>end_time</th>\n",
       "      <th>start_hour</th>\n",
       "      <th>end_hour</th>\n",
       "    </tr>\n",
       "  </thead>\n",
       "  <tbody>\n",
       "    <tr>\n",
       "      <th>0</th>\n",
       "      <td>US.CA.037</td>\n",
       "      <td>629</td>\n",
       "      <td>1069274429</td>\n",
       "      <td>7.966667</td>\n",
       "      <td>20190327</td>\n",
       "      <td>9q5cfdwu2</td>\n",
       "      <td>11132</td>\n",
       "      <td>34.072110</td>\n",
       "      <td>-118.357421</td>\n",
       "      <td>31119715</td>\n",
       "      <td>2019-03-27T19:05:07-07:00</td>\n",
       "      <td>US.CA.037.214501.2</td>\n",
       "      <td>2019-03-27 19:05:07</td>\n",
       "      <td>2019-03-27 19:13:05.000000020</td>\n",
       "      <td>19</td>\n",
       "      <td>19</td>\n",
       "    </tr>\n",
       "    <tr>\n",
       "      <th>1</th>\n",
       "      <td>US.CA.037</td>\n",
       "      <td>420</td>\n",
       "      <td>1591710227</td>\n",
       "      <td>108.516667</td>\n",
       "      <td>20190327</td>\n",
       "      <td>9qh08gwy3</td>\n",
       "      <td>7774</td>\n",
       "      <td>33.858219</td>\n",
       "      <td>-118.082707</td>\n",
       "      <td>25605481</td>\n",
       "      <td>2019-03-27T12:58:31-07:00</td>\n",
       "      <td>US.CA.037.554900.5</td>\n",
       "      <td>2019-03-27 12:58:31</td>\n",
       "      <td>2019-03-27 14:47:02.000000020</td>\n",
       "      <td>12</td>\n",
       "      <td>14</td>\n",
       "    </tr>\n",
       "    <tr>\n",
       "      <th>2</th>\n",
       "      <td>US.CA.037</td>\n",
       "      <td>38</td>\n",
       "      <td>1803455491</td>\n",
       "      <td>6.816667</td>\n",
       "      <td>20190327</td>\n",
       "      <td>9q5fbpnez</td>\n",
       "      <td>7669</td>\n",
       "      <td>34.272501</td>\n",
       "      <td>-118.467296</td>\n",
       "      <td>25402132</td>\n",
       "      <td>2019-03-27T15:19:29-07:00</td>\n",
       "      <td>US.CA.037.109100.2</td>\n",
       "      <td>2019-03-27 15:19:29</td>\n",
       "      <td>2019-03-27 15:26:18.000000020</td>\n",
       "      <td>15</td>\n",
       "      <td>15</td>\n",
       "    </tr>\n",
       "    <tr>\n",
       "      <th>3</th>\n",
       "      <td>US.CA.037</td>\n",
       "      <td>38</td>\n",
       "      <td>933900377</td>\n",
       "      <td>3.050000</td>\n",
       "      <td>20190328</td>\n",
       "      <td>9q5dt5641</td>\n",
       "      <td>7669</td>\n",
       "      <td>34.207664</td>\n",
       "      <td>-118.605598</td>\n",
       "      <td>25648766</td>\n",
       "      <td>2019-03-28T11:06:06-07:00</td>\n",
       "      <td>US.CA.037.134522.1</td>\n",
       "      <td>2019-03-28 11:06:06</td>\n",
       "      <td>2019-03-28 11:09:09.000000000</td>\n",
       "      <td>11</td>\n",
       "      <td>11</td>\n",
       "    </tr>\n",
       "    <tr>\n",
       "      <th>4</th>\n",
       "      <td>US.CA.037</td>\n",
       "      <td>122</td>\n",
       "      <td>848675930</td>\n",
       "      <td>114.133333</td>\n",
       "      <td>20190327</td>\n",
       "      <td>9q5bdb98q</td>\n",
       "      <td>7824</td>\n",
       "      <td>33.840715</td>\n",
       "      <td>-118.353367</td>\n",
       "      <td>26115943</td>\n",
       "      <td>2019-03-27T14:12:41-07:00</td>\n",
       "      <td>US.CA.037.650604.1</td>\n",
       "      <td>2019-03-27 14:12:41</td>\n",
       "      <td>2019-03-27 16:06:48.999999980</td>\n",
       "      <td>14</td>\n",
       "      <td>16</td>\n",
       "    </tr>\n",
       "  </tbody>\n",
       "</table>\n",
       "</div>"
      ],
      "text/plain": [
       "   admin2_id  brand_id   cuebiq_id  dwell_time_minutes  event_date    geohash  geoset_id        lat         lng  place_id             zoned_datetime        geography_id          start_time                      end_time  start_hour  end_hour\n",
       "0  US.CA.037  629       1069274429  7.966667            20190327    9q5cfdwu2  11132      34.072110 -118.357421  31119715  2019-03-27T19:05:07-07:00  US.CA.037.214501.2 2019-03-27 19:05:07 2019-03-27 19:13:05.000000020  19          19      \n",
       "1  US.CA.037  420       1591710227  108.516667          20190327    9qh08gwy3  7774       33.858219 -118.082707  25605481  2019-03-27T12:58:31-07:00  US.CA.037.554900.5 2019-03-27 12:58:31 2019-03-27 14:47:02.000000020  12          14      \n",
       "2  US.CA.037  38        1803455491  6.816667            20190327    9q5fbpnez  7669       34.272501 -118.467296  25402132  2019-03-27T15:19:29-07:00  US.CA.037.109100.2 2019-03-27 15:19:29 2019-03-27 15:26:18.000000020  15          15      \n",
       "3  US.CA.037  38        933900377   3.050000            20190328    9q5dt5641  7669       34.207664 -118.605598  25648766  2019-03-28T11:06:06-07:00  US.CA.037.134522.1 2019-03-28 11:06:06 2019-03-28 11:09:09.000000000  11          11      \n",
       "4  US.CA.037  122       848675930   114.133333          20190327    9q5bdb98q  7824       33.840715 -118.353367  26115943  2019-03-27T14:12:41-07:00  US.CA.037.650604.1 2019-03-27 14:12:41 2019-03-27 16:06:48.999999980  14          16      "
      ]
     },
     "execution_count": 6,
     "metadata": {},
     "output_type": "execute_result"
    }
   ],
   "source": [
    "%%time \n",
    "#create start_time, end_time, start_hour, and end_hour columns\n",
    "df_visit_LA_range['start_time'] =  df_visit_LA_range['zoned_datetime'].astype(str).str[:19]\n",
    "df_visit_LA_range['start_time'] = pd.to_datetime(df_visit_LA_range['start_time'], errors='coerce')\n",
    "df_visit_LA_range['time_added'] = pd.to_timedelta(df_visit_LA_range['dwell_time_minutes'],'m')\n",
    "df_visit_LA_range['end_time'] = df_visit_LA_range['start_time'] + df_visit_LA_range['time_added']\n",
    "df_visit_LA_range['start_hour'] = df_visit_LA_range['start_time'].dt.hour\n",
    "df_visit_LA_range['end_hour'] = df_visit_LA_range['end_time'].dt.hour\n",
    "df_visit_LA_range.drop(['time_added'], inplace=True, axis=1)\n",
    "df_visit_LA_range.head()"
   ]
  },
  {
   "cell_type": "code",
   "execution_count": 7,
   "id": "fcc5f7dd-b07e-44c7-bcef-d554bcec1338",
   "metadata": {},
   "outputs": [],
   "source": [
    "df_visit_LA_range.to_pickle(\"../output/LA_visit_\"+str(start_date)+'_'+str(end_date)+\".pkl\")  \n",
    "# df_visit_LA_range = pd.read_pickle(\"../output/LA_visit_\"+str(start_date)+'_'+str(end_date)+\".pkl\")"
   ]
  },
  {
   "cell_type": "markdown",
   "id": "457ea416-b5cb-4523-94e6-31c3c09afced",
   "metadata": {},
   "source": [
    "# Don't run below"
   ]
  },
  {
   "cell_type": "code",
   "execution_count": 30,
   "id": "caed3cc5-b498-4d1d-875c-60a1c749eb7e",
   "metadata": {},
   "outputs": [],
   "source": [
    "## Voided, not useful\n",
    "# df_visit_LA_range['start_time'] = df_visit_LA_range['zoned_datetime'].dt.tz_convert('America/Los_Angeles')\n",
    "# df_visit_LA_range['end_time'] = df_visit_LA_range['end_time'].dt.tz_convert('America/Los_Angeles')\n",
    "# df_visit_LA_range['start_time']  = df_visit_LA_range['start_time'].dt.tz_localize(None)\n",
    "# df_visit_LA_range['end_time']  = df_visit_LA_range['end_time'].dt.tz_localize(None)\n",
    "# df_visit_LA_range['start_hour'] = df_visit_LA_range['start_time'].dt.hour\n",
    "# df_visit_LA_range['end_hour'] = df_visit_LA_range['end_time'].dt.hour"
   ]
  },
  {
   "cell_type": "code",
   "execution_count": 9,
   "id": "39d23f2e-09cb-45fc-8fbe-80c536995cac",
   "metadata": {},
   "outputs": [
    {
     "name": "stdout",
     "output_type": "stream",
     "text": [
      "CPU times: user 86.5 ms, sys: 617 µs, total: 87.1 ms\n",
      "Wall time: 6.29 s\n"
     ]
    }
   ],
   "source": [
    "%%time\n",
    "# read LA CBG data\n",
    "cbg_geom = sql_engine.read_sql(\n",
    "    f\"\"\"\n",
    "    select\n",
    "        geography_id, geometry_wkt\n",
    "    from {geography_table}\n",
    "    where\n",
    "        country_code = 'US'\n",
    "        and geography_type_code = 'admin4'\n",
    "        and geography_id like 'US.CA.083%'     --- <<< filter geometries in LA\n",
    "    \"\"\"\n",
    ")\n",
    "\n",
    "cbg_geom.rename(columns={'geography_id': 'block_group_id'}, inplace=True)\n",
    "# eliminate Catalina island and another island in the south of Catalina island\n",
    "# cbg_geom = cbg_geom[~cbg_geom['block_group_id'].isin(['US.CA.037.599100.2','US.CA.037.599000.2','US.CA.037.599000.1','US.CA.037.599000.4','US.CA.037.599000.3','US.CA.037.599100.1'])]"
   ]
  },
  {
   "cell_type": "code",
   "execution_count": 10,
   "id": "b5e3d38c-0b0b-42ad-aae3-c96e903df7a5",
   "metadata": {},
   "outputs": [
    {
     "name": "stdout",
     "output_type": "stream",
     "text": [
      "User Guide: https://docs.kepler.gl/docs/keplergl-jupyter\n"
     ]
    },
    {
     "data": {
      "application/vnd.jupyter.widget-view+json": {
       "model_id": "ee8794bb843c4b3fa012368780a969ab",
       "version_major": 2,
       "version_minor": 0
      },
      "text/plain": [
       "KeplerGl(data={'geometries':          block_group_id  \\\n",
       "0    US.CA.083.001604.1   \n",
       "1    US.CA.083.002702.1   \n",
       "…"
      ]
     },
     "metadata": {},
     "output_type": "display_data"
    }
   ],
   "source": [
    "from keplergl import KeplerGl\n",
    "KeplerGl(data={'geometries': cbg_geom})"
   ]
  },
  {
   "cell_type": "code",
   "execution_count": null,
   "id": "b462a4a8-cc13-4eaa-ab38-b89d494349f9",
   "metadata": {},
   "outputs": [],
   "source": []
  }
 ],
 "metadata": {
  "kernelspec": {
   "display_name": "Python 3 (ipykernel)",
   "language": "python",
   "name": "python3"
  },
  "language_info": {
   "codemirror_mode": {
    "name": "ipython",
    "version": 3
   },
   "file_extension": ".py",
   "mimetype": "text/x-python",
   "name": "python",
   "nbconvert_exporter": "python",
   "pygments_lexer": "ipython3",
   "version": "3.11.3"
  },
  "widgets": {
   "application/vnd.jupyter.widget-state+json": {
    "state": {},
    "version_major": 2,
    "version_minor": 0
   }
  }
 },
 "nbformat": 4,
 "nbformat_minor": 5
}
