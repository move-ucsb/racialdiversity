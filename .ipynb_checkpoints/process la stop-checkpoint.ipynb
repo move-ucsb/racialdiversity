{
 "cells": [
  {
   "cell_type": "markdown",
   "id": "2ef9153d-a8f2-40cc-bb6f-e54a3aac2fa8",
   "metadata": {},
   "source": [
    "# This notebook is just for fun"
   ]
  },
  {
   "cell_type": "code",
   "execution_count": 2,
   "id": "03896712-7f87-415c-bf2d-a3346506a30e",
   "metadata": {},
   "outputs": [],
   "source": [
    "%reload_ext sql\n",
    "%config SqlMagic.autocommit=False\n",
    "%config SqlMagic.autolimit=0\n",
    "%config SqlMagic.autopandas=True\n",
    "%config SqlMagic.displaylimit=200\n",
    "%sql trino://localhost:9090/cuebiq/\n",
    "\n",
    "import pandas as pd\n",
    "import yaml\n",
    "import numpy as np\n",
    "import matplotlib.pyplot as plt\n",
    "import matplotlib.cm as cm\n",
    "import os\n",
    "from pyhive import trino\n",
    "import pydeck as pdk\n",
    "from typing import List\n",
    "import json\n",
    "import copy\n",
    "import itertools\n",
    "# import geohash\n",
    "from shapely.geometry import shape\n",
    "from datetime import datetime, timedelta\n",
    "from shapely.geometry import Polygon\n",
    "from shapely.geometry import box\n",
    "import geopandas as geopd\n",
    "from pyquadkey2 import quadkey\n",
    "from pyquadkey2.quadkey import TileAnchor, QuadKey\n",
    "from h3 import h3\n",
    "import seaborn as sns\n",
    "import folium\n",
    "from keplergl import KeplerGl\n",
    "\n",
    "os.environ['MAPBOX_API_KEY'] = \"INSERT YOUR MAPBOX TOKEN HERE\"\n",
    "pd.set_option('display.max_colwidth', 0)"
   ]
  },
  {
   "cell_type": "code",
   "execution_count": 3,
   "id": "d095ae14-1994-4a92-8413-e7abfeb0020d",
   "metadata": {},
   "outputs": [],
   "source": [
    "# SQL engine\n",
    "from trino.dbapi import connect \n",
    "from sqlalchemy import create_engine\n",
    "\n",
    "class TrinoEngine():\n",
    "    def __init__(self):\n",
    "        conn = connect(\n",
    "            host=\"localhost\",\n",
    "            port=9090,\n",
    "            catalog=\"cuebiq\"\n",
    "        )\n",
    "        self.cur = conn.cursor()\n",
    "        self.engine = create_engine(\"trino://localhost:9090/cuebiq/\")\n",
    "    \n",
    "    def execute_statement(self, query:str) -> list:\n",
    "        \"\"\"\n",
    "        Create and drop statements.\n",
    "        \"\"\"\n",
    "        self.cur.execute(query)\n",
    "        return self.cur.fetchall()\n",
    "    \n",
    "    def read_sql(self, query:str) -> pd.DataFrame: \n",
    "        \"\"\"\n",
    "        Select and insert into operations.\n",
    "        \"\"\"\n",
    "        return pd.read_sql(query, self.engine)\n",
    "\n",
    "sql_engine = TrinoEngine()"
   ]
  },
  {
   "cell_type": "code",
   "execution_count": 4,
   "id": "231ea2a9-803b-4483-8078-b763e4fe1db5",
   "metadata": {},
   "outputs": [],
   "source": [
    "stop_table = f\"dedicated.rsu.la_stop_uplevelled\"\n",
    "date = 20220310 # Thursday\n",
    "date_formated = datetime.strptime(str(date), \"%Y%m%d\").strftime(\"%Y-%m-%d\")"
   ]
  },
  {
   "cell_type": "code",
   "execution_count": 1,
   "id": "d4820673-e711-41e2-960f-43b7301f0905",
   "metadata": {},
   "outputs": [],
   "source": [
    "%%time\n",
    "df_stop_LA = sql_engine.read_sql(\n",
    "    f\"\"\"\n",
    "    select *, cast(hour(from_iso8601_timestamp(stop_zoned_datetime)) as int) as hour\n",
    "    from {stop_table}\n",
    "    where\n",
    "        substr(stop_zoned_datetime,1,10) = '{date_formated}'\n",
    "    \"\"\"\n",
    ")\n",
    "print(df_stop_LA.shape[0])\n",
    "df_stop_LA.head()"
   ]
  },
  {
   "cell_type": "code",
   "execution_count": 13,
   "id": "60ad29a6-fd19-4afb-9661-34f3ddc73161",
   "metadata": {},
   "outputs": [
    {
     "name": "stdout",
     "output_type": "stream",
     "text": [
      "111630\n"
     ]
    }
   ],
   "source": [
    "df_stop_LA_hourly = df_stop_LA[df_stop_LA['hour']==15]\n",
    "print(df_stop_LA_hourly.shape[0])"
   ]
  },
  {
   "cell_type": "code",
   "execution_count": 14,
   "id": "a1cdb204-365d-4cdf-86a6-9fed61e26568",
   "metadata": {},
   "outputs": [],
   "source": [
    "with open(\"data/LA_Boundaries.geojson\") as jsonfile:\n",
    "    la_neighborhoods_geojson = json.load(jsonfile)"
   ]
  },
  {
   "cell_type": "code",
   "execution_count": 16,
   "id": "692d1a1e-c8ff-4713-b0eb-0f16076d51fb",
   "metadata": {},
   "outputs": [],
   "source": [
    "# # center the map in Twin Peaks\n",
    "# fig = folium.Map(\n",
    "#     tiles=\"cartodbpositron\", \n",
    "#     location=[33.988077, -118.211342],\n",
    "#     zoom_start=9\n",
    "# )\n",
    "\n",
    "# folium.GeoJson(\n",
    "#     la_neighborhoods_geojson, \n",
    "#     name=\"geojson\"\n",
    "# ).add_to(fig)\n",
    "\n",
    "# fig"
   ]
  },
  {
   "cell_type": "code",
   "execution_count": 2,
   "id": "f5277f08-fbe7-45cb-a3f6-b98e84ac8f72",
   "metadata": {},
   "outputs": [],
   "source": [
    "h3_level = 8\n",
    "\n",
    "# add the geospatial index column\n",
    "df_stop_LA_hourly[\"h3_key\"] = df_stop_LA_hourly[[\"lat\", \"lng\"]].apply(\n",
    "    lambda p: h3.geo_to_h3(lat=p[\"lat\"], lng=p[\"lng\"], resolution=h3_level), \n",
    "    axis=1\n",
    ")\n",
    "df_stop_LA_hourly.head()"
   ]
  },
  {
   "cell_type": "code",
   "execution_count": 18,
   "id": "0ce435ad-1472-437b-8c79-b5799ac578b0",
   "metadata": {},
   "outputs": [
    {
     "data": {
      "text/html": [
       "<div>\n",
       "<style scoped>\n",
       "    .dataframe tbody tr th:only-of-type {\n",
       "        vertical-align: middle;\n",
       "    }\n",
       "\n",
       "    .dataframe tbody tr th {\n",
       "        vertical-align: top;\n",
       "    }\n",
       "\n",
       "    .dataframe thead th {\n",
       "        text-align: right;\n",
       "    }\n",
       "</style>\n",
       "<table border=\"1\" class=\"dataframe\">\n",
       "  <thead>\n",
       "    <tr style=\"text-align: right;\">\n",
       "      <th></th>\n",
       "      <th>h3_key</th>\n",
       "      <th>stops_count</th>\n",
       "      <th>h3_geom</th>\n",
       "    </tr>\n",
       "  </thead>\n",
       "  <tbody>\n",
       "    <tr>\n",
       "      <th>0</th>\n",
       "      <td>8829124927fffff</td>\n",
       "      <td>1</td>\n",
       "      <td>((34.10638106879764, -118.84704901659411), (34...</td>\n",
       "    </tr>\n",
       "    <tr>\n",
       "      <th>1</th>\n",
       "      <td>882912492dfffff</td>\n",
       "      <td>1</td>\n",
       "      <td>((34.09163693238395, -118.84323929117183), (34...</td>\n",
       "    </tr>\n",
       "    <tr>\n",
       "      <th>2</th>\n",
       "      <td>8829124947fffff</td>\n",
       "      <td>3</td>\n",
       "      <td>((34.07071849154115, -118.87040384983571), (34...</td>\n",
       "    </tr>\n",
       "    <tr>\n",
       "      <th>3</th>\n",
       "      <td>8829124b13fffff</td>\n",
       "      <td>1</td>\n",
       "      <td>((34.04360924455212, -118.92850811847964), (34...</td>\n",
       "    </tr>\n",
       "    <tr>\n",
       "      <th>4</th>\n",
       "      <td>8829124b15fffff</td>\n",
       "      <td>1</td>\n",
       "      <td>((34.03933031492523, -118.9111246567437), (34....</td>\n",
       "    </tr>\n",
       "  </tbody>\n",
       "</table>\n",
       "</div>"
      ],
      "text/plain": [
       "            h3_key  stops_count                                            h3_geom\n",
       "0  8829124927fffff            1  ((34.10638106879764, -118.84704901659411), (34...\n",
       "1  882912492dfffff            1  ((34.09163693238395, -118.84323929117183), (34...\n",
       "2  8829124947fffff            3  ((34.07071849154115, -118.87040384983571), (34...\n",
       "3  8829124b13fffff            1  ((34.04360924455212, -118.92850811847964), (34...\n",
       "4  8829124b15fffff            1  ((34.03933031492523, -118.9111246567437), (34...."
      ]
     },
     "execution_count": 18,
     "metadata": {},
     "output_type": "execute_result"
    }
   ],
   "source": [
    "heatmap = df_stop_LA_hourly.groupby(\"h3_key\")[\"hour\"].count().reset_index(name=\"stops_count\")\n",
    "heatmap[\"h3_geom\"] = heatmap[\"h3_key\"].apply(h3.h3_to_geo_boundary)\n",
    "heatmap.head()"
   ]
  },
  {
   "cell_type": "code",
   "execution_count": 19,
   "id": "b3d1ee97-1041-4bd3-8db5-333fa08f112f",
   "metadata": {},
   "outputs": [
    {
     "data": {
      "text/plain": [
       "<AxesSubplot: >"
      ]
     },
     "execution_count": 19,
     "metadata": {},
     "output_type": "execute_result"
    },
    {
     "data": {
      "image/png": "[encoded data removed]",
      "text/plain": [
       "<Figure size 640x480 with 1 Axes>"
      ]
     },
     "metadata": {},
     "output_type": "display_data"
    }
   ],
   "source": [
    "heatmap.stops_count.hist()"
   ]
  },
  {
   "cell_type": "code",
   "execution_count": 62,
   "id": "e91c2996-8024-46b0-9788-60a0d43309cd",
   "metadata": {},
   "outputs": [
    {
     "ename": "NameError",
     "evalue": "name 'df_stop_LA_hourly' is not defined",
     "output_type": "error",
     "traceback": [
      "\u001b[0;31m---------------------------------------------------------------------------\u001b[0m",
      "\u001b[0;31mNameError\u001b[0m                                 Traceback (most recent call last)",
      "File \u001b[0;32m<timed exec>:7\u001b[0m\n",
      "\u001b[0;31mNameError\u001b[0m: name 'df_stop_LA_hourly' is not defined"
     ]
    }
   ],
   "source": [
    "%%time\n",
    "import matplotlib.colors as mcolors\n",
    "import branca\n",
    "\n",
    "# create the map object\n",
    "map = folium.Map(\n",
    "    tiles=\"cartodbpositron\", \n",
    "    location=[df_stop_LA_hourly[\"lat\"].mean(), df_stop_LA_hourly[\"lng\"].mean()], \n",
    "    zoom_start=10\n",
    ")\n",
    "\n",
    "# convert the h3 geom items to polygons and add them to the map\n",
    "cmap = sns.color_palette(\"YlOrRd\", n_colors=max(heatmap[\"stops_count\"])).as_hex()\n",
    "\n",
    "for (cluster, value) in zip(heatmap[\"h3_geom\"], heatmap[\"stops_count\"]):\n",
    "    polygon = folium.vector_layers.Polygon(\n",
    "        locations=cluster, \n",
    "        fill=True, \n",
    "        color=cmap[value -1],\n",
    "        fill_color=cmap[value -1],\n",
    "        fill_opacity=0.4,\n",
    "        weight=3,\n",
    "        opacity=0.4\n",
    "    )\n",
    "    polygon.add_to(map)\n",
    "    \n",
    "colormap = branca.colormap.linear.YlOrRd_09.scale(0, max(heatmap[\"stops_count\"]))\n",
    "# colormap = colormap.to_step(index=[0, 1000, 3000, 5000, 8500])\n",
    "colormap.caption = 'Number of stops'\n",
    "colormap.add_to(map)    \n",
    "\n",
    "map"
   ]
  },
  {
   "cell_type": "code",
   "execution_count": 101,
   "id": "bca770f4-f22d-4822-8e09-6a726e4f7424",
   "metadata": {},
   "outputs": [],
   "source": [
    "# map.save(outfile='map/LA_stop_15pm.html')"
   ]
  },
  {
   "cell_type": "markdown",
   "id": "56e431b5-5dfd-443b-abe5-fef5dc0979ec",
   "metadata": {},
   "source": [
    "# Show aggregated home and work locations at CBG level\n",
    "device_recurring_area.ipynb already provided home and work locations. Read it creafully."
   ]
  },
  {
   "cell_type": "code",
   "execution_count": 44,
   "id": "32d5ce58-204e-486a-a84a-89dfc9446826",
   "metadata": {},
   "outputs": [
    {
     "data": {
      "text/html": [
       "<div>\n",
       "<style scoped>\n",
       "    .dataframe tbody tr th:only-of-type {\n",
       "        vertical-align: middle;\n",
       "    }\n",
       "\n",
       "    .dataframe tbody tr th {\n",
       "        vertical-align: top;\n",
       "    }\n",
       "\n",
       "    .dataframe thead th {\n",
       "        text-align: right;\n",
       "    }\n",
       "</style>\n",
       "<table border=\"1\" class=\"dataframe\">\n",
       "  <thead>\n",
       "    <tr style=\"text-align: right;\">\n",
       "      <th></th>\n",
       "      <th>classification_type</th>\n",
       "      <th>transformation_type</th>\n",
       "    </tr>\n",
       "  </thead>\n",
       "  <tbody>\n",
       "    <tr>\n",
       "      <th>0</th>\n",
       "      <td>[RECURRING_AREA, WHITELISTED, OTHER]</td>\n",
       "      <td>[UPLEVELED, KEEP]</td>\n",
       "    </tr>\n",
       "  </tbody>\n",
       "</table>\n",
       "</div>"
      ],
      "text/plain": [
       "                    classification_type transformation_type\n",
       "0  [RECURRING_AREA, WHITELISTED, OTHER]   [UPLEVELED, KEEP]"
      ]
     },
     "execution_count": 44,
     "metadata": {},
     "output_type": "execute_result"
    }
   ],
   "source": [
    "sql_engine.read_sql(\n",
    "    f\"\"\"\n",
    "    select\n",
    "        array_distinct(array_agg(classification_type)) classification_type,\n",
    "        array_distinct(array_agg(transformation_type)) transformation_type\n",
    "    from {stop_table}\n",
    "    \"\"\"\n",
    ")"
   ]
  },
  {
   "cell_type": "code",
   "execution_count": 5,
   "id": "bdf976ce-859e-44b7-b8dc-5bd3ec4fe95c",
   "metadata": {},
   "outputs": [],
   "source": [
    "geography_table = \"cuebiq.paas_cda_pe_v3.geography_registry\"\n",
    "# Census Block Groups typically have a population between 600 to 3000 people, this makes the data privacy safe.\n",
    "hw_table = \"cuebiq.paas_cda_pe_v3.device_recurring_area\"\n",
    "date = 20220310 # Thursday\n",
    "date_formated = datetime.strptime(str(date), \"%Y%m%d\").strftime(\"%Y-%m-%d\")"
   ]
  },
  {
   "cell_type": "markdown",
   "id": "738fea4a-8c5b-4678-887a-503639e5dbf8",
   "metadata": {},
   "source": [
    "## select home locations  and aggregate to CBG\n",
    "CBG shapefile is available from geography_table"
   ]
  },
  {
   "cell_type": "code",
   "execution_count": 12,
   "id": "359ad1a6-14a9-4f6a-8ab2-6f84c255b75f",
   "metadata": {},
   "outputs": [
    {
     "name": "stdout",
     "output_type": "stream",
     "text": [
      "CPU times: user 339 ms, sys: 6.79 ms, total: 346 ms\n",
      "Wall time: 30.1 s\n"
     ]
    }
   ],
   "source": [
    "%%time\n",
    "\n",
    "\n",
    "dfg = sql_engine.read_sql(\n",
    "    f\"\"\"\n",
    "    select\n",
    "        block_group_id, \n",
    "        arbitrary(geometry_wkt) as geom, \n",
    "        count(*) as devices\n",
    "    from {hw_table} t\n",
    "    join {geography_table} g\n",
    "    on g.geography_id = t.block_group_id\n",
    "    where\n",
    "        provider_id = '190199'\n",
    "        and t.country_code = 'US'\n",
    "        and snapshot_event_date = {date} \n",
    "        and tag_type_code = 'HOME'\n",
    "        and t.block_group_id like 'US.CA.037%'   --- <<< filter recurring areas in LA\n",
    "        and g.country_code = 'US'\n",
    "        and g.geography_id like 'US.CA.037%'     --- <<< filter geometries in LA\n",
    "    group by 1\n",
    "    \"\"\"\n",
    ")"
   ]
  },
  {
   "cell_type": "code",
   "execution_count": 13,
   "id": "a8c8a473-1535-4ce3-a774-430847768a86",
   "metadata": {},
   "outputs": [],
   "source": [
    "# eliminate Catalina island and another island in the south of Catalina island\n",
    "dfg = dfg[~dfg['block_group_id'].isin(['US.CA.037.599100.2','US.CA.037.599000.2','US.CA.037.599000.1','US.CA.037.599000.4','US.CA.037.599000.3','US.CA.037.599100.1'])]"
   ]
  },
  {
   "cell_type": "code",
   "execution_count": 14,
   "id": "4b2ef5d3-4f11-4379-90af-30f9dd69074f",
   "metadata": {},
   "outputs": [
    {
     "name": "stdout",
     "output_type": "stream",
     "text": [
      "count    6405.000000\n",
      "mean       53.331772\n",
      "std        44.404102\n",
      "min         1.000000\n",
      "25%        29.000000\n",
      "50%        44.000000\n",
      "75%        65.000000\n",
      "max      1297.000000\n",
      "Name: devices, dtype: float64\n"
     ]
    },
    {
     "data": {
      "text/plain": [
       "<AxesSubplot: >"
      ]
     },
     "execution_count": 14,
     "metadata": {},
     "output_type": "execute_result"
    },
    {
     "data": {
      "image/png": "[encoded data removed]",
      "text/plain": [
       "<Figure size 640x480 with 1 Axes>"
      ]
     },
     "metadata": {},
     "output_type": "display_data"
    }
   ],
   "source": [
    "print(dfg['devices'].describe())\n",
    "dfg['devices'].hist(bins=100)"
   ]
  },
  {
   "cell_type": "code",
   "execution_count": 15,
   "id": "30e57590-ef3b-4b09-a31a-79ffb0d79565",
   "metadata": {},
   "outputs": [
    {
     "name": "stdout",
     "output_type": "stream",
     "text": [
      "6405\n",
      "6363\n"
     ]
    }
   ],
   "source": [
    "print(dfg.shape[0])\n",
    "dfg = dfg[dfg['devices']>5]\n",
    "print(dfg.shape[0])"
   ]
  },
  {
   "cell_type": "code",
   "execution_count": 16,
   "id": "8e0342cc-ffc5-4914-93e3-1e746e71e64f",
   "metadata": {},
   "outputs": [
    {
     "data": {
      "text/html": [
       "<div>\n",
       "<style scoped>\n",
       "    .dataframe tbody tr th:only-of-type {\n",
       "        vertical-align: middle;\n",
       "    }\n",
       "\n",
       "    .dataframe tbody tr th {\n",
       "        vertical-align: top;\n",
       "    }\n",
       "\n",
       "    .dataframe thead th {\n",
       "        text-align: right;\n",
       "    }\n",
       "</style>\n",
       "<table border=\"1\" class=\"dataframe\">\n",
       "  <thead>\n",
       "    <tr style=\"text-align: right;\">\n",
       "      <th></th>\n",
       "      <th>block_group_id</th>\n",
       "      <th>geom</th>\n",
       "      <th>devices</th>\n",
       "    </tr>\n",
       "  </thead>\n",
       "  <tbody>\n",
       "    <tr>\n",
       "      <th>0</th>\n",
       "      <td>US.CA.037.294620.2</td>\n",
       "      <td>POLYGON ((-118.250559 33.785285, -118.24832599...</td>\n",
       "      <td>47</td>\n",
       "    </tr>\n",
       "    <tr>\n",
       "      <th>1</th>\n",
       "      <td>US.CA.037.800329.3</td>\n",
       "      <td>POLYGON ((-118.698262 34.143820999999996, -118...</td>\n",
       "      <td>110</td>\n",
       "    </tr>\n",
       "    <tr>\n",
       "      <th>2</th>\n",
       "      <td>US.CA.037.651101.2</td>\n",
       "      <td>POLYGON ((-118.32644600000002 33.789545, -118....</td>\n",
       "      <td>117</td>\n",
       "    </tr>\n",
       "    <tr>\n",
       "      <th>3</th>\n",
       "      <td>US.CA.037.311600.4</td>\n",
       "      <td>POLYGON ((-118.34200200000002 34.15756, -118.3...</td>\n",
       "      <td>46</td>\n",
       "    </tr>\n",
       "    <tr>\n",
       "      <th>4</th>\n",
       "      <td>US.CA.037.570003.2</td>\n",
       "      <td>POLYGON ((-118.13655700000001 33.860271, -118....</td>\n",
       "      <td>80</td>\n",
       "    </tr>\n",
       "  </tbody>\n",
       "</table>\n",
       "</div>"
      ],
      "text/plain": [
       "       block_group_id                                               geom  devices\n",
       "0  US.CA.037.294620.2  POLYGON ((-118.250559 33.785285, -118.24832599...       47\n",
       "1  US.CA.037.800329.3  POLYGON ((-118.698262 34.143820999999996, -118...      110\n",
       "2  US.CA.037.651101.2  POLYGON ((-118.32644600000002 33.789545, -118....      117\n",
       "3  US.CA.037.311600.4  POLYGON ((-118.34200200000002 34.15756, -118.3...       46\n",
       "4  US.CA.037.570003.2  POLYGON ((-118.13655700000001 33.860271, -118....       80"
      ]
     },
     "execution_count": 16,
     "metadata": {},
     "output_type": "execute_result"
    }
   ],
   "source": [
    "dfg.head()"
   ]
  },
  {
   "cell_type": "code",
   "execution_count": 18,
   "id": "305d43b9-a428-4c73-9441-0ece20fa96d1",
   "metadata": {},
   "outputs": [
    {
     "name": "stdout",
     "output_type": "stream",
     "text": [
      "User Guide: https://docs.kepler.gl/docs/keplergl-jupyter\n"
     ]
    },
    {
     "data": {
      "application/vnd.jupyter.widget-view+json": {
       "model_id": "b71261e929a64eb3a9fee2f986174328",
       "version_major": 2,
       "version_minor": 0
      },
      "text/plain": [
       "KeplerGl(config={'config': {'mapState': {'bearing': 0, 'dragRotate': False, 'isSplit': False, 'latitude': 33.9…"
      ]
     },
     "metadata": {},
     "output_type": "display_data"
    }
   ],
   "source": [
    "dfg['colorscale'] = (dfg['devices']/dfg['devices'].max())**0.5\n",
    "# dfg['colorscale'] = dfg['devices']/dfg['devices'].max()\n",
    "\n",
    "k = KeplerGl(data={'h':dfg}, height=700)\n",
    "with open('config/home_count_map.yml', 'r', encoding='utf-8') as config_file:\n",
    "    k.config = yaml.load(config_file, yaml.FullLoader)\n",
    "k # k.save_to_html(file_name='test.html')"
   ]
  },
  {
   "cell_type": "code",
   "execution_count": null,
   "id": "254a7cc2-c4a4-45af-bc24-2024702af92d",
   "metadata": {},
   "outputs": [],
   "source": []
  },
  {
   "cell_type": "code",
   "execution_count": null,
   "id": "b279d86d-3516-4cdb-b376-1c0c1a590410",
   "metadata": {},
   "outputs": [],
   "source": []
  },
  {
   "cell_type": "code",
   "execution_count": 6,
   "id": "4301518f-6de0-4f43-9612-9718cd695da5",
   "metadata": {},
   "outputs": [
    {
     "name": "stdout",
     "output_type": "stream",
     "text": [
      "CPU times: user 200 ms, sys: 9.91 ms, total: 210 ms\n",
      "Wall time: 36.4 s\n"
     ]
    }
   ],
   "source": [
    "%%time\n",
    "#select work locations and aggregate to CBG\n",
    "\n",
    "dfg_work = sql_engine.read_sql(\n",
    "    f\"\"\"\n",
    "    select\n",
    "        block_group_id, \n",
    "        arbitrary(geometry_wkt) as geom, \n",
    "        count(*) as devices\n",
    "    from {hw_table} t\n",
    "    join {geography_table} g\n",
    "    on g.geography_id = t.block_group_id\n",
    "    where\n",
    "        provider_id = '190199'\n",
    "        and t.country_code = 'US'\n",
    "        and snapshot_event_date = {date} \n",
    "        and tag_type_code = 'WORK'\n",
    "        and t.block_group_id like 'US.CA.037%'   --- <<< filter recurring areas in LA\n",
    "        and g.country_code = 'US'\n",
    "        and g.geography_id like 'US.CA.037%'     --- <<< filter geometries in LA\n",
    "    group by 1\n",
    "    \"\"\"\n",
    ")"
   ]
  },
  {
   "cell_type": "code",
   "execution_count": 7,
   "id": "85e2c2d4-9cac-4c40-addb-8ccfb39fa388",
   "metadata": {},
   "outputs": [],
   "source": [
    "# eliminate Catalina island and another island in the south of Catalina island\n",
    "dfg_work = dfg_work[~dfg_work['block_group_id'].isin(['US.CA.037.599100.2','US.CA.037.599000.2','US.CA.037.599000.1','US.CA.037.599000.4','US.CA.037.599000.3','US.CA.037.599100.1'])]"
   ]
  },
  {
   "cell_type": "code",
   "execution_count": 8,
   "id": "9ef1c75a-7cb2-401e-83e1-b76d2fa0abef",
   "metadata": {},
   "outputs": [
    {
     "name": "stdout",
     "output_type": "stream",
     "text": [
      "count    6406.000000\n",
      "mean     49.756791  \n",
      "std      89.172465  \n",
      "min      1.000000   \n",
      "25%      13.000000  \n",
      "50%      24.000000  \n",
      "75%      51.000000  \n",
      "max      2041.000000\n",
      "Name: devices, dtype: float64\n"
     ]
    },
    {
     "data": {
      "text/plain": [
       "<AxesSubplot: >"
      ]
     },
     "execution_count": 8,
     "metadata": {},
     "output_type": "execute_result"
    },
    {
     "data": {
      "image/png": "[encoded data removed]",
      "text/plain": [
       "<Figure size 640x480 with 1 Axes>"
      ]
     },
     "metadata": {},
     "output_type": "display_data"
    }
   ],
   "source": [
    "print(dfg_work['devices'].describe())\n",
    "dfg_work['devices'].hist(bins=50)"
   ]
  },
  {
   "cell_type": "code",
   "execution_count": 9,
   "id": "417bfe5b-3026-442b-b0ad-27b051339640",
   "metadata": {},
   "outputs": [
    {
     "name": "stdout",
     "output_type": "stream",
     "text": [
      "6406\n",
      "6065\n"
     ]
    }
   ],
   "source": [
    "print(dfg_work.shape[0])\n",
    "dfg_work = dfg_work[dfg_work['devices']>5]\n",
    "print(dfg_work.shape[0])"
   ]
  },
  {
   "cell_type": "code",
   "execution_count": 12,
   "id": "1fbb1bd0-2e9b-476b-b8cd-623e7971d3d0",
   "metadata": {},
   "outputs": [
    {
     "data": {
      "text/html": [
       "<div>\n",
       "<style scoped>\n",
       "    .dataframe tbody tr th:only-of-type {\n",
       "        vertical-align: middle;\n",
       "    }\n",
       "\n",
       "    .dataframe tbody tr th {\n",
       "        vertical-align: top;\n",
       "    }\n",
       "\n",
       "    .dataframe thead th {\n",
       "        text-align: right;\n",
       "    }\n",
       "</style>\n",
       "<table border=\"1\" class=\"dataframe\">\n",
       "  <thead>\n",
       "    <tr style=\"text-align: right;\">\n",
       "      <th></th>\n",
       "      <th>block_group_id</th>\n",
       "      <th>geom</th>\n",
       "      <th>devices</th>\n",
       "      <th>colorscale</th>\n",
       "    </tr>\n",
       "  </thead>\n",
       "  <tbody>\n",
       "    <tr>\n",
       "      <th>0</th>\n",
       "      <td>US.CA.037.603006.1</td>\n",
       "      <td>POLYGON ((-118.29939200000001 33.887426999999995, -118.299336 33.888639999999995, -118.29930899999998 33.889811, -118.30023500000001 33.891411999999995, -118.30475200000001 33.889941, -118.30475400000002 33.894659, -118.309121 33.894676, -118.30914 33.888528, -118.30913500000001 33.887395, -118.304378 33.887405, -118.29939200000001 33.887426999999995))</td>\n",
       "      <td>121</td>\n",
       "      <td>0.243484</td>\n",
       "    </tr>\n",
       "  </tbody>\n",
       "</table>\n",
       "</div>"
      ],
      "text/plain": [
       "       block_group_id  \\\n",
       "0  US.CA.037.603006.1   \n",
       "\n",
       "                                                                                                                                                                                                                                                                                                                                                                 geom  \\\n",
       "0  POLYGON ((-118.29939200000001 33.887426999999995, -118.299336 33.888639999999995, -118.29930899999998 33.889811, -118.30023500000001 33.891411999999995, -118.30475200000001 33.889941, -118.30475400000002 33.894659, -118.309121 33.894676, -118.30914 33.888528, -118.30913500000001 33.887395, -118.304378 33.887405, -118.29939200000001 33.887426999999995))   \n",
       "\n",
       "   devices  colorscale  \n",
       "0  121      0.243484    "
      ]
     },
     "execution_count": 12,
     "metadata": {},
     "output_type": "execute_result"
    }
   ],
   "source": [
    "dfg_work.head(1)"
   ]
  },
  {
   "cell_type": "code",
   "execution_count": 13,
   "id": "1e21e742-99b3-4b75-900b-1c998ef574bb",
   "metadata": {},
   "outputs": [
    {
     "name": "stdout",
     "output_type": "stream",
     "text": [
      "User Guide: https://docs.kepler.gl/docs/keplergl-jupyter\n"
     ]
    },
    {
     "data": {
      "application/vnd.jupyter.widget-view+json": {
       "model_id": "e3daa98e78eb4a6eacb5e529655e5fa4",
       "version_major": 2,
       "version_minor": 0
      },
      "text/plain": [
       "KeplerGl(config={'config': {'mapState': {'bearing': 0, 'dragRotate': False, 'isSplit': False, 'latitude': 33.9…"
      ]
     },
     "metadata": {},
     "output_type": "display_data"
    }
   ],
   "source": [
    "dfg_work['colorscale'] = (dfg_work['devices']/dfg_work['devices'].max())**0.5\n",
    "k2 = KeplerGl(data={'h':dfg_work}, height=700)\n",
    "with open('config/home_count_map.yml', 'r', encoding='utf-8') as config_file2:\n",
    "    k2.config = yaml.load(config_file2, yaml.FullLoader)\n",
    "k2 # k.save_to_html(file_name='test.html')"
   ]
  },
  {
   "cell_type": "markdown",
   "id": "d04ca000-fa14-4e76-b0b0-d409983de5d4",
   "metadata": {},
   "source": [
    "# Select Home and work locations"
   ]
  },
  {
   "cell_type": "code",
   "execution_count": 73,
   "id": "212dba5d-7fd6-428d-8a4e-a07fb015e83c",
   "metadata": {},
   "outputs": [
    {
     "name": "stdout",
     "output_type": "stream",
     "text": [
      "CPU times: user 3.74 s, sys: 173 ms, total: 3.91 s\n",
      "Wall time: 16.6 s\n"
     ]
    }
   ],
   "source": [
    "%%time\n",
    "#select work locations\n",
    "\n",
    "df_work_loc = sql_engine.read_sql(\n",
    "    f\"\"\"\n",
    "    select *\n",
    "    from {hw_table} t\n",
    "    where\n",
    "        provider_id = '190199'\n",
    "        and t.country_code = 'US'\n",
    "        and snapshot_event_date = {date} \n",
    "        and tag_type_code = 'WORK'\n",
    "        and t.block_group_id like 'US.CA.037%'   --- <<< filter recurring areas in LA\n",
    "    \"\"\"\n",
    ")"
   ]
  },
  {
   "cell_type": "code",
   "execution_count": 3,
   "id": "66d7d890-10aa-4e06-9881-13b4f98a0b60",
   "metadata": {},
   "outputs": [],
   "source": [
    "df_work_loc = df_work_loc[~df_work_loc['block_group_id'].isin(['US.CA.037.599100.2','US.CA.037.599000.2','US.CA.037.599000.1','US.CA.037.599000.4','US.CA.037.599000.3','US.CA.037.599100.1'])]\n",
    "df_work_loc\n"
   ]
  },
  {
   "cell_type": "code",
   "execution_count": null,
   "id": "c9c6eee4-a253-45c1-b97f-109d0949ac8c",
   "metadata": {},
   "outputs": [],
   "source": []
  },
  {
   "cell_type": "code",
   "execution_count": null,
   "id": "9d2c2361-ad50-49ab-a49c-3493814063b0",
   "metadata": {},
   "outputs": [],
   "source": []
  },
  {
   "cell_type": "code",
   "execution_count": null,
   "id": "3a1de3f3-bb72-4451-97c3-8d5b019a39d5",
   "metadata": {},
   "outputs": [],
   "source": []
  },
  {
   "cell_type": "code",
   "execution_count": null,
   "id": "e98e29a0-06a2-42b1-a655-d06ba0380802",
   "metadata": {},
   "outputs": [],
   "source": []
  },
  {
   "cell_type": "code",
   "execution_count": 93,
   "id": "d9a75f9f-a21c-4bad-b268-12e6a9fb3862",
   "metadata": {},
   "outputs": [],
   "source": []
  },
  {
   "cell_type": "code",
   "execution_count": null,
   "id": "fb307e07-a4d1-4fe4-acd3-6879568228b3",
   "metadata": {
    "tags": []
   },
   "outputs": [],
   "source": []
  },
  {
   "cell_type": "code",
   "execution_count": null,
   "id": "b260a6cc-61cf-42a8-a056-de8b63e52660",
   "metadata": {},
   "outputs": [],
   "source": []
  },
  {
   "cell_type": "code",
   "execution_count": null,
   "id": "9d24e701-496f-4d98-9361-f01030bd5a4f",
   "metadata": {},
   "outputs": [],
   "source": []
  },
  {
   "cell_type": "code",
   "execution_count": null,
   "id": "1f6cd5cc-47e6-4467-afe0-429f89cf1e30",
   "metadata": {},
   "outputs": [],
   "source": []
  },
  {
   "cell_type": "code",
   "execution_count": null,
   "id": "164eb00a-9f32-48ff-b95e-72d8574d96f0",
   "metadata": {},
   "outputs": [],
   "source": []
  },
  {
   "cell_type": "code",
   "execution_count": null,
   "id": "7f886a7a-4250-4c8c-93dc-44f707717c50",
   "metadata": {},
   "outputs": [],
   "source": []
  }
 ],
 "metadata": {
  "kernelspec": {
   "display_name": "Python 3 (ipykernel)",
   "language": "python",
   "name": "python3"
  },
  "language_info": {
   "codemirror_mode": {
    "name": "ipython",
    "version": 3
   },
   "file_extension": ".py",
   "mimetype": "text/x-python",
   "name": "python",
   "nbconvert_exporter": "python",
   "pygments_lexer": "ipython3",
   "version": "3.9.15"
  },
  "widgets": {
   "application/vnd.jupyter.widget-state+json": {
    "state": {},
    "version_major": 2,
    "version_minor": 0
   }
  }
 },
 "nbformat": 4,
 "nbformat_minor": 5
}
