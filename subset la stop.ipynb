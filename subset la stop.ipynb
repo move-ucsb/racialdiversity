{
 "cells": [
  {
   "cell_type": "code",
   "execution_count": 3,
   "id": "ff8ec285-0048-4998-be8f-7a3fc9030866",
   "metadata": {
    "tags": []
   },
   "outputs": [],
   "source": [
    "#install pacakges once and for all\n",
    "!pip install pyhive pydeck python-geohash pyquadkey2 h3 shapely==1.8 keplergl seaborn --user -q -q"
   ]
  },
  {
   "cell_type": "code",
   "execution_count": 3,
   "id": "049c7c7f-351c-487c-987e-e0f331478c88",
   "metadata": {},
   "outputs": [
    {
     "name": "stdout",
     "output_type": "stream",
     "text": [
      "Requirement already satisfied: pyhive in /home/jovyan/.local/lib/python3.9/site-packages (0.6.5)\n",
      "Requirement already satisfied: pydeck in /home/jovyan/.local/lib/python3.9/site-packages (0.8.0)\n",
      "Requirement already satisfied: python-dateutil in /srv/conda/envs/notebook/lib/python3.9/site-packages (from pyhive) (2.8.2)\n",
      "Requirement already satisfied: future in /home/jovyan/.local/lib/python3.9/site-packages (from pyhive) (0.18.3)\n",
      "Requirement already satisfied: jinja2>=2.10.1 in /srv/conda/envs/notebook/lib/python3.9/site-packages (from pydeck) (3.1.2)\n",
      "Requirement already satisfied: numpy>=1.16.4 in /srv/conda/envs/notebook/lib/python3.9/site-packages (from pydeck) (1.23.5)\n",
      "Requirement already satisfied: MarkupSafe>=2.0 in /srv/conda/envs/notebook/lib/python3.9/site-packages (from jinja2>=2.10.1->pydeck) (2.1.1)\n",
      "Requirement already satisfied: six>=1.5 in /srv/conda/envs/notebook/lib/python3.9/site-packages (from python-dateutil->pyhive) (1.16.0)\n"
     ]
    }
   ],
   "source": [
    "%reload_ext sql\n",
    "%config SqlMagic.autocommit=False\n",
    "%config SqlMagic.autolimit=0\n",
    "%config SqlMagic.autopandas=True\n",
    "%config SqlMagic.displaylimit=200\n",
    "%sql trino://localhost:9090/cuebiq/"
   ]
  },
  {
   "cell_type": "code",
   "execution_count": 4,
   "id": "f3c437e5-6c90-457f-8d36-ced599f8c8b0",
   "metadata": {},
   "outputs": [],
   "source": [
    "import yaml\n",
    "import numpy as np\n",
    "import pandas as pd\n",
    "import matplotlib.pyplot as plt\n",
    "import matplotlib.cm as cm\n",
    "from datetime import datetime, timedelta\n",
    "from keplergl import KeplerGl\n",
    "import os\n",
    "from pyhive import trino\n",
    "import pydeck as pdk\n",
    "os.environ['MAPBOX_API_KEY'] = \"INSERT YOUR MAPBOX TOKEN HERE\""
   ]
  },
  {
   "cell_type": "code",
   "execution_count": 5,
   "id": "767c356b-24eb-4049-97e1-a916a34ae1e6",
   "metadata": {},
   "outputs": [],
   "source": [
    "# SQL engine\n",
    "from trino.dbapi import connect \n",
    "from sqlalchemy import create_engine\n",
    "\n",
    "class TrinoEngine():\n",
    "    def __init__(self):\n",
    "        conn = connect(\n",
    "            host=\"localhost\",\n",
    "            port=9090,\n",
    "            catalog=\"cuebiq\"\n",
    "        )\n",
    "        self.cur = conn.cursor()\n",
    "        self.engine = create_engine(\"trino://localhost:9090/cuebiq/\")\n",
    "    \n",
    "    def execute_statement(self, query:str) -> list:\n",
    "        \"\"\"\n",
    "        Create and drop statements.\n",
    "        \"\"\"\n",
    "        self.cur.execute(query)\n",
    "        return self.cur.fetchall()\n",
    "    \n",
    "    def read_sql(self, query:str) -> pd.DataFrame: \n",
    "        \"\"\"\n",
    "        Select and insert into operations.\n",
    "        \"\"\"\n",
    "        return pd.read_sql(query, self.engine)\n",
    "\n",
    "sql_engine = TrinoEngine()"
   ]
  },
  {
   "cell_type": "code",
   "execution_count": 4,
   "id": "4308af12-9a3c-4d44-8382-3154619a0f96",
   "metadata": {},
   "outputs": [
    {
     "name": "stdout",
     "output_type": "stream",
     "text": [
      " * trino://localhost:9090/cuebiq/\n",
      "Done.\n"
     ]
    },
    {
     "data": {
      "text/html": [
       "<div>\n",
       "<style scoped>\n",
       "    .dataframe tbody tr th:only-of-type {\n",
       "        vertical-align: middle;\n",
       "    }\n",
       "\n",
       "    .dataframe tbody tr th {\n",
       "        vertical-align: top;\n",
       "    }\n",
       "\n",
       "    .dataframe thead th {\n",
       "        text-align: right;\n",
       "    }\n",
       "</style>\n",
       "<table border=\"1\" class=\"dataframe\">\n",
       "  <thead>\n",
       "    <tr style=\"text-align: right;\">\n",
       "      <th></th>\n",
       "      <th>Catalog</th>\n",
       "    </tr>\n",
       "  </thead>\n",
       "  <tbody>\n",
       "    <tr>\n",
       "      <th>0</th>\n",
       "      <td>cuebiq</td>\n",
       "    </tr>\n",
       "    <tr>\n",
       "      <th>1</th>\n",
       "      <td>dedicated</td>\n",
       "    </tr>\n",
       "  </tbody>\n",
       "</table>\n",
       "</div>"
      ],
      "text/plain": [
       "     Catalog\n",
       "0     cuebiq\n",
       "1  dedicated"
      ]
     },
     "execution_count": 4,
     "metadata": {},
     "output_type": "execute_result"
    }
   ],
   "source": [
    "%%sql\n",
    "show catalogs"
   ]
  },
  {
   "cell_type": "code",
   "execution_count": 5,
   "id": "a0458854-74bd-4001-9fdd-7ab41a033304",
   "metadata": {},
   "outputs": [
    {
     "name": "stdout",
     "output_type": "stream",
     "text": [
      " * trino://localhost:9090/cuebiq/\n",
      "Done.\n"
     ]
    },
    {
     "data": {
      "text/html": [
       "<div>\n",
       "<style scoped>\n",
       "    .dataframe tbody tr th:only-of-type {\n",
       "        vertical-align: middle;\n",
       "    }\n",
       "\n",
       "    .dataframe tbody tr th {\n",
       "        vertical-align: top;\n",
       "    }\n",
       "\n",
       "    .dataframe thead th {\n",
       "        text-align: right;\n",
       "    }\n",
       "</style>\n",
       "<table border=\"1\" class=\"dataframe\">\n",
       "  <thead>\n",
       "    <tr style=\"text-align: right;\">\n",
       "      <th></th>\n",
       "      <th>Schema</th>\n",
       "    </tr>\n",
       "  </thead>\n",
       "  <tbody>\n",
       "    <tr>\n",
       "      <th>0</th>\n",
       "      <td>paas_cda_pe_v3</td>\n",
       "    </tr>\n",
       "    <tr>\n",
       "      <th>1</th>\n",
       "      <td>paas_public_data</td>\n",
       "    </tr>\n",
       "    <tr>\n",
       "      <th>2</th>\n",
       "      <td>vehicle_v1</td>\n",
       "    </tr>\n",
       "  </tbody>\n",
       "</table>\n",
       "</div>"
      ],
      "text/plain": [
       "             Schema\n",
       "0    paas_cda_pe_v3\n",
       "1  paas_public_data\n",
       "2        vehicle_v1"
      ]
     },
     "execution_count": 5,
     "metadata": {},
     "output_type": "execute_result"
    }
   ],
   "source": [
    "%%sql\n",
    "show schemas from cuebiq"
   ]
  },
  {
   "cell_type": "code",
   "execution_count": 18,
   "id": "f5ae127e-13f1-4687-9121-2b4fc1b940f0",
   "metadata": {},
   "outputs": [
    {
     "name": "stdout",
     "output_type": "stream",
     "text": [
      " * trino://localhost:9090/cuebiq/\n",
      "Done.\n"
     ]
    },
    {
     "data": {
      "text/html": [
       "<div>\n",
       "<style scoped>\n",
       "    .dataframe tbody tr th:only-of-type {\n",
       "        vertical-align: middle;\n",
       "    }\n",
       "\n",
       "    .dataframe tbody tr th {\n",
       "        vertical-align: top;\n",
       "    }\n",
       "\n",
       "    .dataframe thead th {\n",
       "        text-align: right;\n",
       "    }\n",
       "</style>\n",
       "<table border=\"1\" class=\"dataframe\">\n",
       "  <thead>\n",
       "    <tr style=\"text-align: right;\">\n",
       "      <th></th>\n",
       "      <th>Table</th>\n",
       "    </tr>\n",
       "  </thead>\n",
       "  <tbody>\n",
       "    <tr>\n",
       "      <th>0</th>\n",
       "      <td>census_data</td>\n",
       "    </tr>\n",
       "    <tr>\n",
       "      <th>1</th>\n",
       "      <td>census_taxonomy</td>\n",
       "    </tr>\n",
       "    <tr>\n",
       "      <th>2</th>\n",
       "      <td>us_census_tiger_place</td>\n",
       "    </tr>\n",
       "  </tbody>\n",
       "</table>\n",
       "</div>"
      ],
      "text/plain": [
       "                   Table\n",
       "0            census_data\n",
       "1        census_taxonomy\n",
       "2  us_census_tiger_place"
      ]
     },
     "execution_count": 18,
     "metadata": {},
     "output_type": "execute_result"
    }
   ],
   "source": [
    "%sql show tables from cuebiq.paas_public_data"
   ]
  },
  {
   "cell_type": "code",
   "execution_count": 17,
   "id": "c3d1f0b4-83a8-47ca-8fec-7055d70f4c72",
   "metadata": {},
   "outputs": [
    {
     "name": "stdout",
     "output_type": "stream",
     "text": [
      " * trino://localhost:9090/cuebiq/\n",
      "Done.\n"
     ]
    },
    {
     "data": {
      "text/html": [
       "<div>\n",
       "<style scoped>\n",
       "    .dataframe tbody tr th:only-of-type {\n",
       "        vertical-align: middle;\n",
       "    }\n",
       "\n",
       "    .dataframe tbody tr th {\n",
       "        vertical-align: top;\n",
       "    }\n",
       "\n",
       "    .dataframe thead th {\n",
       "        text-align: right;\n",
       "    }\n",
       "</style>\n",
       "<table border=\"1\" class=\"dataframe\">\n",
       "  <thead>\n",
       "    <tr style=\"text-align: right;\">\n",
       "      <th></th>\n",
       "      <th>Table</th>\n",
       "    </tr>\n",
       "  </thead>\n",
       "  <tbody>\n",
       "    <tr>\n",
       "      <th>0</th>\n",
       "      <td>brand</td>\n",
       "    </tr>\n",
       "    <tr>\n",
       "      <th>1</th>\n",
       "      <td>cbsa</td>\n",
       "    </tr>\n",
       "    <tr>\n",
       "      <th>2</th>\n",
       "      <td>custom_poi</td>\n",
       "    </tr>\n",
       "    <tr>\n",
       "      <th>3</th>\n",
       "      <td>custom_poi_history</td>\n",
       "    </tr>\n",
       "    <tr>\n",
       "      <th>4</th>\n",
       "      <td>device_location_uplevelled</td>\n",
       "    </tr>\n",
       "    <tr>\n",
       "      <th>5</th>\n",
       "      <td>device_metrics_uplevelled</td>\n",
       "    </tr>\n",
       "    <tr>\n",
       "      <th>6</th>\n",
       "      <td>device_recurring_area</td>\n",
       "    </tr>\n",
       "    <tr>\n",
       "      <th>7</th>\n",
       "      <td>device_user_labeling</td>\n",
       "    </tr>\n",
       "    <tr>\n",
       "      <th>8</th>\n",
       "      <td>geography_registry</td>\n",
       "    </tr>\n",
       "    <tr>\n",
       "      <th>9</th>\n",
       "      <td>poi</td>\n",
       "    </tr>\n",
       "    <tr>\n",
       "      <th>10</th>\n",
       "      <td>poi_history</td>\n",
       "    </tr>\n",
       "    <tr>\n",
       "      <th>11</th>\n",
       "      <td>segment_taxonomy</td>\n",
       "    </tr>\n",
       "    <tr>\n",
       "      <th>12</th>\n",
       "      <td>stop_uplevelled</td>\n",
       "    </tr>\n",
       "    <tr>\n",
       "      <th>13</th>\n",
       "      <td>stoppers_hll_by_geohash</td>\n",
       "    </tr>\n",
       "    <tr>\n",
       "      <th>14</th>\n",
       "      <td>trajectory</td>\n",
       "    </tr>\n",
       "    <tr>\n",
       "      <th>15</th>\n",
       "      <td>trajectory_uplevelled</td>\n",
       "    </tr>\n",
       "    <tr>\n",
       "      <th>16</th>\n",
       "      <td>visit</td>\n",
       "    </tr>\n",
       "  </tbody>\n",
       "</table>\n",
       "</div>"
      ],
      "text/plain": [
       "                         Table\n",
       "0                        brand\n",
       "1                         cbsa\n",
       "2                   custom_poi\n",
       "3           custom_poi_history\n",
       "4   device_location_uplevelled\n",
       "5    device_metrics_uplevelled\n",
       "6        device_recurring_area\n",
       "7         device_user_labeling\n",
       "8           geography_registry\n",
       "9                          poi\n",
       "10                 poi_history\n",
       "11            segment_taxonomy\n",
       "12             stop_uplevelled\n",
       "13     stoppers_hll_by_geohash\n",
       "14                  trajectory\n",
       "15       trajectory_uplevelled\n",
       "16                       visit"
      ]
     },
     "execution_count": 17,
     "metadata": {},
     "output_type": "execute_result"
    }
   ],
   "source": [
    "%sql show tables from cuebiq.paas_cda_pe_v3\n",
    "# %sql show tables from dedicated.rsu"
   ]
  },
  {
   "cell_type": "code",
   "execution_count": 7,
   "id": "3fba0ab5-b184-4976-bcf2-242b3f22b307",
   "metadata": {},
   "outputs": [
    {
     "data": {
      "text/html": [
       "<div>\n",
       "<style scoped>\n",
       "    .dataframe tbody tr th:only-of-type {\n",
       "        vertical-align: middle;\n",
       "    }\n",
       "\n",
       "    .dataframe tbody tr th {\n",
       "        vertical-align: top;\n",
       "    }\n",
       "\n",
       "    .dataframe thead th {\n",
       "        text-align: right;\n",
       "    }\n",
       "</style>\n",
       "<table border=\"1\" class=\"dataframe\">\n",
       "  <thead>\n",
       "    <tr style=\"text-align: right;\">\n",
       "      <th></th>\n",
       "      <th>Column</th>\n",
       "      <th>Type</th>\n",
       "      <th>Extra</th>\n",
       "      <th>Comment</th>\n",
       "    </tr>\n",
       "  </thead>\n",
       "  <tbody>\n",
       "    <tr>\n",
       "      <th>0</th>\n",
       "      <td>statefp</td>\n",
       "      <td>varchar</td>\n",
       "      <td></td>\n",
       "      <td></td>\n",
       "    </tr>\n",
       "    <tr>\n",
       "      <th>1</th>\n",
       "      <td>placefp</td>\n",
       "      <td>varchar</td>\n",
       "      <td></td>\n",
       "      <td></td>\n",
       "    </tr>\n",
       "    <tr>\n",
       "      <th>2</th>\n",
       "      <td>placens</td>\n",
       "      <td>varchar</td>\n",
       "      <td></td>\n",
       "      <td></td>\n",
       "    </tr>\n",
       "    <tr>\n",
       "      <th>3</th>\n",
       "      <td>geoid</td>\n",
       "      <td>varchar</td>\n",
       "      <td></td>\n",
       "      <td></td>\n",
       "    </tr>\n",
       "    <tr>\n",
       "      <th>4</th>\n",
       "      <td>name</td>\n",
       "      <td>varchar</td>\n",
       "      <td></td>\n",
       "      <td></td>\n",
       "    </tr>\n",
       "    <tr>\n",
       "      <th>5</th>\n",
       "      <td>namelsad</td>\n",
       "      <td>varchar</td>\n",
       "      <td></td>\n",
       "      <td></td>\n",
       "    </tr>\n",
       "    <tr>\n",
       "      <th>6</th>\n",
       "      <td>lsad</td>\n",
       "      <td>varchar</td>\n",
       "      <td></td>\n",
       "      <td></td>\n",
       "    </tr>\n",
       "    <tr>\n",
       "      <th>7</th>\n",
       "      <td>classfp</td>\n",
       "      <td>varchar</td>\n",
       "      <td></td>\n",
       "      <td></td>\n",
       "    </tr>\n",
       "    <tr>\n",
       "      <th>8</th>\n",
       "      <td>pcicbsa</td>\n",
       "      <td>varchar</td>\n",
       "      <td></td>\n",
       "      <td></td>\n",
       "    </tr>\n",
       "    <tr>\n",
       "      <th>9</th>\n",
       "      <td>pcinecta</td>\n",
       "      <td>varchar</td>\n",
       "      <td></td>\n",
       "      <td></td>\n",
       "    </tr>\n",
       "    <tr>\n",
       "      <th>10</th>\n",
       "      <td>mtfcc</td>\n",
       "      <td>varchar</td>\n",
       "      <td></td>\n",
       "      <td></td>\n",
       "    </tr>\n",
       "    <tr>\n",
       "      <th>11</th>\n",
       "      <td>funcstat</td>\n",
       "      <td>varchar</td>\n",
       "      <td></td>\n",
       "      <td></td>\n",
       "    </tr>\n",
       "    <tr>\n",
       "      <th>12</th>\n",
       "      <td>aland</td>\n",
       "      <td>bigint</td>\n",
       "      <td></td>\n",
       "      <td></td>\n",
       "    </tr>\n",
       "    <tr>\n",
       "      <th>13</th>\n",
       "      <td>awater</td>\n",
       "      <td>bigint</td>\n",
       "      <td></td>\n",
       "      <td></td>\n",
       "    </tr>\n",
       "    <tr>\n",
       "      <th>14</th>\n",
       "      <td>intptlat</td>\n",
       "      <td>varchar</td>\n",
       "      <td></td>\n",
       "      <td></td>\n",
       "    </tr>\n",
       "    <tr>\n",
       "      <th>15</th>\n",
       "      <td>intptlon</td>\n",
       "      <td>varchar</td>\n",
       "      <td></td>\n",
       "      <td></td>\n",
       "    </tr>\n",
       "    <tr>\n",
       "      <th>16</th>\n",
       "      <td>geometry_wkt</td>\n",
       "      <td>varchar</td>\n",
       "      <td></td>\n",
       "      <td></td>\n",
       "    </tr>\n",
       "    <tr>\n",
       "      <th>17</th>\n",
       "      <td>census_tiger_product</td>\n",
       "      <td>varchar</td>\n",
       "      <td></td>\n",
       "      <td></td>\n",
       "    </tr>\n",
       "    <tr>\n",
       "      <th>18</th>\n",
       "      <td>census_tiger_year</td>\n",
       "      <td>varchar</td>\n",
       "      <td></td>\n",
       "      <td></td>\n",
       "    </tr>\n",
       "    <tr>\n",
       "      <th>19</th>\n",
       "      <td>admin1_id</td>\n",
       "      <td>varchar</td>\n",
       "      <td></td>\n",
       "      <td></td>\n",
       "    </tr>\n",
       "  </tbody>\n",
       "</table>\n",
       "</div>"
      ],
      "text/plain": [
       "                  Column     Type Extra Comment\n",
       "0                statefp  varchar              \n",
       "1                placefp  varchar              \n",
       "2                placens  varchar              \n",
       "3                  geoid  varchar              \n",
       "4                   name  varchar              \n",
       "5               namelsad  varchar              \n",
       "6                   lsad  varchar              \n",
       "7                classfp  varchar              \n",
       "8                pcicbsa  varchar              \n",
       "9               pcinecta  varchar              \n",
       "10                 mtfcc  varchar              \n",
       "11              funcstat  varchar              \n",
       "12                 aland   bigint              \n",
       "13                awater   bigint              \n",
       "14              intptlat  varchar              \n",
       "15              intptlon  varchar              \n",
       "16          geometry_wkt  varchar              \n",
       "17  census_tiger_product  varchar              \n",
       "18     census_tiger_year  varchar              \n",
       "19             admin1_id  varchar              "
      ]
     },
     "execution_count": 8,
     "metadata": {},
     "output_type": "execute_result"
    }
   ],
   "source": [
    "sql_engine.read_sql(f\"desc cuebiq.paas_public_data.census_taxonomy\")"
   ]
  },
  {
   "cell_type": "code",
   "execution_count": 7,
   "id": "d8cdabd9-3874-4c38-ac1a-e153223b91f0",
   "metadata": {},
   "outputs": [],
   "source": [
    "schema_name = {'cda': 'cuebiq.paas_cda_pe_v3'}\n",
    "stop_table = f\"{schema_name['cda']}.stop_uplevelled\"\n",
    "newtable_name = f\"dedicated.rsu.la_stop_uplevelled\""
   ]
  },
  {
   "cell_type": "code",
   "execution_count": 10,
   "id": "ec7c4e8c-2edd-4e76-ac11-867c5eba4de3",
   "metadata": {},
   "outputs": [
    {
     "name": "stdout",
     "output_type": "stream",
     "text": [
      " * trino://localhost:9090/cuebiq/\n",
      "0 rows affected.\n"
     ]
    },
    {
     "data": {
      "text/html": [
       "<div>\n",
       "<style scoped>\n",
       "    .dataframe tbody tr th:only-of-type {\n",
       "        vertical-align: middle;\n",
       "    }\n",
       "\n",
       "    .dataframe tbody tr th {\n",
       "        vertical-align: top;\n",
       "    }\n",
       "\n",
       "    .dataframe thead th {\n",
       "        text-align: right;\n",
       "    }\n",
       "</style>\n",
       "<table border=\"1\" class=\"dataframe\">\n",
       "  <thead>\n",
       "    <tr style=\"text-align: right;\">\n",
       "      <th></th>\n",
       "      <th>rows</th>\n",
       "    </tr>\n",
       "  </thead>\n",
       "  <tbody>\n",
       "    <tr>\n",
       "      <th>0</th>\n",
       "      <td>0</td>\n",
       "    </tr>\n",
       "  </tbody>\n",
       "</table>\n",
       "</div>"
      ],
      "text/plain": [
       "   rows\n",
       "0     0"
      ]
     },
     "execution_count": 10,
     "metadata": {},
     "output_type": "execute_result"
    }
   ],
   "source": [
    "# %sql create table if not exists $newtable_name as select * from {stop_table} WITH NO DATA"
   ]
  },
  {
   "cell_type": "code",
   "execution_count": 8,
   "id": "a0d1a219-565e-4682-837b-f6a716701b78",
   "metadata": {},
   "outputs": [
    {
     "name": "stdout",
     "output_type": "stream",
     "text": [
      " * trino://localhost:9090/cuebiq/\n",
      "Done.\n"
     ]
    },
    {
     "data": {
      "text/html": [
       "<div>\n",
       "<style scoped>\n",
       "    .dataframe tbody tr th:only-of-type {\n",
       "        vertical-align: middle;\n",
       "    }\n",
       "\n",
       "    .dataframe tbody tr th {\n",
       "        vertical-align: top;\n",
       "    }\n",
       "\n",
       "    .dataframe thead th {\n",
       "        text-align: right;\n",
       "    }\n",
       "</style>\n",
       "<table border=\"1\" class=\"dataframe\">\n",
       "  <thead>\n",
       "    <tr style=\"text-align: right;\">\n",
       "      <th></th>\n",
       "      <th>Table</th>\n",
       "    </tr>\n",
       "  </thead>\n",
       "  <tbody>\n",
       "    <tr>\n",
       "      <th>0</th>\n",
       "      <td>la_stop_uplevelled</td>\n",
       "    </tr>\n",
       "    <tr>\n",
       "      <th>1</th>\n",
       "      <td>new_table_demo</td>\n",
       "    </tr>\n",
       "  </tbody>\n",
       "</table>\n",
       "</div>"
      ],
      "text/plain": [
       "                Table\n",
       "0  la_stop_uplevelled\n",
       "1      new_table_demo"
      ]
     },
     "execution_count": 8,
     "metadata": {},
     "output_type": "execute_result"
    }
   ],
   "source": [
    "%sql show tables from dedicated.rsu"
   ]
  },
  {
   "cell_type": "markdown",
   "id": "5a445a91-d71b-4e2d-872f-ce4c452b6503",
   "metadata": {},
   "source": [
    "# Select a specific date and subset stop table and write to a new table"
   ]
  },
  {
   "cell_type": "code",
   "execution_count": 9,
   "id": "fafa1118-228f-4b25-960e-a052f82d69c1",
   "metadata": {},
   "outputs": [],
   "source": [
    "date = 20220310 # Thursday: According to Toger et al. (2020) , Thursday is the most “regular” weekday with the lowest variance in human mobility behaviour, compared to other days of the week.\n",
    "date_formated = datetime.strptime(str(date), \"%Y%m%d\").strftime(\"%Y-%m-%d\")\n",
    "date_plus = int((datetime.strptime(str(date), \"%Y%m%d\") + timedelta(days=3)).strftime(\"%Y%m%d\"))# You see that we can limit to the first three processing dates starting from the local date of interest.\n",
    "\n",
    "la_stop_query = f\"\"\"\n",
    "    select * \n",
    "    from {stop_table}\n",
    "    where \n",
    "        country_code = 'US'\n",
    "        and admin2_id = 'US.CA.037'\n",
    "        and provider_id = '190199'\n",
    "        and processing_date between {date} and {date_plus}\n",
    "        and substr(stop_zoned_datetime,1,10) = '{date_formated}'\n",
    "    \"\"\""
   ]
  },
  {
   "cell_type": "code",
   "execution_count": 10,
   "id": "f86d92e2-8d1d-44d0-8e97-d0edde8a00d1",
   "metadata": {},
   "outputs": [
    {
     "name": "stdout",
     "output_type": "stream",
     "text": [
      " * trino://localhost:9090/cuebiq/\n",
      "1202870 rows affected.\n"
     ]
    },
    {
     "data": {
      "text/html": [
       "<div>\n",
       "<style scoped>\n",
       "    .dataframe tbody tr th:only-of-type {\n",
       "        vertical-align: middle;\n",
       "    }\n",
       "\n",
       "    .dataframe tbody tr th {\n",
       "        vertical-align: top;\n",
       "    }\n",
       "\n",
       "    .dataframe thead th {\n",
       "        text-align: right;\n",
       "    }\n",
       "</style>\n",
       "<table border=\"1\" class=\"dataframe\">\n",
       "  <thead>\n",
       "    <tr style=\"text-align: right;\">\n",
       "      <th></th>\n",
       "      <th>rows</th>\n",
       "    </tr>\n",
       "  </thead>\n",
       "  <tbody>\n",
       "    <tr>\n",
       "      <th>0</th>\n",
       "      <td>1202870</td>\n",
       "    </tr>\n",
       "  </tbody>\n",
       "</table>\n",
       "</div>"
      ],
      "text/plain": [
       "      rows\n",
       "0  1202870"
      ]
     },
     "execution_count": 10,
     "metadata": {},
     "output_type": "execute_result"
    }
   ],
   "source": [
    "%%time\n",
    "%sql insert into $newtable_name ($la_stop_query)"
   ]
  },
  {
   "cell_type": "code",
   "execution_count": 12,
   "id": "712e82c3-3c40-4f35-9b29-8f63294084de",
   "metadata": {},
   "outputs": [
    {
     "name": "stdout",
     "output_type": "stream",
     "text": [
      " * trino://localhost:9090/cuebiq/\n",
      "Done.\n"
     ]
    },
    {
     "data": {
      "text/html": [
       "<div>\n",
       "<style scoped>\n",
       "    .dataframe tbody tr th:only-of-type {\n",
       "        vertical-align: middle;\n",
       "    }\n",
       "\n",
       "    .dataframe tbody tr th {\n",
       "        vertical-align: top;\n",
       "    }\n",
       "\n",
       "    .dataframe thead th {\n",
       "        text-align: right;\n",
       "    }\n",
       "</style>\n",
       "<table border=\"1\" class=\"dataframe\">\n",
       "  <thead>\n",
       "    <tr style=\"text-align: right;\">\n",
       "      <th></th>\n",
       "      <th>_col0</th>\n",
       "    </tr>\n",
       "  </thead>\n",
       "  <tbody>\n",
       "    <tr>\n",
       "      <th>0</th>\n",
       "      <td>2355148</td>\n",
       "    </tr>\n",
       "  </tbody>\n",
       "</table>\n",
       "</div>"
      ],
      "text/plain": [
       "     _col0\n",
       "0  2355148"
      ]
     },
     "execution_count": 12,
     "metadata": {},
     "output_type": "execute_result"
    }
   ],
   "source": [
    "%sql SELECT COUNT(*) FROM $newtable_name "
   ]
  },
  {
   "cell_type": "code",
   "execution_count": 15,
   "id": "67b9ea31-fce0-418c-a122-b1af369eba85",
   "metadata": {},
   "outputs": [
    {
     "name": "stdout",
     "output_type": "stream",
     "text": [
      "CPU times: user 157 ms, sys: 28.1 ms, total: 185 ms\n",
      "Wall time: 4.42 s\n"
     ]
    },
    {
     "data": {
      "text/plain": [
       "Text(0, 0.5, 'count')"
      ]
     },
     "execution_count": 15,
     "metadata": {},
     "output_type": "execute_result"
    },
    {
     "data": {
      "image/png": "[encoded data removed]",
      "text/plain": [
       "<Figure size 1300x500 with 1 Axes>"
      ]
     },
     "metadata": {},
     "output_type": "display_data"
    }
   ],
   "source": [
    "%%time\n",
    "\n",
    "df_by_hour = sql_engine.read_sql(\n",
    "    f\"\"\"\n",
    "    select \n",
    "        cast(hour(from_iso8601_timestamp(stop_zoned_datetime)) as int) as hour,\n",
    "        count(*) as cnt\n",
    "    from {newtable_name}\n",
    "    where \n",
    "        substr(stop_zoned_datetime,1,10) = '{date_formated}'\n",
    "    group by 1\n",
    "    order by 1\n",
    "    \"\"\"\n",
    ")\n",
    "\n",
    "plt.figure(figsize=(13,5))\n",
    "df_by_hour.set_index('hour').cnt.plot.bar(width=0.9)\n",
    "plt.xticks(rotation=0)\n",
    "plt.xlabel('starting hour')\n",
    "plt.ylabel('count');"
   ]
  },
  {
   "cell_type": "code",
   "execution_count": 16,
   "id": "ead7a9d9-016a-49ba-9ab9-55644ffea1bf",
   "metadata": {},
   "outputs": [
    {
     "data": {
      "image/png": "[encoded data removed]",
      "text/plain": [
       "<Figure size 1000x500 with 1 Axes>"
      ]
     },
     "metadata": {},
     "output_type": "display_data"
    }
   ],
   "source": [
    "df_by_dwell_time = sql_engine.read_sql(\n",
    "    f\"\"\"\n",
    "    select \n",
    "        count_if(dwell_time_minutes < 5) as \"< 5 minutes\",\n",
    "        count_if(dwell_time_minutes between 5 and 10-1) as \"5 minutes - 10 minutes\",\n",
    "        count_if(dwell_time_minutes between 10 and 60-1) as \"10 minutes - 1 hour\",\n",
    "        count_if(dwell_time_minutes between 60 and 60*6 - 1) as \"1 hour - 6 hours\",\n",
    "        count_if(dwell_time_minutes between 60*6 - 1 and 1440-1) as \"6 hours - 24 hours\",\n",
    "        count_if(dwell_time_minutes >= 1440) as \"> 24 hours\"\n",
    "    from {newtable_name}\n",
    "    where \n",
    "        substr(stop_zoned_datetime,1,10) = '{date_formated}'\n",
    "    \"\"\"\n",
    ").T[0]\n",
    "\n",
    "plt.figure(figsize=(10,5))\n",
    "(100 * df_by_dwell_time / df_by_dwell_time.sum()).plot.bar(width=0.9)\n",
    "\n",
    "# -- ticks and labels\n",
    "plt.xticks(rotation=45, fontsize=14, ha='right')\n",
    "plt.ylabel('% of stops', fontsize=14);\n",
    "plt.show()"
   ]
  },
  {
   "cell_type": "code",
   "execution_count": null,
   "id": "7ba2cfed-23dc-43f8-8e70-7b314d9730ad",
   "metadata": {},
   "outputs": [],
   "source": []
  },
  {
   "cell_type": "code",
   "execution_count": null,
   "id": "70808ac4-5ae1-4913-9eb6-350ed782203c",
   "metadata": {},
   "outputs": [],
   "source": []
  },
  {
   "cell_type": "code",
   "execution_count": null,
   "id": "c22c4621-1881-46ab-b4d0-f939410a07f2",
   "metadata": {},
   "outputs": [],
   "source": []
  },
  {
   "cell_type": "code",
   "execution_count": 32,
   "id": "0b5a72e3-7ace-477c-8b82-5af5e4dd74ff",
   "metadata": {},
   "outputs": [],
   "source": []
  },
  {
   "cell_type": "code",
   "execution_count": null,
   "id": "bdb04b3e-d9b7-4923-9e7b-796965895aee",
   "metadata": {},
   "outputs": [],
   "source": []
  },
  {
   "cell_type": "code",
   "execution_count": null,
   "id": "86a820d8-4707-4e8e-b04f-0f8f60aa63f2",
   "metadata": {},
   "outputs": [],
   "source": []
  },
  {
   "cell_type": "code",
   "execution_count": null,
   "id": "6b24103d-61f0-4361-8443-1d2161309894",
   "metadata": {},
   "outputs": [],
   "source": []
  },
  {
   "cell_type": "code",
   "execution_count": null,
   "id": "538ec317-8e7f-4820-ab8a-feb6538deb4d",
   "metadata": {},
   "outputs": [],
   "source": []
  },
  {
   "cell_type": "code",
   "execution_count": null,
   "id": "85f35acd-8b02-4448-b254-f795bd5bdd5f",
   "metadata": {},
   "outputs": [],
   "source": []
  },
  {
   "cell_type": "code",
   "execution_count": null,
   "id": "0565f938-89eb-436b-8002-52421ca4fe2d",
   "metadata": {},
   "outputs": [],
   "source": []
  }
 ],
 "metadata": {
  "kernelspec": {
   "display_name": "Python 3 (ipykernel)",
   "language": "python",
   "name": "python3"
  },
  "language_info": {
   "codemirror_mode": {
    "name": "ipython",
    "version": 3
   },
   "file_extension": ".py",
   "mimetype": "text/x-python",
   "name": "python",
   "nbconvert_exporter": "python",
   "pygments_lexer": "ipython3",
   "version": "3.9.15"
  },
  "widgets": {
   "application/vnd.jupyter.widget-state+json": {
    "state": {},
    "version_major": 2,
    "version_minor": 0
   }
  }
 },
 "nbformat": 4,
 "nbformat_minor": 5
}
