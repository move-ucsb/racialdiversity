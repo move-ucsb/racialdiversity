{
 "cells": [
  {
   "cell_type": "code",
   "execution_count": 1,
   "id": "217ffec8-ac33-4be1-aa36-e93d1a7a4689",
   "metadata": {},
   "outputs": [],
   "source": [
    "import pandas as pd\n",
    "import numpy as np\n",
    "import matplotlib.pyplot as plt\n",
    "import matplotlib.cm as cm\n",
    "import pickle\n",
    "import seaborn as sns\n",
    "import geopandas as gpd\n",
    "from scipy.stats import pearsonr\n",
    "from scipy import stats\n",
    "\n",
    "pd.set_option('display.max_colwidth', 0)\n",
    "pd.set_option('display.max_rows', 500)\n",
    "pd.set_option('display.max_columns', 500)\n",
    "pd.set_option('display.width', 1000)\n",
    "import warnings\n",
    "warnings.filterwarnings('ignore')"
   ]
  },
  {
   "cell_type": "code",
   "execution_count": 23,
   "id": "546a5e61-1ba4-48b1-9f3d-d1851a2ebdc2",
   "metadata": {},
   "outputs": [
    {
     "name": "stdout",
     "output_type": "stream",
     "text": [
      "23212\n",
      "23141\n"
     ]
    },
    {
     "data": {
      "text/html": [
       "<div>\n",
       "<style scoped>\n",
       "    .dataframe tbody tr th:only-of-type {\n",
       "        vertical-align: middle;\n",
       "    }\n",
       "\n",
       "    .dataframe tbody tr th {\n",
       "        vertical-align: top;\n",
       "    }\n",
       "\n",
       "    .dataframe thead th {\n",
       "        text-align: right;\n",
       "    }\n",
       "</style>\n",
       "<table border=\"1\" class=\"dataframe\">\n",
       "  <thead>\n",
       "    <tr style=\"text-align: right;\">\n",
       "      <th></th>\n",
       "      <th>place_id</th>\n",
       "      <th>home_scaled_entropy</th>\n",
       "      <th>home_class_dominant</th>\n",
       "    </tr>\n",
       "  </thead>\n",
       "  <tbody>\n",
       "    <tr>\n",
       "      <th>0</th>\n",
       "      <td>25609839</td>\n",
       "      <td>0.096533</td>\n",
       "      <td>R_HispanicLatinx_low diversity</td>\n",
       "    </tr>\n",
       "    <tr>\n",
       "      <th>1</th>\n",
       "      <td>31157976</td>\n",
       "      <td>0.096533</td>\n",
       "      <td>R_HispanicLatinx_low diversity</td>\n",
       "    </tr>\n",
       "    <tr>\n",
       "      <th>2</th>\n",
       "      <td>27287495</td>\n",
       "      <td>0.096533</td>\n",
       "      <td>R_HispanicLatinx_low diversity</td>\n",
       "    </tr>\n",
       "    <tr>\n",
       "      <th>3</th>\n",
       "      <td>25590381</td>\n",
       "      <td>0.472712</td>\n",
       "      <td>R_HispanicLatinx_moderate diversity</td>\n",
       "    </tr>\n",
       "    <tr>\n",
       "      <th>4</th>\n",
       "      <td>25105312</td>\n",
       "      <td>0.472712</td>\n",
       "      <td>R_HispanicLatinx_moderate diversity</td>\n",
       "    </tr>\n",
       "    <tr>\n",
       "      <th>...</th>\n",
       "      <td>...</td>\n",
       "      <td>...</td>\n",
       "      <td>...</td>\n",
       "    </tr>\n",
       "    <tr>\n",
       "      <th>61963</th>\n",
       "      <td>31930253</td>\n",
       "      <td>0.312969</td>\n",
       "      <td>R_HispanicLatinx_low diversity</td>\n",
       "    </tr>\n",
       "    <tr>\n",
       "      <th>61964</th>\n",
       "      <td>25292594</td>\n",
       "      <td>0.289936</td>\n",
       "      <td>R_HispanicLatinx_low diversity</td>\n",
       "    </tr>\n",
       "    <tr>\n",
       "      <th>61965</th>\n",
       "      <td>25499120</td>\n",
       "      <td>0.562175</td>\n",
       "      <td>R_HispanicLatinx_moderate diversity</td>\n",
       "    </tr>\n",
       "    <tr>\n",
       "      <th>61966</th>\n",
       "      <td>25538751</td>\n",
       "      <td>0.762543</td>\n",
       "      <td>high diversity</td>\n",
       "    </tr>\n",
       "    <tr>\n",
       "      <th>61967</th>\n",
       "      <td>25529367</td>\n",
       "      <td>0.750106</td>\n",
       "      <td>high diversity</td>\n",
       "    </tr>\n",
       "  </tbody>\n",
       "</table>\n",
       "<p>61968 rows × 3 columns</p>\n",
       "</div>"
      ],
      "text/plain": [
       "       place_id  home_scaled_entropy                  home_class_dominant\n",
       "0      25609839  0.096533             R_HispanicLatinx_low diversity     \n",
       "1      31157976  0.096533             R_HispanicLatinx_low diversity     \n",
       "2      27287495  0.096533             R_HispanicLatinx_low diversity     \n",
       "3      25590381  0.472712             R_HispanicLatinx_moderate diversity\n",
       "4      25105312  0.472712             R_HispanicLatinx_moderate diversity\n",
       "...         ...       ...                                             ...\n",
       "61963  31930253  0.312969             R_HispanicLatinx_low diversity     \n",
       "61964  25292594  0.289936             R_HispanicLatinx_low diversity     \n",
       "61965  25499120  0.562175             R_HispanicLatinx_moderate diversity\n",
       "61966  25538751  0.762543             high diversity                     \n",
       "61967  25529367  0.750106             high diversity                     \n",
       "\n",
       "[61968 rows x 3 columns]"
      ]
     },
     "execution_count": 23,
     "metadata": {},
     "output_type": "execute_result"
    }
   ],
   "source": [
    "home_diversity = pd.read_pickle(\"../output/CA_CBG_dominantRace.pkl\") #CBG level diversity\n",
    "print(home_diversity.shape[0])\n",
    "home_diversity = home_diversity[home_diversity['scaled_entropy'].notna()]\n",
    "print(home_diversity.shape[0])\n",
    "df_poi_CBG = pd.read_pickle('../output/LA_POI_belong_CBG.pkl') # each POI belongs to which CBG\n",
    "df_poi_CBG_merged = pd.merge(df_poi_CBG,home_diversity,on='block_group_id')\n",
    "df_poi_CBG_mergedneed = df_poi_CBG_merged[['place_id','scaled_entropy','class_dominant']]\n",
    "df_poi_CBG_mergedneed.rename(columns={'scaled_entropy': 'home_scaled_entropy','class_dominant':'home_class_dominant'}, inplace=True)\n",
    "df_poi_CBG_mergedneed # each POI's home based diversity"
   ]
  },
  {
   "cell_type": "markdown",
   "id": "9d28cf91-fc22-4e72-af72-e2c766e11202",
   "metadata": {},
   "source": [
    "# 1. Greater LA\n",
    "Only use the normalized entropy. Do not consider the one weighted by activity duration. "
   ]
  },
  {
   "cell_type": "code",
   "execution_count": 31,
   "id": "f6f80af8-2fe6-46fa-8b31-327d69294654",
   "metadata": {},
   "outputs": [
    {
     "name": "stdout",
     "output_type": "stream",
     "text": [
      "23888 28287 28330 22178\n"
     ]
    }
   ],
   "source": [
    "weekday = False #False True\n",
    "if weekday:\n",
    "    diversity_morning_GLA = pd.read_pickle(\"../output/onlyGreaterLAresidents/LA_POI_diversity_201903_weekday_morning.pkl\")  \n",
    "    diversity_noon_GLA = pd.read_pickle(\"../output/onlyGreaterLAresidents/LA_POI_diversity_201903_weekday_noon.pkl\")\n",
    "    diversity_afternoon_GLA = pd.read_pickle(\"../output/onlyGreaterLAresidents/LA_POI_diversity_201903_weekday_afternoon.pkl\")\n",
    "    diversity_evening_GLA = pd.read_pickle(\"../output/onlyGreaterLAresidents/LA_POI_diversity_201903_weekday_evening.pkl\")\n",
    "    print(diversity_morning_GLA.shape[0],diversity_noon_GLA.shape[0],diversity_afternoon_GLA.shape[0],diversity_evening_GLA.shape[0])\n",
    "    title = 'Weekday'\n",
    "else: #weekend\n",
    "    diversity_morning_GLA = pd.read_pickle(\"../output/onlyGreaterLAresidents/LA_POI_diversity_201903_weekend_morning.pkl\")  \n",
    "    diversity_noon_GLA = pd.read_pickle(\"../output/onlyGreaterLAresidents/LA_POI_diversity_201903_weekend_noon.pkl\")\n",
    "    diversity_afternoon_GLA = pd.read_pickle(\"../output/onlyGreaterLAresidents/LA_POI_diversity_201903_weekend_afternoon.pkl\")\n",
    "    diversity_evening_GLA = pd.read_pickle(\"../output/onlyGreaterLAresidents/LA_POI_diversity_201903_weekend_evening.pkl\")\n",
    "    print(diversity_morning_GLA.shape[0],diversity_noon_GLA.shape[0],diversity_afternoon_GLA.shape[0],diversity_evening_GLA.shape[0])\n",
    "    title = 'Weekend'"
   ]
  },
  {
   "cell_type": "code",
   "execution_count": 32,
   "id": "c0d1f267-16c7-4e04-8777-a9c5ae1c1e0b",
   "metadata": {},
   "outputs": [
    {
     "name": "stdout",
     "output_type": "stream",
     "text": [
      "***************\n",
      "count: 23888\n",
      "mean: 0.603\n",
      "std: 0.165\n",
      "***************\n",
      "count: 28287\n",
      "mean: 0.626\n",
      "std: 0.152\n",
      "***************\n",
      "count: 28330\n",
      "mean: 0.629\n",
      "std: 0.149\n",
      "***************\n",
      "count: 22178\n",
      "mean: 0.614\n",
      "std: 0.159\n"
     ]
    }
   ],
   "source": [
    "for item in [diversity_morning_GLA,diversity_noon_GLA,diversity_afternoon_GLA,diversity_evening_GLA]:\n",
    "    print('***************')\n",
    "    print('count:',item.shape[0])\n",
    "    print('mean:',round(item.scaled_entropy.mean(),3))\n",
    "    print('std:',round(item.scaled_entropy.std(),3))    "
   ]
  },
  {
   "cell_type": "markdown",
   "id": "b9d1744a-3bd7-429c-af7a-36ab7ee9e37c",
   "metadata": {},
   "source": [
    "# 2. Whole CA"
   ]
  },
  {
   "cell_type": "code",
   "execution_count": 33,
   "id": "9469bcfe-56e9-48f4-83c7-ac8306ab0338",
   "metadata": {},
   "outputs": [
    {
     "name": "stdout",
     "output_type": "stream",
     "text": [
      "24051 28393 28416 22288\n"
     ]
    }
   ],
   "source": [
    "weekday = False#False True\n",
    "if weekday:\n",
    "    diversity_morning = pd.read_pickle(\"../output/LA_POI_diversity_201903_weekday_morning.pkl\")  \n",
    "    diversity_noon = pd.read_pickle(\"../output/LA_POI_diversity_201903_weekday_noon.pkl\")\n",
    "    diversity_afternoon = pd.read_pickle(\"../output/LA_POI_diversity_201903_weekday_afternoon.pkl\")\n",
    "    diversity_evening = pd.read_pickle(\"../output/LA_POI_diversity_201903_weekday_evening.pkl\")\n",
    "    print(diversity_morning.shape[0],diversity_noon.shape[0],diversity_afternoon.shape[0],diversity_evening.shape[0])\n",
    "else: #weekend\n",
    "    diversity_morning = pd.read_pickle(\"../output/LA_POI_diversity_201903_weekend_morning.pkl\")  \n",
    "    diversity_noon = pd.read_pickle(\"../output/LA_POI_diversity_201903_weekend_noon.pkl\")\n",
    "    diversity_afternoon = pd.read_pickle(\"../output/LA_POI_diversity_201903_weekend_afternoon.pkl\")\n",
    "    diversity_evening = pd.read_pickle(\"../output/LA_POI_diversity_201903_weekend_evening.pkl\")\n",
    "    print(diversity_morning.shape[0],diversity_noon.shape[0],diversity_afternoon.shape[0],diversity_evening.shape[0])"
   ]
  },
  {
   "cell_type": "code",
   "execution_count": 34,
   "id": "c20a7323-e85f-49e6-8a5c-e0b5a8da11ad",
   "metadata": {},
   "outputs": [
    {
     "name": "stdout",
     "output_type": "stream",
     "text": [
      "***************\n",
      "count: 24051\n",
      "mean: 0.606\n",
      "std: 0.164\n",
      "***************\n",
      "count: 28393\n",
      "mean: 0.628\n",
      "std: 0.151\n",
      "***************\n",
      "count: 28416\n",
      "mean: 0.631\n",
      "std: 0.148\n",
      "***************\n",
      "count: 22288\n",
      "mean: 0.616\n",
      "std: 0.158\n"
     ]
    }
   ],
   "source": [
    "for item in [diversity_morning,diversity_noon,diversity_afternoon,diversity_evening]:\n",
    "    print('***************')\n",
    "    print('count:',item.shape[0])\n",
    "    print('mean:',round(item.scaled_entropy.mean(),3))\n",
    "    print('std:',round(item.scaled_entropy.std(),3))"
   ]
  },
  {
   "cell_type": "markdown",
   "id": "c87d9c73-4c46-42ff-b375-d2c9d9f83a2b",
   "metadata": {},
   "source": [
    "# Mann-Whitney U statistic\n",
    "Sample size of two groups varies"
   ]
  },
  {
   "cell_type": "code",
   "execution_count": 35,
   "id": "d1c6a351-fd1a-467e-b5c5-fd057d22fb6c",
   "metadata": {},
   "outputs": [
    {
     "name": "stdout",
     "output_type": "stream",
     "text": [
      "Mann-Whitney U statistic: 289894941.0\n",
      "p-value: 0.083\n",
      "Mann-Whitney U statistic: 405454274.0\n",
      "p-value: 0.046\n",
      "Mann-Whitney U statistic: 406234881.5\n",
      "p-value: 0.056\n",
      "Mann-Whitney U statistic: 249622395.0\n",
      "p-value: 0.068\n"
     ]
    }
   ],
   "source": [
    "from scipy.stats import mannwhitneyu\n",
    "\n",
    "# diversity_morning.scaled_entropy, diversity_morning_GLA.scaled_entropy\n",
    "# diversity_noon.scaled_entropy, diversity_noon_GLA.scaled_entropy\n",
    "# diversity_afternoon.scaled_entropy, diversity_afternoon_GLA.scaled_entropy\n",
    "# diversity_evening.scaled_entropy, diversity_evening_GLA.scaled_entropy\n",
    "\n",
    "CAlist = [diversity_morning.scaled_entropy,diversity_noon.scaled_entropy,diversity_afternoon.scaled_entropy,diversity_evening.scaled_entropy]\n",
    "GLAlist = [diversity_morning_GLA.scaled_entropy,diversity_noon_GLA.scaled_entropy,diversity_afternoon_GLA.scaled_entropy,diversity_evening_GLA.scaled_entropy]\n",
    "\n",
    "for i in range(0,len(CAlist)):\n",
    "    statistic, p_value = mannwhitneyu(CAlist[i], GLAlist[i])\n",
    "    # Print the test statistic and p-value\n",
    "    print(\"Mann-Whitney U statistic:\", statistic)\n",
    "    print(\"p-value:\", round(p_value,3))"
   ]
  },
  {
   "cell_type": "markdown",
   "id": "2e505962-cd50-4d39-905b-f89d17dadef5",
   "metadata": {
    "tags": []
   },
   "source": [
    "# The Wilcoxon signed-rank test test (no need to run below)\n",
    "Groups come from the same population. Paired test."
   ]
  },
  {
   "cell_type": "code",
   "execution_count": 65,
   "id": "7c30c01b-e404-43aa-89ca-aba10e466540",
   "metadata": {},
   "outputs": [
    {
     "name": "stdout",
     "output_type": "stream",
     "text": [
      "44384 44287 44287\n",
      "0.6327605820650889 0.6311564291880429\n",
      "WilcoxonResult(statistic=9468954.0, pvalue=6.811028491203887e-254)\n"
     ]
    },
    {
     "data": {
      "image/png": "[encoded data removed]",
      "text/plain": [
       "<Figure size 600x500 with 1 Axes>"
      ]
     },
     "metadata": {},
     "output_type": "display_data"
    }
   ],
   "source": [
    "df_merge1 = pd.merge(diversity_morning[['place_id','scaled_entropy']],diversity_morning_GLA[['place_id','scaled_entropy']],on='place_id')\n",
    "print(diversity_morning.shape[0], diversity_morning_GLA.shape[0], df_merge1.shape[0])\n",
    "print(df_merge1.scaled_entropy_x.mean(),df_merge1.scaled_entropy_y.mean())\n",
    "print(stats.wilcoxon(df_merge1.scaled_entropy_x, df_merge1.scaled_entropy_y))\n",
    "fig, ax = plt.subplots(figsize=(6,5))\n",
    "ax = sns.boxplot(data=df_merge1[['scaled_entropy_x','scaled_entropy_y']])\n",
    "plt.show()"
   ]
  },
  {
   "cell_type": "code",
   "execution_count": 66,
   "id": "ce0a0ec4-4248-4ba9-a3dd-dc0351ae7fac",
   "metadata": {},
   "outputs": [
    {
     "name": "stdout",
     "output_type": "stream",
     "text": [
      "46503 46425 46425\n",
      "0.6492164630952061 0.6472287904738719\n",
      "WilcoxonResult(statistic=19985540.0, pvalue=0.0)\n"
     ]
    },
    {
     "data": {
      "image/png": "[encoded data removed]",
      "text/plain": [
       "<Figure size 600x500 with 1 Axes>"
      ]
     },
     "metadata": {},
     "output_type": "display_data"
    }
   ],
   "source": [
    "df_merge1 = pd.merge(diversity_noon[['place_id','scaled_entropy']],diversity_noon_GLA[['place_id','scaled_entropy']],on='place_id')\n",
    "print(diversity_noon.shape[0], diversity_noon_GLA.shape[0], df_merge1.shape[0])\n",
    "print(df_merge1.scaled_entropy_x.mean(),df_merge1.scaled_entropy_y.mean())\n",
    "print(stats.wilcoxon(df_merge1.scaled_entropy_x, df_merge1.scaled_entropy_y))\n",
    "fig, ax = plt.subplots(figsize=(6,5))\n",
    "ax = sns.boxplot(data=df_merge1[['scaled_entropy_x','scaled_entropy_y']])\n",
    "plt.show()"
   ]
  },
  {
   "cell_type": "code",
   "execution_count": 67,
   "id": "dbed8a60-3298-48b8-965f-fe5ab944922a",
   "metadata": {},
   "outputs": [
    {
     "name": "stdout",
     "output_type": "stream",
     "text": [
      "46914 46844 46844\n",
      "0.6457550470246142 0.6437508868843679\n",
      "WilcoxonResult(statistic=23521575.0, pvalue=0.0)\n"
     ]
    },
    {
     "data": {
      "image/png": "[encoded data removed]",
      "text/plain": [
       "<Figure size 600x500 with 1 Axes>"
      ]
     },
     "metadata": {},
     "output_type": "display_data"
    }
   ],
   "source": [
    "df_merge1 = pd.merge(diversity_afternoon[['place_id','scaled_entropy']],diversity_afternoon_GLA[['place_id','scaled_entropy']],on='place_id')\n",
    "print(diversity_afternoon.shape[0], diversity_afternoon_GLA.shape[0], df_merge1.shape[0])\n",
    "print(df_merge1.scaled_entropy_x.mean(),df_merge1.scaled_entropy_y.mean())\n",
    "print(stats.wilcoxon(df_merge1.scaled_entropy_x, df_merge1.scaled_entropy_y))\n",
    "fig, ax = plt.subplots(figsize=(6,5))\n",
    "ax = sns.boxplot(data=df_merge1[['scaled_entropy_x','scaled_entropy_y']])\n",
    "plt.show()"
   ]
  },
  {
   "cell_type": "code",
   "execution_count": 68,
   "id": "cf844e42-9b4a-4019-8919-38b277d4bf29",
   "metadata": {},
   "outputs": [
    {
     "name": "stdout",
     "output_type": "stream",
     "text": [
      "41644 41512 41512\n",
      "0.6310616360614425 0.6290542256507899\n",
      "WilcoxonResult(statistic=13675382.0, pvalue=0.0)\n"
     ]
    },
    {
     "data": {
      "image/png": "[encoded data removed]",
      "text/plain": [
       "<Figure size 600x500 with 1 Axes>"
      ]
     },
     "metadata": {},
     "output_type": "display_data"
    }
   ],
   "source": [
    "df_merge1 = pd.merge(diversity_evening[['place_id','scaled_entropy']],diversity_evening_GLA[['place_id','scaled_entropy']],on='place_id')\n",
    "print(diversity_evening.shape[0], diversity_evening_GLA.shape[0], df_merge1.shape[0])\n",
    "print(df_merge1.scaled_entropy_x.mean(),df_merge1.scaled_entropy_y.mean())\n",
    "print(stats.wilcoxon(df_merge1.scaled_entropy_x, df_merge1.scaled_entropy_y))\n",
    "fig, ax = plt.subplots(figsize=(6,5))\n",
    "ax = sns.boxplot(data=df_merge1[['scaled_entropy_x','scaled_entropy_y']])\n",
    "plt.show()"
   ]
  },
  {
   "cell_type": "markdown",
   "id": "5e02f91c-7a5d-4287-990e-1a8962b4ab77",
   "metadata": {},
   "source": [
    "# No of POI visitors from Greater LA"
   ]
  },
  {
   "cell_type": "code",
   "execution_count": 18,
   "id": "0c2ae8ce-5b41-4b29-afca-f1d1339d50a3",
   "metadata": {},
   "outputs": [
    {
     "name": "stdout",
     "output_type": "stream",
     "text": [
      "751552\n",
      "751552\n"
     ]
    }
   ],
   "source": [
    "df_indi_home_loc_race = pd.read_pickle(\"./output/GreaterLA_Individual_race_composition.pkl\")\n",
    "print(df_indi_home_loc_race.shape[0]) # these are Greater LA local residents: 751552\n",
    "greaterLAid = df_indi_home_loc_race.cuebiq_id.unique().tolist()\n",
    "print(len(greaterLAid))"
   ]
  },
  {
   "cell_type": "code",
   "execution_count": 24,
   "id": "9f1485a5-0e12-4ce3-a65b-b254e8e1e2e3",
   "metadata": {},
   "outputs": [
    {
     "name": "stdout",
     "output_type": "stream",
     "text": [
      "20220301_20220308\n",
      "20220309_20220316\n",
      "20220317_20220323\n",
      "20220324_20220331\n",
      "348220 239447\n",
      "CPU times: user 9.72 s, sys: 3.12 s, total: 12.8 s\n",
      "Wall time: 12.8 s\n"
     ]
    }
   ],
   "source": [
    "%%time\n",
    "date = ['20220301_20220308','20220309_20220316','20220317_20220323','20220324_20220331']\n",
    "weekendays = [20220305,20220306,20220312,20220313,20220319,20220320,20220326,20220327]\n",
    "allvisit_pidlist, greaterLA_pidlist  = [], []\n",
    "\n",
    "weekday = False\n",
    "for d in date:\n",
    "    print(d)\n",
    "    df_visit_LA = pd.read_pickle(\"./output/LA_visit_with_poiCategory\"+str(d)+\".pkl\") # POI visits in LA\n",
    "    \n",
    "    if weekday:#1. select weekdays\n",
    "        df_visit_LA = df_visit_LA[~df_visit_LA.event_date.isin(weekendays)]        \n",
    "    else:#2. select weekends\n",
    "        df_visit_LA = df_visit_LA[df_visit_LA.event_date.isin(weekendays)] \n",
    "        \n",
    "    df_visit_LA = df_visit_LA[['cuebiq_id','place_id']]\n",
    "    allvisit_pidlist.extend(df_visit_LA.cuebiq_id.unique().tolist())\n",
    "    \n",
    "    df_visit_LA = df_visit_LA[df_visit_LA['cuebiq_id'].isin(greaterLAid)]\n",
    "    greaterLA_pidlist.extend(df_visit_LA.cuebiq_id.unique().tolist())\n",
    "\n",
    "print(len(set(allvisit_pidlist)),len(set(greaterLA_pidlist)))\n",
    "#weekend: 348220 239447 = 68.76%\n",
    "#weekday: 459880 287134 = 62.44%"
   ]
  },
  {
   "cell_type": "code",
   "execution_count": null,
   "id": "99ee594a-e01b-46c7-ac66-a2723dcea2fb",
   "metadata": {},
   "outputs": [],
   "source": []
  },
  {
   "cell_type": "code",
   "execution_count": null,
   "id": "b1ba5c34-a032-4580-9c7d-e1426ba5aa44",
   "metadata": {},
   "outputs": [],
   "source": []
  }
 ],
 "metadata": {
  "kernelspec": {
   "display_name": "Python 3 (ipykernel)",
   "language": "python",
   "name": "python3"
  },
  "language_info": {
   "codemirror_mode": {
    "name": "ipython",
    "version": 3
   },
   "file_extension": ".py",
   "mimetype": "text/x-python",
   "name": "python",
   "nbconvert_exporter": "python",
   "pygments_lexer": "ipython3",
   "version": "3.11.3"
  },
  "widgets": {
   "application/vnd.jupyter.widget-state+json": {
    "state": {},
    "version_major": 2,
    "version_minor": 0
   }
  }
 },
 "nbformat": 4,
 "nbformat_minor": 5
}
