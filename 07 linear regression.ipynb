{
 "cells": [
  {
   "cell_type": "code",
   "execution_count": 3,
   "id": "3ad7875e",
   "metadata": {},
   "outputs": [],
   "source": [
    "import pandas as pd\n",
    "import numpy as np\n",
    "import matplotlib.pyplot as plt\n",
    "import matplotlib.cm as cm\n",
    "import pickle\n",
    "import seaborn as sns\n",
    "import geopandas as gpd\n",
    "from scipy import stats\n",
    "\n",
    "pd.set_option('display.max_colwidth', 0)\n",
    "pd.set_option('display.max_rows', 500)\n",
    "pd.set_option('display.max_columns', 500)\n",
    "pd.set_option('display.width', 1000)\n",
    "import warnings\n",
    "warnings.filterwarnings('ignore')"
   ]
  },
  {
   "cell_type": "code",
   "execution_count": 27,
   "id": "a3efd027-4a41-4063-ae30-ef5ad10ee28d",
   "metadata": {},
   "outputs": [],
   "source": [
    "# Health Services & 80XX \\\\\n",
    "# Drugstores & 5122, 5912\\\\\n",
    "# Restaurants & 5461, 5812, 5813 \\\\\n",
    "# Groceries & 5141, 5411\\\\\n",
    "# Cultural Institutions & 79XX  \\\\\n",
    "# Services &  4311, 60XX, 72XX, 73XX\\\\\n",
    "def add_poi_type_new(df):\n",
    "    df['category'] = 'N/A'\n",
    "    df.loc[df['sic_code'].isna(),'category'] = 'N/A'\n",
    "    \n",
    "    df.loc[(df['sic_code']>=8000)&(df['sic_code']<=8099),'category'] = 'Healthcare'\n",
    "    df.loc[df['sic_code'].isin([5122,5912]),'category'] = 'Drugstores'\n",
    "    # df.loc[(df['sic_code']>=8200)&(df['sic_code']<=8299),'category'] = 'Schools' #there is no school in our data\n",
    "    df.loc[df['sic_code'].isin([8661]),'category'] = 'Religious Organizations'  ##there is no Religious in our data\n",
    "    df.loc[df['sic_code'].isin([5461, 5812, 5813]),'category'] = 'Restaurants'\n",
    "    df.loc[df['sic_code'].isin([5141, 5411]),'category'] = 'Groceries'\n",
    "    df.loc[df['sic_code'].isin([8422]),'category'] = 'Parks'  # there is no park in our data\n",
    "    df.loc[(df['sic_code']>=7900)&(df['sic_code']<=7999),'category'] = 'Entertainment Establishments'\n",
    "\n",
    "    df.loc[(df['sic_code']>=6000)&(df['sic_code']<=6099),'category'] = 'Services'\n",
    "    df.loc[(df['sic_code']>=7200)&(df['sic_code']<=7299),'category'] = 'Services'\n",
    "    df.loc[(df['sic_code']>=7300)&(df['sic_code']<=7399),'category'] = 'Services'\n",
    "    df.loc[df['sic_code'].isin([4311]),'category'] = 'Services'\n",
    "    return df"
   ]
  },
  {
   "cell_type": "markdown",
   "id": "de7f3046-1dff-46e2-8ffe-2a28294ff2af",
   "metadata": {},
   "source": [
    "# Get each POI's home based diversity"
   ]
  },
  {
   "cell_type": "code",
   "execution_count": 28,
   "id": "f696164e-c90f-4b0e-ae9f-c139dd868517",
   "metadata": {},
   "outputs": [
    {
     "name": "stdout",
     "output_type": "stream",
     "text": [
      "23212\n",
      "23141\n",
      "61968\n"
     ]
    },
    {
     "data": {
      "text/html": [
       "<div>\n",
       "<style scoped>\n",
       "    .dataframe tbody tr th:only-of-type {\n",
       "        vertical-align: middle;\n",
       "    }\n",
       "\n",
       "    .dataframe tbody tr th {\n",
       "        vertical-align: top;\n",
       "    }\n",
       "\n",
       "    .dataframe thead th {\n",
       "        text-align: right;\n",
       "    }\n",
       "</style>\n",
       "<table border=\"1\" class=\"dataframe\">\n",
       "  <thead>\n",
       "    <tr style=\"text-align: right;\">\n",
       "      <th></th>\n",
       "      <th>place_id</th>\n",
       "      <th>home_scaled_entropy</th>\n",
       "      <th>home_class_dominant</th>\n",
       "    </tr>\n",
       "  </thead>\n",
       "  <tbody>\n",
       "    <tr>\n",
       "      <th>0</th>\n",
       "      <td>25609839</td>\n",
       "      <td>0.096533</td>\n",
       "      <td>R_HispanicLatinx_low diversity</td>\n",
       "    </tr>\n",
       "    <tr>\n",
       "      <th>1</th>\n",
       "      <td>31157976</td>\n",
       "      <td>0.096533</td>\n",
       "      <td>R_HispanicLatinx_low diversity</td>\n",
       "    </tr>\n",
       "  </tbody>\n",
       "</table>\n",
       "</div>"
      ],
      "text/plain": [
       "   place_id  home_scaled_entropy             home_class_dominant\n",
       "0  25609839  0.096533             R_HispanicLatinx_low diversity\n",
       "1  31157976  0.096533             R_HispanicLatinx_low diversity"
      ]
     },
     "execution_count": 28,
     "metadata": {},
     "output_type": "execute_result"
    }
   ],
   "source": [
    "POIcat = pd.read_pickle(\"data/LA_POI_category.pkl\")\n",
    "\n",
    "home_diversity = pd.read_pickle(\"data/CA_CBG_dominantRace.pkl\") # residential diversity (CBG level) for all California CBGs\n",
    "print(home_diversity.shape[0])\n",
    "home_diversity = home_diversity[home_diversity['scaled_entropy'].notna()]\n",
    "print(home_diversity.shape[0])\n",
    "\n",
    "df_poi_CBG = pd.read_pickle('data/LA_POI_belong_CBG.pkl') # each POI belongs to which CBG\n",
    "df_poi_CBG_merged = pd.merge(df_poi_CBG,home_diversity,on='block_group_id')\n",
    "df_poi_CBG_mergedneed = df_poi_CBG_merged[['place_id','scaled_entropy','class_dominant']]\n",
    "df_poi_CBG_mergedneed.rename(columns={'scaled_entropy': 'home_scaled_entropy','class_dominant':'home_class_dominant'}, inplace=True)\n",
    "print(df_poi_CBG_mergedneed.shape[0]) # for each POI's residential diversity\n",
    "df_poi_CBG_mergedneed.head(2)"
   ]
  },
  {
   "cell_type": "markdown",
   "id": "d806b8d8-e55c-4ba9-b02b-a9e7eb04a43f",
   "metadata": {},
   "source": [
    "# Merge all time periods and keep only common rows"
   ]
  },
  {
   "cell_type": "code",
   "execution_count": 29,
   "id": "04aa05bc-d061-4fe7-a53e-321cb028c11d",
   "metadata": {},
   "outputs": [
    {
     "name": "stdout",
     "output_type": "stream",
     "text": [
      "4082 29578 31891 32655 27275\n"
     ]
    }
   ],
   "source": [
    "weekday = True #False True\n",
    "if weekday:\n",
    "    diversity_nighttime = pd.read_pickle(\"data/LA_POI_diversity_201903_weekday_nighttime.pkl\")  \n",
    "    diversity_morning = pd.read_pickle(\"data/LA_POI_diversity_201903_weekday_morning.pkl\")  \n",
    "    diversity_noon = pd.read_pickle(\"data/LA_POI_diversity_201903_weekday_noon.pkl\")\n",
    "    diversity_afternoon = pd.read_pickle(\"data/LA_POI_diversity_201903_weekday_afternoon.pkl\")\n",
    "    diversity_evening = pd.read_pickle(\"data/LA_POI_diversity_201903_weekday_evening.pkl\")\n",
    "    title = 'Weekday'\n",
    "else: #weekend\n",
    "    diversity_nighttime = pd.read_pickle(\"data/LA_POI_diversity_201903_weekend_nighttime.pkl\")  \n",
    "    diversity_morning = pd.read_pickle(\"data/LA_POI_diversity_201903_weekend_morning.pkl\")  \n",
    "    diversity_noon = pd.read_pickle(\"data/LA_POI_diversity_201903_weekend_noon.pkl\")\n",
    "    diversity_afternoon = pd.read_pickle(\"data/LA_POI_diversity_201903_weekend_afternoon.pkl\")\n",
    "    diversity_evening = pd.read_pickle(\"data/LA_POI_diversity_201903_weekend_evening.pkl\")\n",
    "    title = 'Weekend'\n",
    "\n",
    "print(diversity_nighttime.shape[0],diversity_morning.shape[0],diversity_noon.shape[0],diversity_afternoon.shape[0],diversity_evening.shape[0])"
   ]
  },
  {
   "cell_type": "code",
   "execution_count": 30,
   "id": "6354e79e-316e-474e-803e-ae92f5daff73",
   "metadata": {},
   "outputs": [
    {
     "name": "stdout",
     "output_type": "stream",
     "text": [
      "28016\n",
      "29829\n",
      "30297\n",
      "25240\n"
     ]
    }
   ],
   "source": [
    "def process_one_period(df):\n",
    "    df = df[['place_id','scaled_entropy','poi_lat','poi_lng','class_dominant','sic_code']]\n",
    "    df = df.dropna()\n",
    "    df = add_poi_type_new(df)\n",
    "    # df = df[df['category']!='N/A']\n",
    "    # df.category.value_counts()\n",
    "    df = pd.merge(df,df_poi_CBG_mergedneed,on='place_id',how='left')\n",
    "    print(df.shape[0])\n",
    "    return df\n",
    "\n",
    "diversity_morning = process_one_period(diversity_morning)\n",
    "diversity_noon = process_one_period(diversity_noon)\n",
    "diversity_afternoon = process_one_period(diversity_afternoon)\n",
    "diversity_evening = process_one_period(diversity_evening)"
   ]
  },
  {
   "cell_type": "code",
   "execution_count": 31,
   "id": "45efafae-bff2-42d1-ac74-15ad95445bdc",
   "metadata": {},
   "outputs": [],
   "source": [
    "diversity_morning['period'] = 'Morning'\n",
    "diversity_noon['period'] = 'Noon'\n",
    "diversity_afternoon['period'] = 'Afternoon'\n",
    "diversity_evening['period'] = 'Evening'"
   ]
  },
  {
   "cell_type": "code",
   "execution_count": 49,
   "id": "15ce8c35-2424-4adc-8b2e-7aa97d6fbe77",
   "metadata": {},
   "outputs": [
    {
     "name": "stdout",
     "output_type": "stream",
     "text": [
      "113382\n",
      "111987\n",
      "['N/A' 'Services' 'Entertainment Establishments' 'Restaurants' 'Groceries'\n",
      " 'Drugstores' 'Healthcare']\n",
      "['R_HispanicLatinx_moderate diversity' 'R_White_moderate diversity'\n",
      " 'high diversity' 'R_Asian_moderate diversity' 'R_White_low diversity'\n",
      " 'R_HispanicLatinx_low diversity' 'R_AfricanAmerican_moderate diversity'\n",
      " 'R_AmericanIndianAlaska_low diversity' 'R_Asian_low diversity'\n",
      " 'R_AfricanAmerican_low diversity' 'R_Other_moderate diversity']\n"
     ]
    },
    {
     "data": {
      "text/html": [
       "<div>\n",
       "<style scoped>\n",
       "    .dataframe tbody tr th:only-of-type {\n",
       "        vertical-align: middle;\n",
       "    }\n",
       "\n",
       "    .dataframe tbody tr th {\n",
       "        vertical-align: top;\n",
       "    }\n",
       "\n",
       "    .dataframe thead th {\n",
       "        text-align: right;\n",
       "    }\n",
       "</style>\n",
       "<table border=\"1\" class=\"dataframe\">\n",
       "  <thead>\n",
       "    <tr style=\"text-align: right;\">\n",
       "      <th></th>\n",
       "      <th>place_id</th>\n",
       "      <th>scaled_entropy</th>\n",
       "      <th>poi_lat</th>\n",
       "      <th>poi_lng</th>\n",
       "      <th>class_dominant</th>\n",
       "      <th>sic_code</th>\n",
       "      <th>category</th>\n",
       "      <th>home_scaled_entropy</th>\n",
       "      <th>home_class_dominant</th>\n",
       "      <th>period</th>\n",
       "    </tr>\n",
       "  </thead>\n",
       "  <tbody>\n",
       "    <tr>\n",
       "      <th>0</th>\n",
       "      <td>25033527.0</td>\n",
       "      <td>0.658841</td>\n",
       "      <td>34.033524</td>\n",
       "      <td>-118.272158</td>\n",
       "      <td>R_HispanicLatinx_moderate diversity</td>\n",
       "      <td>5511.0</td>\n",
       "      <td>N/A</td>\n",
       "      <td>0.623505</td>\n",
       "      <td>R_HispanicLatinx_moderate diversity</td>\n",
       "      <td>Morning</td>\n",
       "    </tr>\n",
       "    <tr>\n",
       "      <th>1</th>\n",
       "      <td>25033543.0</td>\n",
       "      <td>0.695342</td>\n",
       "      <td>34.168174</td>\n",
       "      <td>-118.595764</td>\n",
       "      <td>R_White_moderate diversity</td>\n",
       "      <td>5511.0</td>\n",
       "      <td>N/A</td>\n",
       "      <td>0.521918</td>\n",
       "      <td>R_White_moderate diversity</td>\n",
       "      <td>Morning</td>\n",
       "    </tr>\n",
       "  </tbody>\n",
       "</table>\n",
       "</div>"
      ],
      "text/plain": [
       "     place_id  scaled_entropy    poi_lat     poi_lng                       class_dominant  sic_code category  home_scaled_entropy                  home_class_dominant   period\n",
       "0  25033527.0  0.658841        34.033524 -118.272158  R_HispanicLatinx_moderate diversity  5511.0    N/A      0.623505             R_HispanicLatinx_moderate diversity  Morning\n",
       "1  25033543.0  0.695342        34.168174 -118.595764  R_White_moderate diversity           5511.0    N/A      0.521918             R_White_moderate diversity           Morning"
      ]
     },
     "execution_count": 49,
     "metadata": {},
     "output_type": "execute_result"
    }
   ],
   "source": [
    "df_all = pd.concat([diversity_morning, diversity_noon])\n",
    "df_all = pd.concat([df_all, diversity_afternoon])\n",
    "df_all = pd.concat([df_all, diversity_evening])\n",
    "print(df_all.shape[0])\n",
    "df_all = df_all.dropna()\n",
    "print(df_all.shape[0])\n",
    "print(df_all.category.unique())\n",
    "print(df_all.home_class_dominant.unique())\n",
    "df_all.head(2)"
   ]
  },
  {
   "cell_type": "markdown",
   "id": "113f5a1d-9ebf-48de-b456-64c9cd83eb5d",
   "metadata": {},
   "source": [
    "# OLS"
   ]
  },
  {
   "cell_type": "code",
   "execution_count": 50,
   "id": "8aacb794-a0a7-44d6-8350-8db0750e6e89",
   "metadata": {},
   "outputs": [
    {
     "data": {
      "text/html": [
       "<div>\n",
       "<style scoped>\n",
       "    .dataframe tbody tr th:only-of-type {\n",
       "        vertical-align: middle;\n",
       "    }\n",
       "\n",
       "    .dataframe tbody tr th {\n",
       "        vertical-align: top;\n",
       "    }\n",
       "\n",
       "    .dataframe thead th {\n",
       "        text-align: right;\n",
       "    }\n",
       "</style>\n",
       "<table border=\"1\" class=\"dataframe\">\n",
       "  <thead>\n",
       "    <tr style=\"text-align: right;\">\n",
       "      <th></th>\n",
       "      <th>place_id</th>\n",
       "      <th>scaled_entropy</th>\n",
       "      <th>poi_lat</th>\n",
       "      <th>poi_lng</th>\n",
       "      <th>class_dominant</th>\n",
       "      <th>sic_code</th>\n",
       "      <th>home_scaled_entropy</th>\n",
       "      <th>Afternoon</th>\n",
       "      <th>Evening</th>\n",
       "      <th>Noon</th>\n",
       "      <th>Drugstores</th>\n",
       "      <th>Entertainment Establishments</th>\n",
       "      <th>Groceries</th>\n",
       "      <th>Healthcare</th>\n",
       "      <th>Restaurants</th>\n",
       "      <th>Services</th>\n",
       "      <th>R_AfricanAmerican_low diversity</th>\n",
       "      <th>R_AfricanAmerican_moderate diversity</th>\n",
       "      <th>R_AmericanIndianAlaska_low diversity</th>\n",
       "      <th>R_Asian_low diversity</th>\n",
       "      <th>R_Asian_moderate diversity</th>\n",
       "      <th>R_HispanicLatinx_moderate diversity</th>\n",
       "      <th>R_Other_moderate diversity</th>\n",
       "      <th>R_White_low diversity</th>\n",
       "      <th>R_White_moderate diversity</th>\n",
       "      <th>high diversity</th>\n",
       "    </tr>\n",
       "  </thead>\n",
       "  <tbody>\n",
       "    <tr>\n",
       "      <th>0</th>\n",
       "      <td>25033527.0</td>\n",
       "      <td>0.658841</td>\n",
       "      <td>34.033524</td>\n",
       "      <td>-118.272158</td>\n",
       "      <td>R_HispanicLatinx_moderate diversity</td>\n",
       "      <td>5511.0</td>\n",
       "      <td>0.623505</td>\n",
       "      <td>0.0</td>\n",
       "      <td>0.0</td>\n",
       "      <td>0.0</td>\n",
       "      <td>0.0</td>\n",
       "      <td>0.0</td>\n",
       "      <td>0.0</td>\n",
       "      <td>0.0</td>\n",
       "      <td>0.0</td>\n",
       "      <td>0.0</td>\n",
       "      <td>0.0</td>\n",
       "      <td>0.0</td>\n",
       "      <td>0.0</td>\n",
       "      <td>0.0</td>\n",
       "      <td>0.0</td>\n",
       "      <td>1.0</td>\n",
       "      <td>0.0</td>\n",
       "      <td>0.0</td>\n",
       "      <td>0.0</td>\n",
       "      <td>0.0</td>\n",
       "    </tr>\n",
       "    <tr>\n",
       "      <th>1</th>\n",
       "      <td>25033543.0</td>\n",
       "      <td>0.695342</td>\n",
       "      <td>34.168174</td>\n",
       "      <td>-118.595764</td>\n",
       "      <td>R_White_moderate diversity</td>\n",
       "      <td>5511.0</td>\n",
       "      <td>0.521918</td>\n",
       "      <td>0.0</td>\n",
       "      <td>0.0</td>\n",
       "      <td>0.0</td>\n",
       "      <td>0.0</td>\n",
       "      <td>0.0</td>\n",
       "      <td>0.0</td>\n",
       "      <td>0.0</td>\n",
       "      <td>0.0</td>\n",
       "      <td>0.0</td>\n",
       "      <td>0.0</td>\n",
       "      <td>0.0</td>\n",
       "      <td>0.0</td>\n",
       "      <td>0.0</td>\n",
       "      <td>0.0</td>\n",
       "      <td>0.0</td>\n",
       "      <td>0.0</td>\n",
       "      <td>0.0</td>\n",
       "      <td>1.0</td>\n",
       "      <td>0.0</td>\n",
       "    </tr>\n",
       "  </tbody>\n",
       "</table>\n",
       "</div>"
      ],
      "text/plain": [
       "     place_id  scaled_entropy    poi_lat     poi_lng                       class_dominant  sic_code  home_scaled_entropy  Afternoon  Evening  Noon  Drugstores  Entertainment Establishments  Groceries  Healthcare  Restaurants  Services  R_AfricanAmerican_low diversity  R_AfricanAmerican_moderate diversity  R_AmericanIndianAlaska_low diversity  R_Asian_low diversity  R_Asian_moderate diversity  R_HispanicLatinx_moderate diversity  R_Other_moderate diversity  R_White_low diversity  R_White_moderate diversity  high diversity\n",
       "0  25033527.0  0.658841        34.033524 -118.272158  R_HispanicLatinx_moderate diversity  5511.0    0.623505             0.0        0.0      0.0   0.0         0.0                           0.0        0.0         0.0          0.0       0.0                              0.0                                   0.0                                   0.0                    0.0                         1.0                                  0.0                         0.0                    0.0                         0.0           \n",
       "1  25033543.0  0.695342        34.168174 -118.595764  R_White_moderate diversity           5511.0    0.521918             0.0        0.0      0.0   0.0         0.0                           0.0        0.0         0.0          0.0       0.0                              0.0                                   0.0                                   0.0                    0.0                         0.0                                  0.0                         0.0                    1.0                         0.0           "
      ]
     },
     "execution_count": 50,
     "metadata": {},
     "output_type": "execute_result"
    }
   ],
   "source": [
    "df_dummies = pd.get_dummies(df_all['period'],dtype=float)  # drop_first=True avoids the dummy variable trap\n",
    "df_dummies = df_dummies.drop('Morning', axis=1) # use morning as the base category\n",
    "df_all = pd.concat([df_all, df_dummies], axis=1)# Concatenate the dummy variables with the original DataFrame\n",
    "df_all = df_all.drop('period', axis=1)# Drop the original categorical column\n",
    "\n",
    "df_dummies = pd.get_dummies(df_all['category'],dtype=float)  # drop_first=True avoids the dummy variable trap\n",
    "df_dummies = df_dummies.drop('N/A', axis=1) # use N/A as the base category\n",
    "df_all = pd.concat([df_all, df_dummies], axis=1)# Concatenate the dummy variables with the original DataFrame\n",
    "df_all = df_all.drop('category', axis=1)# Drop the original categorical column\n",
    "\n",
    "df_dummies = pd.get_dummies(df_all['home_class_dominant'],dtype=float)  # drop_first=True avoids the dummy variable trap\n",
    "df_dummies = df_dummies.drop('R_HispanicLatinx_low diversity', axis=1) # use R_HispanicLatinx_low diversity as the base category\n",
    "df_all = pd.concat([df_all, df_dummies], axis=1)# Concatenate the dummy variables with the original DataFrame\n",
    "df_all = df_all.drop('home_class_dominant', axis=1)# Drop the original categorical column\n",
    "\n",
    "df_all.head(2)"
   ]
  },
  {
   "cell_type": "code",
   "execution_count": 35,
   "id": "5f8a2ab9-7235-4df6-9e74-74d9eef3a330",
   "metadata": {},
   "outputs": [],
   "source": [
    "# df_all.scaled_entropy.hist()"
   ]
  },
  {
   "cell_type": "code",
   "execution_count": 51,
   "id": "d91e5376-cdaf-4fa3-b3d6-867057541854",
   "metadata": {},
   "outputs": [],
   "source": [
    "df_all['log_scaled_entropy'] = np.log(df_all['scaled_entropy']+0.000001)\n",
    "df_all['log_home_scaled_entropy'] = np.log(df_all['home_scaled_entropy']+0.000001)"
   ]
  },
  {
   "cell_type": "code",
   "execution_count": 52,
   "id": "4c54eb22-d6e8-4ac0-9950-893e2ee940d8",
   "metadata": {},
   "outputs": [
    {
     "data": {
      "text/plain": [
       "Index(['place_id', 'scaled_entropy', 'poi_lat', 'poi_lng', 'class_dominant', 'sic_code', 'home_scaled_entropy', 'Afternoon', 'Evening', 'Noon', 'Drugstores', 'Entertainment Establishments', 'Groceries', 'Healthcare', 'Restaurants', 'Services', 'R_AfricanAmerican_low diversity', 'R_AfricanAmerican_moderate diversity', 'R_AmericanIndianAlaska_low diversity', 'R_Asian_low diversity', 'R_Asian_moderate diversity', 'R_HispanicLatinx_moderate diversity', 'R_Other_moderate diversity', 'R_White_low diversity', 'R_White_moderate diversity', 'high diversity', 'log_scaled_entropy', 'log_home_scaled_entropy'], dtype='object')"
      ]
     },
     "execution_count": 52,
     "metadata": {},
     "output_type": "execute_result"
    }
   ],
   "source": [
    "df_all.columns"
   ]
  },
  {
   "cell_type": "code",
   "execution_count": 69,
   "id": "3f5d2939-8431-4b4a-acc7-17b3121600f4",
   "metadata": {},
   "outputs": [],
   "source": [
    "y = df_all['scaled_entropy']\n",
    "# y = df_all['log_scaled_entropy']\n",
    "X = df_all[['home_scaled_entropy', 'R_AfricanAmerican_low diversity','R_AfricanAmerican_moderate diversity',\n",
    "            'R_AmericanIndianAlaska_low diversity','R_Asian_low diversity','R_Asian_moderate diversity',\n",
    "            'R_Other_moderate diversity','R_HispanicLatinx_moderate diversity','R_White_low diversity',\n",
    "            'R_White_moderate diversity','high diversity','Noon', 'Afternoon', 'Evening','Drugstores','Entertainment Establishments',\n",
    "            'Groceries','Restaurants','Services', 'Healthcare']]"
   ]
  },
  {
   "cell_type": "code",
   "execution_count": 60,
   "id": "e00accac-3db7-442b-a571-5d6bfd5d7a64",
   "metadata": {},
   "outputs": [],
   "source": [
    "# df_cor = X.corr()\n",
    "# pd.DataFrame(np.linalg.inv(X.corr().values), index = df_cor.index, columns=df_cor.columns)"
   ]
  },
  {
   "cell_type": "code",
   "execution_count": 61,
   "id": "043f818d-8860-47b1-a42f-5856f4f4a6c4",
   "metadata": {},
   "outputs": [
    {
     "name": "stdout",
     "output_type": "stream",
     "text": [
      "                            OLS Regression Results                            \n",
      "==============================================================================\n",
      "Dep. Variable:         scaled_entropy   R-squared:                       0.336\n",
      "Model:                            OLS   Adj. R-squared:                  0.335\n",
      "Method:                 Least Squares   F-statistic:                     2827.\n",
      "Date:                Mon, 26 Aug 2024   Prob (F-statistic):               0.00\n",
      "Time:                        14:33:56   Log-Likelihood:                 81879.\n",
      "No. Observations:              111987   AIC:                        -1.637e+05\n",
      "Df Residuals:                  111966   BIC:                        -1.635e+05\n",
      "Df Model:                          20                                         \n",
      "Covariance Type:            nonrobust                                         \n",
      "========================================================================================================\n",
      "                                           coef    std err          t      P>|t|      [0.025      0.975]\n",
      "--------------------------------------------------------------------------------------------------------\n",
      "const                                    0.3835      0.001    273.129      0.000       0.381       0.386\n",
      "home_scaled_entropy                      0.3240      0.004     86.634      0.000       0.317       0.331\n",
      "R_AfricanAmerican_low diversity          0.0983      0.006     16.372      0.000       0.087       0.110\n",
      "R_AfricanAmerican_moderate diversity     0.0566      0.003     18.504      0.000       0.051       0.063\n",
      "R_AmericanIndianAlaska_low diversity     0.2460      0.010     23.991      0.000       0.226       0.266\n",
      "R_Asian_low diversity                    0.1119      0.005     23.411      0.000       0.103       0.121\n",
      "R_Asian_moderate diversity               0.0821      0.002     38.031      0.000       0.078       0.086\n",
      "R_Other_moderate diversity               0.0689      0.017      4.110      0.000       0.036       0.102\n",
      "R_HispanicLatinx_moderate diversity      0.0404      0.002     22.686      0.000       0.037       0.044\n",
      "R_White_low diversity                    0.1564      0.002     74.391      0.000       0.152       0.161\n",
      "R_White_moderate diversity               0.0953      0.002     51.319      0.000       0.092       0.099\n",
      "high diversity                           0.0546      0.003     21.395      0.000       0.050       0.060\n",
      "Noon                                     0.0203      0.001     20.807      0.000       0.018       0.022\n",
      "Afternoon                                0.0168      0.001     17.334      0.000       0.015       0.019\n",
      "Evening                                 -0.0025      0.001     -2.467      0.014      -0.005      -0.001\n",
      "Drugstores                              -0.0129      0.003     -4.738      0.000      -0.018      -0.008\n",
      "Entertainment Establishments             0.0030      0.003      1.170      0.242      -0.002       0.008\n",
      "Groceries                                0.0087      0.002      3.479      0.001       0.004       0.014\n",
      "Restaurants                              0.0109      0.001     11.580      0.000       0.009       0.013\n",
      "Services                                -0.0040      0.001     -4.449      0.000      -0.006      -0.002\n",
      "Healthcare                              -0.0232      0.008     -2.952      0.003      -0.039      -0.008\n",
      "==============================================================================\n",
      "Omnibus:                    20668.082   Durbin-Watson:                   1.925\n",
      "Prob(Omnibus):                  0.000   Jarque-Bera (JB):            53185.796\n",
      "Skew:                          -1.016   Prob(JB):                         0.00\n",
      "Kurtosis:                       5.696   Cond. No.                         64.8\n",
      "==============================================================================\n",
      "\n",
      "Notes:\n",
      "[1] Standard Errors assume that the covariance matrix of the errors is correctly specified.\n"
     ]
    }
   ],
   "source": [
    "import statsmodels.api as sm\n",
    "\n",
    "# X = df_all[['home_scaled_entropy', 'Noon', 'Afternoon', 'Evening','Drugstores','Entertainment Establishments',\n",
    "#             'Groceries','Restaurants','Services', 'Healthcare']]\n",
    "\n",
    "X = sm.add_constant(X)  # Adds a constant term to the independent variables matrix\n",
    "\n",
    "# Fit the OLS model\n",
    "model = sm.OLS(y, X).fit()\n",
    "print(model.summary())"
   ]
  },
  {
   "cell_type": "code",
   "execution_count": 62,
   "id": "92f604e1-86ae-437b-895b-70bf28cd3c28",
   "metadata": {},
   "outputs": [
    {
     "data": {
      "text/plain": [
       "((array([-4.37080331, -4.17310201, -4.06560903, ...,  4.06560903,\n",
       "          4.17310201,  4.37080331]),\n",
       "  array([-0.72750668, -0.72395575, -0.72352656, ...,  0.40739375,\n",
       "          0.41930853,  0.42429452])),\n",
       " (0.11338372819518873, -3.5280648474686755e-16, 0.9734268475030105))"
      ]
     },
     "execution_count": 62,
     "metadata": {},
     "output_type": "execute_result"
    },
    {
     "data": {
      "image/png": "[encoded data removed]",
      "text/plain": [
       "<Figure size 640x480 with 1 Axes>"
      ]
     },
     "metadata": {},
     "output_type": "display_data"
    }
   ],
   "source": [
    "stats.probplot(model.resid, dist=\"norm\", plot= plt)"
   ]
  },
  {
   "cell_type": "code",
   "execution_count": 63,
   "id": "53bc9578-76e6-4e6d-906e-0b2380cb321a",
   "metadata": {},
   "outputs": [
    {
     "data": {
      "text/plain": [
       "[('Lagrange multiplier statistic', 4830.284849513212),\n",
       " ('p-value', 0.0),\n",
       " ('f-value', 252.3536078448645),\n",
       " ('f p-value', 0.0)]"
      ]
     },
     "execution_count": 63,
     "metadata": {},
     "output_type": "execute_result"
    }
   ],
   "source": [
    "import statsmodels.stats.api as sms\n",
    "from statsmodels.compat import lzip\n",
    "\n",
    "name = ['Lagrange multiplier statistic', 'p-value', \n",
    "        'f-value', 'f p-value']\n",
    "test = sms.het_breuschpagan(model.resid, model.model.exog)\n",
    "lzip(name, test)\n",
    "# The test is significant meaning the data violates the assumption of homoscedasticity, i.e. heteroscedasticity is present in the data. "
   ]
  },
  {
   "cell_type": "markdown",
   "id": "2eb9fe22-d346-4813-9234-fee9e4439126",
   "metadata": {},
   "source": [
    "# Beta regression"
   ]
  },
  {
   "cell_type": "code",
   "execution_count": 67,
   "id": "252f07d5-3b25-41b8-a06b-d930afc0394b",
   "metadata": {},
   "outputs": [],
   "source": [
    "from statsmodels.othermod.betareg import BetaModel"
   ]
  },
  {
   "cell_type": "code",
   "execution_count": null,
   "id": "c8497a45-3529-4bab-be7d-6a85a20d20f0",
   "metadata": {},
   "outputs": [],
   "source": []
  },
  {
   "cell_type": "code",
   "execution_count": 73,
   "id": "89c0e2b6-0a1f-4404-bb62-c4b9af240c1e",
   "metadata": {},
   "outputs": [
    {
     "ename": "AssertionError",
     "evalue": "",
     "output_type": "error",
     "traceback": [
      "\u001b[0;31m---------------------------------------------------------------------------\u001b[0m",
      "\u001b[0;31mAssertionError\u001b[0m                            Traceback (most recent call last)",
      "Cell \u001b[0;32mIn[73], line 1\u001b[0m\n\u001b[0;32m----> 1\u001b[0m mod \u001b[38;5;241m=\u001b[39m BetaModel(df_all[\u001b[38;5;124m'\u001b[39m\u001b[38;5;124mscaled_entropy\u001b[39m\u001b[38;5;124m'\u001b[39m], df_all[\u001b[38;5;124m'\u001b[39m\u001b[38;5;124mhome_scaled_entropy\u001b[39m\u001b[38;5;124m'\u001b[39m])\n\u001b[1;32m      2\u001b[0m rslt \u001b[38;5;241m=\u001b[39m mod\u001b[38;5;241m.\u001b[39mfit()\n\u001b[1;32m      3\u001b[0m \u001b[38;5;28mprint\u001b[39m(rslt\u001b[38;5;241m.\u001b[39msummary())\n",
      "File \u001b[0;32m~/anaconda3/lib/python3.11/site-packages/statsmodels/othermod/betareg.py:107\u001b[0m, in \u001b[0;36mBetaModel.__init__\u001b[0;34m(self, endog, exog, exog_precision, link, link_precision, **kwds)\u001b[0m\n\u001b[1;32m    102\u001b[0m \u001b[38;5;28;01mdef\u001b[39;00m \u001b[38;5;21m__init__\u001b[39m(\u001b[38;5;28mself\u001b[39m, endog, exog, exog_precision\u001b[38;5;241m=\u001b[39m\u001b[38;5;28;01mNone\u001b[39;00m,\n\u001b[1;32m    103\u001b[0m              link\u001b[38;5;241m=\u001b[39mfamilies\u001b[38;5;241m.\u001b[39mlinks\u001b[38;5;241m.\u001b[39mLogit(),\n\u001b[1;32m    104\u001b[0m              link_precision\u001b[38;5;241m=\u001b[39mfamilies\u001b[38;5;241m.\u001b[39mlinks\u001b[38;5;241m.\u001b[39mLog(), \u001b[38;5;241m*\u001b[39m\u001b[38;5;241m*\u001b[39mkwds):\n\u001b[1;32m    106\u001b[0m     etmp \u001b[38;5;241m=\u001b[39m np\u001b[38;5;241m.\u001b[39marray(endog)\n\u001b[0;32m--> 107\u001b[0m     \u001b[38;5;28;01massert\u001b[39;00m np\u001b[38;5;241m.\u001b[39mall((\u001b[38;5;241m0\u001b[39m \u001b[38;5;241m<\u001b[39m etmp) \u001b[38;5;241m&\u001b[39m (etmp \u001b[38;5;241m<\u001b[39m \u001b[38;5;241m1\u001b[39m))\n\u001b[1;32m    108\u001b[0m     \u001b[38;5;28;01mif\u001b[39;00m exog_precision \u001b[38;5;129;01mis\u001b[39;00m \u001b[38;5;28;01mNone\u001b[39;00m:\n\u001b[1;32m    109\u001b[0m         extra_names \u001b[38;5;241m=\u001b[39m [\u001b[38;5;124m'\u001b[39m\u001b[38;5;124mprecision\u001b[39m\u001b[38;5;124m'\u001b[39m]\n",
      "\u001b[0;31mAssertionError\u001b[0m: "
     ]
    }
   ],
   "source": [
    "mod = BetaModel(df_all['scaled_entropy'], df_all['home_scaled_entropy'])\n",
    "rslt = mod.fit()\n",
    "print(rslt.summary())"
   ]
  },
  {
   "cell_type": "code",
   "execution_count": null,
   "id": "f9cf98e7-42f4-4b1e-93f5-51e94ba1e255",
   "metadata": {},
   "outputs": [],
   "source": []
  },
  {
   "cell_type": "code",
   "execution_count": null,
   "id": "343632db-7e3f-464c-9a1f-8a7ca567a186",
   "metadata": {},
   "outputs": [],
   "source": []
  },
  {
   "cell_type": "markdown",
   "id": "e0af14da-a41e-431f-bcd5-269e8adff37f",
   "metadata": {},
   "source": [
    "# Moran's I on OLS residuals"
   ]
  },
  {
   "cell_type": "code",
   "execution_count": 180,
   "id": "faf272ed",
   "metadata": {},
   "outputs": [
    {
     "name": "stdout",
     "output_type": "stream",
     "text": [
      "Moran's I: 0.3709790954232149\n",
      "P-value: 0.001\n",
      "CPU times: user 3.88 s, sys: 1.22 s, total: 5.1 s\n",
      "Wall time: 4.49 s\n"
     ]
    }
   ],
   "source": [
    "%%time \n",
    "from libpysal.weights import KNN\n",
    "from esda.moran import Moran\n",
    "\n",
    "# Create spatial weights matrix using K-Nearest Neighbors\n",
    "coords = df_all[['poi_lat', 'poi_lng']].values\n",
    "knn = KNN.from_array(coords, k=8)  # Change k as needed\n",
    "\n",
    "# Compute Moran's I\n",
    "residuals = model.resid\n",
    "moran = Moran(residuals, knn)\n",
    "print(f\"Moran's I: {moran.I}\")\n",
    "print(f\"P-value: {moran.p_sim}\") \n",
    "# very strong spatial autocorrelation exists in the residual suggesting Spatial Models instead of OLS"
   ]
  },
  {
   "cell_type": "markdown",
   "id": "ee02d70a-f743-4503-b8ec-3023c8c4d231",
   "metadata": {},
   "source": [
    "# LM test"
   ]
  },
  {
   "cell_type": "markdown",
   "id": "fc18b568-ef13-4cb3-9932-99576bd89d76",
   "metadata": {},
   "source": [
    "### run OLS first for LM test"
   ]
  },
  {
   "cell_type": "code",
   "execution_count": 181,
   "id": "d602d23d",
   "metadata": {},
   "outputs": [
    {
     "name": "stdout",
     "output_type": "stream",
     "text": [
      "REGRESSION RESULTS\n",
      "------------------\n",
      "\n",
      "SUMMARY OF OUTPUT: ORDINARY LEAST SQUARES\n",
      "-----------------------------------------\n",
      "Data set            :     unknown\n",
      "Weights matrix      :        None\n",
      "Dependent Variable  :scaled_entropy                Number of Observations:       50806\n",
      "Mean dependent var  :      0.6372                Number of Variables   :          20\n",
      "S.D. dependent var  :      0.1408                Degrees of Freedom    :       50786\n",
      "R-squared           :      0.3861\n",
      "Adjusted R-squared  :      0.3859\n",
      "Sum squared residual:     618.634                F-statistic           :   1681.3355\n",
      "Sigma-square        :       0.012                Prob(F-statistic)     :           0\n",
      "S.E. of regression  :       0.110                Log likelihood        :   39892.335\n",
      "Sigma-square ML     :       0.012                Akaike info criterion :  -79744.670\n",
      "S.E of regression ML:      0.1103                Schwarz criterion     :  -79567.955\n",
      "\n",
      "------------------------------------------------------------------------------------\n",
      "            Variable     Coefficient       Std.Error     t-Statistic     Probability\n",
      "------------------------------------------------------------------------------------\n",
      "            CONSTANT         0.40810         0.02605        15.66865         0.00000\n",
      " home_scaled_entropy         0.35254         0.00528        66.82085         0.00000\n",
      "R_AfricanAmerican_low diversity         0.03256         0.02604         1.25057         0.21110\n",
      "R_AfricanAmerican_moderate diversity        -0.01144         0.02491        -0.45937         0.64597\n",
      "R_AmericanIndianAlaska_low diversity         0.18457         0.02999         6.15360         0.00000\n",
      "R_Asian_low diversity         0.05205         0.02556         2.03664         0.04169\n",
      "R_Asian_moderate diversity         0.01365         0.02474         0.55167         0.58118\n",
      "R_HispanicLatinx_low diversity        -0.06473         0.02484        -2.60551         0.00918\n",
      "R_HispanicLatinx_moderate diversity        -0.02211         0.02470        -0.89495         0.37082\n",
      "R_White_low diversity         0.08684         0.02491         3.48585         0.00049\n",
      "R_White_moderate diversity         0.03045         0.02470         1.23277         0.21767\n",
      "      high diversity        -0.01210         0.02472        -0.48936         0.62459\n",
      "                Noon         0.02431         0.00138        17.66664         0.00000\n",
      "           Afternoon         0.01839         0.00137        13.38935         0.00000\n",
      "             Evening        -0.00164         0.00142        -1.14978         0.25024\n",
      "          Drugstores         0.01008         0.00785         1.28307         0.19947\n",
      "Entertainment Establishments         0.02504         0.00782         3.20081         0.00137\n",
      "           Groceries         0.03139         0.00779         4.03109         0.00006\n",
      "         Restaurants         0.03359         0.00747         4.49527         0.00001\n",
      "            Services         0.01898         0.00747         2.54260         0.01101\n",
      "------------------------------------------------------------------------------------\n",
      "\n",
      "REGRESSION DIAGNOSTICS\n",
      "MULTICOLLINEARITY CONDITION NUMBER          157.232\n",
      "\n",
      "TEST ON NORMALITY OF ERRORS\n",
      "TEST                             DF        VALUE           PROB\n",
      "Jarque-Bera                       2       23470.864           0.0000\n",
      "\n",
      "DIAGNOSTICS FOR HETEROSKEDASTICITY\n",
      "RANDOM COEFFICIENTS\n",
      "TEST                             DF        VALUE           PROB\n",
      "Breusch-Pagan test               19        5206.739           0.0000\n",
      "Koenker-Bassett test             19        2193.851           0.0000\n",
      "================================ END OF REPORT =====================================\n"
     ]
    }
   ],
   "source": [
    "from pysal.model import spreg\n",
    "\n",
    "y = df_all['scaled_entropy']\n",
    "X = df_all[['home_scaled_entropy', 'R_AfricanAmerican_low diversity','R_AfricanAmerican_moderate diversity',\n",
    "            'R_AmericanIndianAlaska_low diversity','R_Asian_low diversity','R_Asian_moderate diversity',\n",
    "            'R_HispanicLatinx_low diversity','R_HispanicLatinx_moderate diversity','R_White_low diversity',\n",
    "            'R_White_moderate diversity','high diversity','Noon', 'Afternoon', 'Evening','Drugstores','Entertainment Establishments',\n",
    "            'Groceries','Restaurants','Services']]\n",
    "\n",
    "ols = OLS(y.values, X.values, \n",
    "          name_y= y.name,\n",
    "          name_x= X.columns.tolist())\n",
    "print(ols.summary)"
   ]
  },
  {
   "cell_type": "code",
   "execution_count": 182,
   "id": "dea58a01",
   "metadata": {},
   "outputs": [
    {
     "name": "stdout",
     "output_type": "stream",
     "text": [
      "32283.7867 0.0\n",
      "32554.8344 0.0\n",
      "658.0295 0.0\n",
      "929.0772 0.0\n",
      "33212.8639 0.0\n"
     ]
    }
   ],
   "source": [
    "lms = spreg.LMtests(ols, knn, tests=['all'])\n",
    "\n",
    "# LM error test:\n",
    "print(round(lms.lme[0],4), round(lms.lme[1],4))\n",
    "# LM lag test:\n",
    "print(round(lms.lml[0],4), round(lms.lml[1],4))\n",
    "# Robust LM error test:\n",
    "print(round(lms.rlme[0],4), round(lms.rlme[1],4))\n",
    "# Robust LM lag test:\n",
    "print(round(lms.rlml[0],4), round(lms.rlml[1],4))\n",
    "# LM SARMA test:\n",
    "print(round(lms.sarma[0],4), round(lms.sarma[1],4))\n",
    "\n",
    "# All tests are significant, suggesting spatial models outperform OLS"
   ]
  },
  {
   "cell_type": "markdown",
   "id": "d125c6e5-653a-466c-a811-914e8bbeb0de",
   "metadata": {},
   "source": [
    "# Fit different models and compare model fits"
   ]
  },
  {
   "cell_type": "code",
   "execution_count": 183,
   "id": "0e4146c3",
   "metadata": {},
   "outputs": [
    {
     "name": "stdout",
     "output_type": "stream",
     "text": [
      "REGRESSION RESULTS\n",
      "------------------\n",
      "\n",
      "SUMMARY OF OUTPUT: SPATIAL TWO STAGE LEAST SQUARES\n",
      "--------------------------------------------------\n",
      "Data set            :     unknown\n",
      "Weights matrix      :     unknown\n",
      "Dependent Variable  :scaled_entropy                Number of Observations:       50806\n",
      "Mean dependent var  :      0.6372                Number of Variables   :          21\n",
      "S.D. dependent var  :      0.1408                Degrees of Freedom    :       50785\n",
      "Pseudo R-squared    :      0.5889\n",
      "Spatial Pseudo R-squared:  0.3484\n",
      "\n",
      "------------------------------------------------------------------------------------\n",
      "            Variable     Coefficient       Std.Error     z-Statistic     Probability\n",
      "------------------------------------------------------------------------------------\n",
      "            CONSTANT         0.01889         0.02364         0.79935         0.42409\n",
      " home_scaled_entropy         0.02592         0.00958         2.70501         0.00683\n",
      "R_AfricanAmerican_low diversity         0.00564         0.02133         0.26450         0.79139\n",
      "R_AfricanAmerican_moderate diversity        -0.00308         0.02040        -0.15118         0.87983\n",
      "R_AmericanIndianAlaska_low diversity         0.02101         0.02493         0.84280         0.39934\n",
      "R_Asian_low diversity         0.00849         0.02096         0.40510         0.68540\n",
      "R_Asian_moderate diversity         0.00167         0.02026         0.08245         0.93429\n",
      "R_HispanicLatinx_low diversity        -0.00435         0.02040        -0.21332         0.83108\n",
      "R_HispanicLatinx_moderate diversity        -0.00116         0.02024        -0.05746         0.95418\n",
      "R_White_low diversity         0.00486         0.02051         0.23681         0.81281\n",
      "R_White_moderate diversity         0.00173         0.02024         0.08544         0.93191\n",
      "      high diversity        -0.00209         0.02025        -0.10316         0.91784\n",
      "                Noon         0.02762         0.00113        24.44195         0.00000\n",
      "           Afternoon         0.02118         0.00113        18.79367         0.00000\n",
      "             Evening        -0.00165         0.00117        -1.41111         0.15821\n",
      "          Drugstores        -0.00142         0.00644        -0.22066         0.82536\n",
      "Entertainment Establishments        -0.00176         0.00644        -0.27372         0.78430\n",
      "           Groceries         0.00769         0.00641         1.20044         0.22997\n",
      "         Restaurants         0.00670         0.00616         1.08721         0.27694\n",
      "            Services         0.00004         0.00613         0.00671         0.99465\n",
      "    W_scaled_entropy         0.92321         0.02418        38.17844         0.00000\n",
      "------------------------------------------------------------------------------------\n",
      "Instrumented: W_scaled_entropy\n",
      "Instruments: W_Afternoon, W_Drugstores, W_Entertainment Establishments,\n",
      "             W_Evening, W_Groceries, W_Noon, W_R_AfricanAmerican_low\n",
      "             diversity, W_R_AfricanAmerican_moderate diversity,\n",
      "             W_R_AmericanIndianAlaska_low diversity, W_R_Asian_low\n",
      "             diversity, W_R_Asian_moderate diversity, W_R_HispanicLatinx_low\n",
      "             diversity, W_R_HispanicLatinx_moderate diversity, W_R_White_low\n",
      "             diversity, W_R_White_moderate diversity, W_Restaurants,\n",
      "             W_Services, W_high diversity, W_home_scaled_entropy\n",
      "================================ END OF REPORT =====================================\n"
     ]
    }
   ],
   "source": [
    "from spreg import GM_Error, GM_Lag\n",
    "\n",
    "# Fit Spatial Lag Model\n",
    "reg_SLM=GM_Lag(y.values, X.values, w=knn, name_y= y.name,\n",
    "          name_x= X.columns.tolist())\n",
    "print(reg_SLM.summary)"
   ]
  },
  {
   "cell_type": "code",
   "execution_count": 184,
   "id": "a31e78dc-a3c3-4205-b570-317480315029",
   "metadata": {},
   "outputs": [
    {
     "name": "stdout",
     "output_type": "stream",
     "text": [
      "REGRESSION RESULTS\n",
      "------------------\n",
      "\n",
      "SUMMARY OF OUTPUT: GM SPATIALLY WEIGHTED LEAST SQUARES\n",
      "------------------------------------------------------\n",
      "Data set            :     unknown\n",
      "Weights matrix      :     unknown\n",
      "Dependent Variable  :scaled_entropy                Number of Observations:       50806\n",
      "Mean dependent var  :      0.6372                Number of Variables   :          20\n",
      "S.D. dependent var  :      0.1408                Degrees of Freedom    :       50786\n",
      "Pseudo R-squared    :      0.3840\n",
      "\n",
      "------------------------------------------------------------------------------------\n",
      "            Variable     Coefficient       Std.Error     z-Statistic     Probability\n",
      "------------------------------------------------------------------------------------\n",
      "            CONSTANT         0.43668         0.03423        12.75566         0.00000\n",
      " home_scaled_entropy         0.26861         0.00932        28.83600         0.00000\n",
      "R_AfricanAmerican_low diversity         0.05471         0.03565         1.53493         0.12480\n",
      "R_AfricanAmerican_moderate diversity         0.00730         0.03352         0.21778         0.82760\n",
      "R_AmericanIndianAlaska_low diversity         0.19737         0.04564         4.32458         0.00002\n",
      "R_Asian_low diversity         0.08235         0.03478         2.36752         0.01791\n",
      "R_Asian_moderate diversity         0.04530         0.03312         1.36792         0.17134\n",
      "R_HispanicLatinx_low diversity        -0.03423         0.03324        -1.02988         0.30307\n",
      "R_HispanicLatinx_moderate diversity         0.00758         0.03298         0.22978         0.81826\n",
      "R_White_low diversity         0.10437         0.03342         3.12241         0.00179\n",
      "R_White_moderate diversity         0.05780         0.03298         1.75271         0.07965\n",
      "      high diversity         0.02134         0.03310         0.64457         0.51921\n",
      "                Noon         0.02495         0.00107        23.26927         0.00000\n",
      "           Afternoon         0.01916         0.00107        17.90518         0.00000\n",
      "             Evening        -0.00150         0.00111        -1.35040         0.17689\n",
      "          Drugstores         0.00431         0.00772         0.55849         0.57651\n",
      "Entertainment Establishments         0.00786         0.00774         1.01510         0.31006\n",
      "           Groceries         0.01861         0.00767         2.42633         0.01525\n",
      "         Restaurants         0.01898         0.00733         2.58797         0.00965\n",
      "            Services         0.00808         0.00733         1.10227         0.27034\n",
      "              lambda         0.62534    \n",
      "------------------------------------------------------------------------------------\n",
      "================================ END OF REPORT =====================================\n"
     ]
    }
   ],
   "source": [
    "reg_SEM=GM_Error(y.values, X.values, w=knn, name_y= y.name,\n",
    "          name_x= X.columns.tolist())\n",
    "print(reg_SEM.summary)"
   ]
  },
  {
   "cell_type": "code",
   "execution_count": 185,
   "id": "2ff789ef",
   "metadata": {},
   "outputs": [
    {
     "name": "stdout",
     "output_type": "stream",
     "text": [
      "REGRESSION RESULTS\n",
      "------------------\n",
      "\n",
      "SUMMARY OF OUTPUT: SPATIAL TWO STAGE LEAST SQUARES WITH SLX (SPATIAL DURBIN MODEL)\n",
      "----------------------------------------------------------------------------------\n",
      "Data set            :     unknown\n",
      "Weights matrix      :     unknown\n",
      "Dependent Variable  :scaled_entropy                Number of Observations:       50806\n",
      "Mean dependent var  :      0.6372                Number of Variables   :          40\n",
      "S.D. dependent var  :      0.1408                Degrees of Freedom    :       50766\n",
      "Pseudo R-squared    :      0.5883\n",
      "Spatial Pseudo R-squared:  0.3411\n",
      "\n",
      "------------------------------------------------------------------------------------\n",
      "            Variable     Coefficient       Std.Error     z-Statistic     Probability\n",
      "------------------------------------------------------------------------------------\n",
      "            CONSTANT         0.03792         0.03567         1.06303         0.28777\n",
      " home_scaled_entropy        -0.00212         0.01437        -0.14734         0.88286\n",
      "R_AfricanAmerican_low diversity         0.03794         0.03879         0.97808         0.32803\n",
      "R_AfricanAmerican_moderate diversity         0.05104         0.03549         1.43813         0.15040\n",
      "R_AmericanIndianAlaska_low diversity         0.10589         0.05793         1.82774         0.06759\n",
      "R_Asian_low diversity         0.09764         0.03753         2.60142         0.00928\n",
      "R_Asian_moderate diversity         0.08077         0.03455         2.33812         0.01938\n",
      "R_HispanicLatinx_low diversity         0.05613         0.03470         1.61740         0.10579\n",
      "R_HispanicLatinx_moderate diversity         0.06171         0.03415         1.80709         0.07075\n",
      "R_White_low diversity         0.07500         0.03502         2.14133         0.03225\n",
      "R_White_moderate diversity         0.07385         0.03408         2.16706         0.03023\n",
      "      high diversity         0.07123         0.03440         2.07069         0.03839\n",
      "                Noon         0.02451         0.00141        17.39855         0.00000\n",
      "           Afternoon         0.01881         0.00143        13.14532         0.00000\n",
      "             Evening        -0.00171         0.00137        -1.24976         0.21139\n",
      "          Drugstores        -0.00410         0.00775        -0.52889         0.59688\n",
      "Entertainment Establishments        -0.00563         0.00783        -0.71828         0.47259\n",
      "           Groceries         0.00870         0.00771         1.12899         0.25890\n",
      "         Restaurants         0.00771         0.00738         1.04419         0.29640\n",
      "            Services        -0.00101         0.00737        -0.13704         0.89100\n",
      "W_home_scaled_entropy         0.01701         0.02774         0.61312         0.53979\n",
      "W_R_AfricanAmerican_low diversity        -0.04641         0.04069        -1.14055         0.25406\n",
      "W_R_AfricanAmerican_moderate diversity        -0.07100         0.03682        -1.92852         0.05379\n",
      "W_R_AmericanIndianAlaska_low diversity        -0.11146         0.06163        -1.80861         0.07051\n",
      "W_R_Asian_low diversity        -0.11008         0.03946        -2.78951         0.00528\n",
      "W_R_Asian_moderate diversity        -0.09818         0.03593        -2.73251         0.00629\n",
      "W_R_HispanicLatinx_low diversity        -0.07549         0.03594        -2.10036         0.03570\n",
      "W_R_HispanicLatinx_moderate diversity        -0.07962         0.03536        -2.25158         0.02435\n",
      "W_R_White_low diversity        -0.09125         0.03724        -2.45038         0.01427\n",
      "W_R_White_moderate diversity        -0.09147         0.03560        -2.56959         0.01018\n",
      "    W_high diversity        -0.09121         0.03566        -2.55764         0.01054\n",
      "              W_Noon        -0.02799         0.00702        -3.98396         0.00007\n",
      "         W_Afternoon        -0.02152         0.00712        -3.02326         0.00250\n",
      "           W_Evening         0.00069         0.00656         0.10497         0.91640\n",
      "        W_Drugstores         0.00271         0.01301         0.20849         0.83484\n",
      "W_Entertainment Establishments         0.00350         0.01333         0.26259         0.79287\n",
      "         W_Groceries        -0.00696         0.01314        -0.52991         0.59617\n",
      "       W_Restaurants        -0.00760         0.01272        -0.59777         0.54999\n",
      "          W_Services        -0.00166         0.01254        -0.13256         0.89454\n",
      "    W_scaled_entropy         0.95974         0.06551        14.65055         0.00000\n",
      "------------------------------------------------------------------------------------\n",
      "Instrumented: W_scaled_entropy\n",
      "Instruments: W_W_Afternoon, W_W_Drugstores, W_W_Entertainment\n",
      "             Establishments, W_W_Evening, W_W_Groceries, W_W_Noon,\n",
      "             W_W_R_AfricanAmerican_low diversity,\n",
      "             W_W_R_AfricanAmerican_moderate diversity,\n",
      "             W_W_R_AmericanIndianAlaska_low diversity, W_W_R_Asian_low\n",
      "             diversity, W_W_R_Asian_moderate diversity,\n",
      "             W_W_R_HispanicLatinx_low diversity,\n",
      "             W_W_R_HispanicLatinx_moderate diversity, W_W_R_White_low\n",
      "             diversity, W_W_R_White_moderate diversity, W_W_Restaurants,\n",
      "             W_W_Services, W_W_high diversity, W_W_home_scaled_entropy\n",
      "================================ END OF REPORT =====================================\n"
     ]
    }
   ],
   "source": [
    "# Fit Spatial Durbin Model\n",
    "reg_SDM=GM_Lag(y.values, X.values, w=knn, name_y= y.name,\n",
    "          name_x= X.columns.tolist(), w_lags=1, slx_lags=1) \n",
    "print(reg_SDM.summary)"
   ]
  },
  {
   "cell_type": "code",
   "execution_count": null,
   "id": "b51167da-2d33-4822-b857-c21bbff8419b",
   "metadata": {},
   "outputs": [],
   "source": []
  },
  {
   "cell_type": "code",
   "execution_count": null,
   "id": "ec196637-9d9e-44c2-a6e5-b754984951dc",
   "metadata": {},
   "outputs": [],
   "source": []
  },
  {
   "cell_type": "code",
   "execution_count": null,
   "id": "59151a7c-623e-4688-b7b4-66eafc61cb80",
   "metadata": {},
   "outputs": [],
   "source": []
  }
 ],
 "metadata": {
  "kernelspec": {
   "display_name": "Python 3 (ipykernel)",
   "language": "python",
   "name": "python3"
  },
  "language_info": {
   "codemirror_mode": {
    "name": "ipython",
    "version": 3
   },
   "file_extension": ".py",
   "mimetype": "text/x-python",
   "name": "python",
   "nbconvert_exporter": "python",
   "pygments_lexer": "ipython3",
   "version": "3.11.8"
  }
 },
 "nbformat": 4,
 "nbformat_minor": 5
}
